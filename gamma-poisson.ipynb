{
  "nbformat": 4,
  "nbformat_minor": 0,
  "metadata": {
    "colab": {
      "name": "EMNLP-Findings-Poisson",
      "provenance": [],
      "collapsed_sections": [],
      "toc_visible": true,
      "authorship_tag": "ABX9TyPobJlqiW85pGwBoBbFiNFs",
      "include_colab_link": true
    },
    "kernelspec": {
      "name": "python3",
      "display_name": "Python 3"
    },
    "language_info": {
      "name": "python"
    },
    "widgets": {
      "application/vnd.jupyter.widget-state+json": {
        "cdd0f088535f4427a9c808b297cee2af": {
          "model_module": "@jupyter-widgets/controls",
          "model_name": "HBoxModel",
          "model_module_version": "1.5.0",
          "state": {
            "_view_name": "HBoxView",
            "_dom_classes": [],
            "_model_name": "HBoxModel",
            "_view_module": "@jupyter-widgets/controls",
            "_model_module_version": "1.5.0",
            "_view_count": null,
            "_view_module_version": "1.5.0",
            "box_style": "",
            "layout": "IPY_MODEL_74178aba00b64b489619e9bf9ea20b50",
            "_model_module": "@jupyter-widgets/controls",
            "children": [
              "IPY_MODEL_9346deeb60cc4ea6815828eb857f20a9",
              "IPY_MODEL_fb2789bf49174e95b0d7982476e5de97",
              "IPY_MODEL_2db5963cbd1946da9796253418b7f2c3"
            ]
          }
        },
        "74178aba00b64b489619e9bf9ea20b50": {
          "model_module": "@jupyter-widgets/base",
          "model_name": "LayoutModel",
          "model_module_version": "1.2.0",
          "state": {
            "_view_name": "LayoutView",
            "grid_template_rows": null,
            "right": null,
            "justify_content": null,
            "_view_module": "@jupyter-widgets/base",
            "overflow": null,
            "_model_module_version": "1.2.0",
            "_view_count": null,
            "flex_flow": null,
            "width": null,
            "min_width": null,
            "border": null,
            "align_items": null,
            "bottom": null,
            "_model_module": "@jupyter-widgets/base",
            "top": null,
            "grid_column": null,
            "overflow_y": null,
            "overflow_x": null,
            "grid_auto_flow": null,
            "grid_area": null,
            "grid_template_columns": null,
            "flex": null,
            "_model_name": "LayoutModel",
            "justify_items": null,
            "grid_row": null,
            "max_height": null,
            "align_content": null,
            "visibility": null,
            "align_self": null,
            "height": null,
            "min_height": null,
            "padding": null,
            "grid_auto_rows": null,
            "grid_gap": null,
            "max_width": null,
            "order": null,
            "_view_module_version": "1.2.0",
            "grid_template_areas": null,
            "object_position": null,
            "object_fit": null,
            "grid_auto_columns": null,
            "margin": null,
            "display": null,
            "left": null
          }
        },
        "9346deeb60cc4ea6815828eb857f20a9": {
          "model_module": "@jupyter-widgets/controls",
          "model_name": "HTMLModel",
          "model_module_version": "1.5.0",
          "state": {
            "_view_name": "HTMLView",
            "style": "IPY_MODEL_75a22d99c5694b81ba7e41215fb456b8",
            "_dom_classes": [],
            "description": "",
            "_model_name": "HTMLModel",
            "placeholder": "​",
            "_view_module": "@jupyter-widgets/controls",
            "_model_module_version": "1.5.0",
            "value": "Running chain 0: 100%",
            "_view_count": null,
            "_view_module_version": "1.5.0",
            "description_tooltip": null,
            "_model_module": "@jupyter-widgets/controls",
            "layout": "IPY_MODEL_7776d61e2bfd4b3aa9c2aaf85b2b6787"
          }
        },
        "fb2789bf49174e95b0d7982476e5de97": {
          "model_module": "@jupyter-widgets/controls",
          "model_name": "FloatProgressModel",
          "model_module_version": "1.5.0",
          "state": {
            "_view_name": "ProgressView",
            "style": "IPY_MODEL_ce3557256d8d462e87ef5a31d0e5289f",
            "_dom_classes": [],
            "description": "",
            "_model_name": "FloatProgressModel",
            "bar_style": "success",
            "max": 7000,
            "_view_module": "@jupyter-widgets/controls",
            "_model_module_version": "1.5.0",
            "value": 7000,
            "_view_count": null,
            "_view_module_version": "1.5.0",
            "orientation": "horizontal",
            "min": 0,
            "description_tooltip": null,
            "_model_module": "@jupyter-widgets/controls",
            "layout": "IPY_MODEL_c6c5639cc3a04760b4447b790bc9f0ef"
          }
        },
        "2db5963cbd1946da9796253418b7f2c3": {
          "model_module": "@jupyter-widgets/controls",
          "model_name": "HTMLModel",
          "model_module_version": "1.5.0",
          "state": {
            "_view_name": "HTMLView",
            "style": "IPY_MODEL_f4c7b48af2ce468bb154cbfdaf06b111",
            "_dom_classes": [],
            "description": "",
            "_model_name": "HTMLModel",
            "placeholder": "​",
            "_view_module": "@jupyter-widgets/controls",
            "_model_module_version": "1.5.0",
            "value": " 7000/7000 [00:14&lt;00:00, 1354.87it/s]",
            "_view_count": null,
            "_view_module_version": "1.5.0",
            "description_tooltip": null,
            "_model_module": "@jupyter-widgets/controls",
            "layout": "IPY_MODEL_1058ae9a6ddf46eca9e98b585886998c"
          }
        },
        "75a22d99c5694b81ba7e41215fb456b8": {
          "model_module": "@jupyter-widgets/controls",
          "model_name": "DescriptionStyleModel",
          "model_module_version": "1.5.0",
          "state": {
            "_view_name": "StyleView",
            "_model_name": "DescriptionStyleModel",
            "description_width": "",
            "_view_module": "@jupyter-widgets/base",
            "_model_module_version": "1.5.0",
            "_view_count": null,
            "_view_module_version": "1.2.0",
            "_model_module": "@jupyter-widgets/controls"
          }
        },
        "7776d61e2bfd4b3aa9c2aaf85b2b6787": {
          "model_module": "@jupyter-widgets/base",
          "model_name": "LayoutModel",
          "model_module_version": "1.2.0",
          "state": {
            "_view_name": "LayoutView",
            "grid_template_rows": null,
            "right": null,
            "justify_content": null,
            "_view_module": "@jupyter-widgets/base",
            "overflow": null,
            "_model_module_version": "1.2.0",
            "_view_count": null,
            "flex_flow": null,
            "width": null,
            "min_width": null,
            "border": null,
            "align_items": null,
            "bottom": null,
            "_model_module": "@jupyter-widgets/base",
            "top": null,
            "grid_column": null,
            "overflow_y": null,
            "overflow_x": null,
            "grid_auto_flow": null,
            "grid_area": null,
            "grid_template_columns": null,
            "flex": null,
            "_model_name": "LayoutModel",
            "justify_items": null,
            "grid_row": null,
            "max_height": null,
            "align_content": null,
            "visibility": null,
            "align_self": null,
            "height": null,
            "min_height": null,
            "padding": null,
            "grid_auto_rows": null,
            "grid_gap": null,
            "max_width": null,
            "order": null,
            "_view_module_version": "1.2.0",
            "grid_template_areas": null,
            "object_position": null,
            "object_fit": null,
            "grid_auto_columns": null,
            "margin": null,
            "display": null,
            "left": null
          }
        },
        "ce3557256d8d462e87ef5a31d0e5289f": {
          "model_module": "@jupyter-widgets/controls",
          "model_name": "ProgressStyleModel",
          "model_module_version": "1.5.0",
          "state": {
            "_view_name": "StyleView",
            "_model_name": "ProgressStyleModel",
            "description_width": "",
            "_view_module": "@jupyter-widgets/base",
            "_model_module_version": "1.5.0",
            "_view_count": null,
            "_view_module_version": "1.2.0",
            "bar_color": null,
            "_model_module": "@jupyter-widgets/controls"
          }
        },
        "c6c5639cc3a04760b4447b790bc9f0ef": {
          "model_module": "@jupyter-widgets/base",
          "model_name": "LayoutModel",
          "model_module_version": "1.2.0",
          "state": {
            "_view_name": "LayoutView",
            "grid_template_rows": null,
            "right": null,
            "justify_content": null,
            "_view_module": "@jupyter-widgets/base",
            "overflow": null,
            "_model_module_version": "1.2.0",
            "_view_count": null,
            "flex_flow": null,
            "width": null,
            "min_width": null,
            "border": null,
            "align_items": null,
            "bottom": null,
            "_model_module": "@jupyter-widgets/base",
            "top": null,
            "grid_column": null,
            "overflow_y": null,
            "overflow_x": null,
            "grid_auto_flow": null,
            "grid_area": null,
            "grid_template_columns": null,
            "flex": null,
            "_model_name": "LayoutModel",
            "justify_items": null,
            "grid_row": null,
            "max_height": null,
            "align_content": null,
            "visibility": null,
            "align_self": null,
            "height": null,
            "min_height": null,
            "padding": null,
            "grid_auto_rows": null,
            "grid_gap": null,
            "max_width": null,
            "order": null,
            "_view_module_version": "1.2.0",
            "grid_template_areas": null,
            "object_position": null,
            "object_fit": null,
            "grid_auto_columns": null,
            "margin": null,
            "display": null,
            "left": null
          }
        },
        "f4c7b48af2ce468bb154cbfdaf06b111": {
          "model_module": "@jupyter-widgets/controls",
          "model_name": "DescriptionStyleModel",
          "model_module_version": "1.5.0",
          "state": {
            "_view_name": "StyleView",
            "_model_name": "DescriptionStyleModel",
            "description_width": "",
            "_view_module": "@jupyter-widgets/base",
            "_model_module_version": "1.5.0",
            "_view_count": null,
            "_view_module_version": "1.2.0",
            "_model_module": "@jupyter-widgets/controls"
          }
        },
        "1058ae9a6ddf46eca9e98b585886998c": {
          "model_module": "@jupyter-widgets/base",
          "model_name": "LayoutModel",
          "model_module_version": "1.2.0",
          "state": {
            "_view_name": "LayoutView",
            "grid_template_rows": null,
            "right": null,
            "justify_content": null,
            "_view_module": "@jupyter-widgets/base",
            "overflow": null,
            "_model_module_version": "1.2.0",
            "_view_count": null,
            "flex_flow": null,
            "width": null,
            "min_width": null,
            "border": null,
            "align_items": null,
            "bottom": null,
            "_model_module": "@jupyter-widgets/base",
            "top": null,
            "grid_column": null,
            "overflow_y": null,
            "overflow_x": null,
            "grid_auto_flow": null,
            "grid_area": null,
            "grid_template_columns": null,
            "flex": null,
            "_model_name": "LayoutModel",
            "justify_items": null,
            "grid_row": null,
            "max_height": null,
            "align_content": null,
            "visibility": null,
            "align_self": null,
            "height": null,
            "min_height": null,
            "padding": null,
            "grid_auto_rows": null,
            "grid_gap": null,
            "max_width": null,
            "order": null,
            "_view_module_version": "1.2.0",
            "grid_template_areas": null,
            "object_position": null,
            "object_fit": null,
            "grid_auto_columns": null,
            "margin": null,
            "display": null,
            "left": null
          }
        },
        "6308f70a34c942d1995e2e03eeb393bc": {
          "model_module": "@jupyter-widgets/controls",
          "model_name": "HBoxModel",
          "model_module_version": "1.5.0",
          "state": {
            "_view_name": "HBoxView",
            "_dom_classes": [],
            "_model_name": "HBoxModel",
            "_view_module": "@jupyter-widgets/controls",
            "_model_module_version": "1.5.0",
            "_view_count": null,
            "_view_module_version": "1.5.0",
            "box_style": "",
            "layout": "IPY_MODEL_e6d31bcf01b44112901da50bf0b5689d",
            "_model_module": "@jupyter-widgets/controls",
            "children": [
              "IPY_MODEL_7f62d145dbb4472cadd53a977b082849",
              "IPY_MODEL_0750a6cbb1464a73817e645213d4895c",
              "IPY_MODEL_36ea8ac0f31a488cb1dae2542eaa3ac5"
            ]
          }
        },
        "e6d31bcf01b44112901da50bf0b5689d": {
          "model_module": "@jupyter-widgets/base",
          "model_name": "LayoutModel",
          "model_module_version": "1.2.0",
          "state": {
            "_view_name": "LayoutView",
            "grid_template_rows": null,
            "right": null,
            "justify_content": null,
            "_view_module": "@jupyter-widgets/base",
            "overflow": null,
            "_model_module_version": "1.2.0",
            "_view_count": null,
            "flex_flow": null,
            "width": null,
            "min_width": null,
            "border": null,
            "align_items": null,
            "bottom": null,
            "_model_module": "@jupyter-widgets/base",
            "top": null,
            "grid_column": null,
            "overflow_y": null,
            "overflow_x": null,
            "grid_auto_flow": null,
            "grid_area": null,
            "grid_template_columns": null,
            "flex": null,
            "_model_name": "LayoutModel",
            "justify_items": null,
            "grid_row": null,
            "max_height": null,
            "align_content": null,
            "visibility": null,
            "align_self": null,
            "height": null,
            "min_height": null,
            "padding": null,
            "grid_auto_rows": null,
            "grid_gap": null,
            "max_width": null,
            "order": null,
            "_view_module_version": "1.2.0",
            "grid_template_areas": null,
            "object_position": null,
            "object_fit": null,
            "grid_auto_columns": null,
            "margin": null,
            "display": null,
            "left": null
          }
        },
        "7f62d145dbb4472cadd53a977b082849": {
          "model_module": "@jupyter-widgets/controls",
          "model_name": "HTMLModel",
          "model_module_version": "1.5.0",
          "state": {
            "_view_name": "HTMLView",
            "style": "IPY_MODEL_b004c4f9165d462295e7f7aad71e7c61",
            "_dom_classes": [],
            "description": "",
            "_model_name": "HTMLModel",
            "placeholder": "​",
            "_view_module": "@jupyter-widgets/controls",
            "_model_module_version": "1.5.0",
            "value": "Running chain 1: 100%",
            "_view_count": null,
            "_view_module_version": "1.5.0",
            "description_tooltip": null,
            "_model_module": "@jupyter-widgets/controls",
            "layout": "IPY_MODEL_7dd8866dd3814ef3937756cc69a35e83"
          }
        },
        "0750a6cbb1464a73817e645213d4895c": {
          "model_module": "@jupyter-widgets/controls",
          "model_name": "FloatProgressModel",
          "model_module_version": "1.5.0",
          "state": {
            "_view_name": "ProgressView",
            "style": "IPY_MODEL_3d1210ad913e43f58ca3e81e2accf709",
            "_dom_classes": [],
            "description": "",
            "_model_name": "FloatProgressModel",
            "bar_style": "success",
            "max": 7000,
            "_view_module": "@jupyter-widgets/controls",
            "_model_module_version": "1.5.0",
            "value": 7000,
            "_view_count": null,
            "_view_module_version": "1.5.0",
            "orientation": "horizontal",
            "min": 0,
            "description_tooltip": null,
            "_model_module": "@jupyter-widgets/controls",
            "layout": "IPY_MODEL_8a835e17c9f3476ead0ff1838de2a47a"
          }
        },
        "36ea8ac0f31a488cb1dae2542eaa3ac5": {
          "model_module": "@jupyter-widgets/controls",
          "model_name": "HTMLModel",
          "model_module_version": "1.5.0",
          "state": {
            "_view_name": "HTMLView",
            "style": "IPY_MODEL_e2353204f97c4c9987e2a71a56f99a92",
            "_dom_classes": [],
            "description": "",
            "_model_name": "HTMLModel",
            "placeholder": "​",
            "_view_module": "@jupyter-widgets/controls",
            "_model_module_version": "1.5.0",
            "value": " 7000/7000 [00:14&lt;00:00, 1068.04it/s]",
            "_view_count": null,
            "_view_module_version": "1.5.0",
            "description_tooltip": null,
            "_model_module": "@jupyter-widgets/controls",
            "layout": "IPY_MODEL_e35dcd893e8e446eba4cde8bac137c99"
          }
        },
        "b004c4f9165d462295e7f7aad71e7c61": {
          "model_module": "@jupyter-widgets/controls",
          "model_name": "DescriptionStyleModel",
          "model_module_version": "1.5.0",
          "state": {
            "_view_name": "StyleView",
            "_model_name": "DescriptionStyleModel",
            "description_width": "",
            "_view_module": "@jupyter-widgets/base",
            "_model_module_version": "1.5.0",
            "_view_count": null,
            "_view_module_version": "1.2.0",
            "_model_module": "@jupyter-widgets/controls"
          }
        },
        "7dd8866dd3814ef3937756cc69a35e83": {
          "model_module": "@jupyter-widgets/base",
          "model_name": "LayoutModel",
          "model_module_version": "1.2.0",
          "state": {
            "_view_name": "LayoutView",
            "grid_template_rows": null,
            "right": null,
            "justify_content": null,
            "_view_module": "@jupyter-widgets/base",
            "overflow": null,
            "_model_module_version": "1.2.0",
            "_view_count": null,
            "flex_flow": null,
            "width": null,
            "min_width": null,
            "border": null,
            "align_items": null,
            "bottom": null,
            "_model_module": "@jupyter-widgets/base",
            "top": null,
            "grid_column": null,
            "overflow_y": null,
            "overflow_x": null,
            "grid_auto_flow": null,
            "grid_area": null,
            "grid_template_columns": null,
            "flex": null,
            "_model_name": "LayoutModel",
            "justify_items": null,
            "grid_row": null,
            "max_height": null,
            "align_content": null,
            "visibility": null,
            "align_self": null,
            "height": null,
            "min_height": null,
            "padding": null,
            "grid_auto_rows": null,
            "grid_gap": null,
            "max_width": null,
            "order": null,
            "_view_module_version": "1.2.0",
            "grid_template_areas": null,
            "object_position": null,
            "object_fit": null,
            "grid_auto_columns": null,
            "margin": null,
            "display": null,
            "left": null
          }
        },
        "3d1210ad913e43f58ca3e81e2accf709": {
          "model_module": "@jupyter-widgets/controls",
          "model_name": "ProgressStyleModel",
          "model_module_version": "1.5.0",
          "state": {
            "_view_name": "StyleView",
            "_model_name": "ProgressStyleModel",
            "description_width": "",
            "_view_module": "@jupyter-widgets/base",
            "_model_module_version": "1.5.0",
            "_view_count": null,
            "_view_module_version": "1.2.0",
            "bar_color": null,
            "_model_module": "@jupyter-widgets/controls"
          }
        },
        "8a835e17c9f3476ead0ff1838de2a47a": {
          "model_module": "@jupyter-widgets/base",
          "model_name": "LayoutModel",
          "model_module_version": "1.2.0",
          "state": {
            "_view_name": "LayoutView",
            "grid_template_rows": null,
            "right": null,
            "justify_content": null,
            "_view_module": "@jupyter-widgets/base",
            "overflow": null,
            "_model_module_version": "1.2.0",
            "_view_count": null,
            "flex_flow": null,
            "width": null,
            "min_width": null,
            "border": null,
            "align_items": null,
            "bottom": null,
            "_model_module": "@jupyter-widgets/base",
            "top": null,
            "grid_column": null,
            "overflow_y": null,
            "overflow_x": null,
            "grid_auto_flow": null,
            "grid_area": null,
            "grid_template_columns": null,
            "flex": null,
            "_model_name": "LayoutModel",
            "justify_items": null,
            "grid_row": null,
            "max_height": null,
            "align_content": null,
            "visibility": null,
            "align_self": null,
            "height": null,
            "min_height": null,
            "padding": null,
            "grid_auto_rows": null,
            "grid_gap": null,
            "max_width": null,
            "order": null,
            "_view_module_version": "1.2.0",
            "grid_template_areas": null,
            "object_position": null,
            "object_fit": null,
            "grid_auto_columns": null,
            "margin": null,
            "display": null,
            "left": null
          }
        },
        "e2353204f97c4c9987e2a71a56f99a92": {
          "model_module": "@jupyter-widgets/controls",
          "model_name": "DescriptionStyleModel",
          "model_module_version": "1.5.0",
          "state": {
            "_view_name": "StyleView",
            "_model_name": "DescriptionStyleModel",
            "description_width": "",
            "_view_module": "@jupyter-widgets/base",
            "_model_module_version": "1.5.0",
            "_view_count": null,
            "_view_module_version": "1.2.0",
            "_model_module": "@jupyter-widgets/controls"
          }
        },
        "e35dcd893e8e446eba4cde8bac137c99": {
          "model_module": "@jupyter-widgets/base",
          "model_name": "LayoutModel",
          "model_module_version": "1.2.0",
          "state": {
            "_view_name": "LayoutView",
            "grid_template_rows": null,
            "right": null,
            "justify_content": null,
            "_view_module": "@jupyter-widgets/base",
            "overflow": null,
            "_model_module_version": "1.2.0",
            "_view_count": null,
            "flex_flow": null,
            "width": null,
            "min_width": null,
            "border": null,
            "align_items": null,
            "bottom": null,
            "_model_module": "@jupyter-widgets/base",
            "top": null,
            "grid_column": null,
            "overflow_y": null,
            "overflow_x": null,
            "grid_auto_flow": null,
            "grid_area": null,
            "grid_template_columns": null,
            "flex": null,
            "_model_name": "LayoutModel",
            "justify_items": null,
            "grid_row": null,
            "max_height": null,
            "align_content": null,
            "visibility": null,
            "align_self": null,
            "height": null,
            "min_height": null,
            "padding": null,
            "grid_auto_rows": null,
            "grid_gap": null,
            "max_width": null,
            "order": null,
            "_view_module_version": "1.2.0",
            "grid_template_areas": null,
            "object_position": null,
            "object_fit": null,
            "grid_auto_columns": null,
            "margin": null,
            "display": null,
            "left": null
          }
        },
        "f43ba5f09fea41fcafc01a17157cc61e": {
          "model_module": "@jupyter-widgets/controls",
          "model_name": "HBoxModel",
          "model_module_version": "1.5.0",
          "state": {
            "_view_name": "HBoxView",
            "_dom_classes": [],
            "_model_name": "HBoxModel",
            "_view_module": "@jupyter-widgets/controls",
            "_model_module_version": "1.5.0",
            "_view_count": null,
            "_view_module_version": "1.5.0",
            "box_style": "",
            "layout": "IPY_MODEL_9c6bf53f986c4deca7607aeea1fea1af",
            "_model_module": "@jupyter-widgets/controls",
            "children": [
              "IPY_MODEL_93f1e31a12f44fb891ac58ceed4da72c",
              "IPY_MODEL_2db14fd1528540a3b5bc1bd7df880944",
              "IPY_MODEL_192168ad32fb4f36b91701f661559810"
            ]
          }
        },
        "9c6bf53f986c4deca7607aeea1fea1af": {
          "model_module": "@jupyter-widgets/base",
          "model_name": "LayoutModel",
          "model_module_version": "1.2.0",
          "state": {
            "_view_name": "LayoutView",
            "grid_template_rows": null,
            "right": null,
            "justify_content": null,
            "_view_module": "@jupyter-widgets/base",
            "overflow": null,
            "_model_module_version": "1.2.0",
            "_view_count": null,
            "flex_flow": null,
            "width": null,
            "min_width": null,
            "border": null,
            "align_items": null,
            "bottom": null,
            "_model_module": "@jupyter-widgets/base",
            "top": null,
            "grid_column": null,
            "overflow_y": null,
            "overflow_x": null,
            "grid_auto_flow": null,
            "grid_area": null,
            "grid_template_columns": null,
            "flex": null,
            "_model_name": "LayoutModel",
            "justify_items": null,
            "grid_row": null,
            "max_height": null,
            "align_content": null,
            "visibility": null,
            "align_self": null,
            "height": null,
            "min_height": null,
            "padding": null,
            "grid_auto_rows": null,
            "grid_gap": null,
            "max_width": null,
            "order": null,
            "_view_module_version": "1.2.0",
            "grid_template_areas": null,
            "object_position": null,
            "object_fit": null,
            "grid_auto_columns": null,
            "margin": null,
            "display": null,
            "left": null
          }
        },
        "93f1e31a12f44fb891ac58ceed4da72c": {
          "model_module": "@jupyter-widgets/controls",
          "model_name": "HTMLModel",
          "model_module_version": "1.5.0",
          "state": {
            "_view_name": "HTMLView",
            "style": "IPY_MODEL_c9a61d8705d2452281f36ab6f4ec01d9",
            "_dom_classes": [],
            "description": "",
            "_model_name": "HTMLModel",
            "placeholder": "​",
            "_view_module": "@jupyter-widgets/controls",
            "_model_module_version": "1.5.0",
            "value": "Running chain 2: 100%",
            "_view_count": null,
            "_view_module_version": "1.5.0",
            "description_tooltip": null,
            "_model_module": "@jupyter-widgets/controls",
            "layout": "IPY_MODEL_e278cb97477546ed9f78690ad80b81d8"
          }
        },
        "2db14fd1528540a3b5bc1bd7df880944": {
          "model_module": "@jupyter-widgets/controls",
          "model_name": "FloatProgressModel",
          "model_module_version": "1.5.0",
          "state": {
            "_view_name": "ProgressView",
            "style": "IPY_MODEL_0995f969ebf0431a83a44603a2d66ef3",
            "_dom_classes": [],
            "description": "",
            "_model_name": "FloatProgressModel",
            "bar_style": "success",
            "max": 7000,
            "_view_module": "@jupyter-widgets/controls",
            "_model_module_version": "1.5.0",
            "value": 7000,
            "_view_count": null,
            "_view_module_version": "1.5.0",
            "orientation": "horizontal",
            "min": 0,
            "description_tooltip": null,
            "_model_module": "@jupyter-widgets/controls",
            "layout": "IPY_MODEL_4454d2c57df34da39e484f6b44b6e7d9"
          }
        },
        "192168ad32fb4f36b91701f661559810": {
          "model_module": "@jupyter-widgets/controls",
          "model_name": "HTMLModel",
          "model_module_version": "1.5.0",
          "state": {
            "_view_name": "HTMLView",
            "style": "IPY_MODEL_49235c6575124845abd4f585383e3329",
            "_dom_classes": [],
            "description": "",
            "_model_name": "HTMLModel",
            "placeholder": "​",
            "_view_module": "@jupyter-widgets/controls",
            "_model_module_version": "1.5.0",
            "value": " 7000/7000 [00:14&lt;00:00, 1159.45it/s]",
            "_view_count": null,
            "_view_module_version": "1.5.0",
            "description_tooltip": null,
            "_model_module": "@jupyter-widgets/controls",
            "layout": "IPY_MODEL_a8fb59d6512441e794d07051d25e9575"
          }
        },
        "c9a61d8705d2452281f36ab6f4ec01d9": {
          "model_module": "@jupyter-widgets/controls",
          "model_name": "DescriptionStyleModel",
          "model_module_version": "1.5.0",
          "state": {
            "_view_name": "StyleView",
            "_model_name": "DescriptionStyleModel",
            "description_width": "",
            "_view_module": "@jupyter-widgets/base",
            "_model_module_version": "1.5.0",
            "_view_count": null,
            "_view_module_version": "1.2.0",
            "_model_module": "@jupyter-widgets/controls"
          }
        },
        "e278cb97477546ed9f78690ad80b81d8": {
          "model_module": "@jupyter-widgets/base",
          "model_name": "LayoutModel",
          "model_module_version": "1.2.0",
          "state": {
            "_view_name": "LayoutView",
            "grid_template_rows": null,
            "right": null,
            "justify_content": null,
            "_view_module": "@jupyter-widgets/base",
            "overflow": null,
            "_model_module_version": "1.2.0",
            "_view_count": null,
            "flex_flow": null,
            "width": null,
            "min_width": null,
            "border": null,
            "align_items": null,
            "bottom": null,
            "_model_module": "@jupyter-widgets/base",
            "top": null,
            "grid_column": null,
            "overflow_y": null,
            "overflow_x": null,
            "grid_auto_flow": null,
            "grid_area": null,
            "grid_template_columns": null,
            "flex": null,
            "_model_name": "LayoutModel",
            "justify_items": null,
            "grid_row": null,
            "max_height": null,
            "align_content": null,
            "visibility": null,
            "align_self": null,
            "height": null,
            "min_height": null,
            "padding": null,
            "grid_auto_rows": null,
            "grid_gap": null,
            "max_width": null,
            "order": null,
            "_view_module_version": "1.2.0",
            "grid_template_areas": null,
            "object_position": null,
            "object_fit": null,
            "grid_auto_columns": null,
            "margin": null,
            "display": null,
            "left": null
          }
        },
        "0995f969ebf0431a83a44603a2d66ef3": {
          "model_module": "@jupyter-widgets/controls",
          "model_name": "ProgressStyleModel",
          "model_module_version": "1.5.0",
          "state": {
            "_view_name": "StyleView",
            "_model_name": "ProgressStyleModel",
            "description_width": "",
            "_view_module": "@jupyter-widgets/base",
            "_model_module_version": "1.5.0",
            "_view_count": null,
            "_view_module_version": "1.2.0",
            "bar_color": null,
            "_model_module": "@jupyter-widgets/controls"
          }
        },
        "4454d2c57df34da39e484f6b44b6e7d9": {
          "model_module": "@jupyter-widgets/base",
          "model_name": "LayoutModel",
          "model_module_version": "1.2.0",
          "state": {
            "_view_name": "LayoutView",
            "grid_template_rows": null,
            "right": null,
            "justify_content": null,
            "_view_module": "@jupyter-widgets/base",
            "overflow": null,
            "_model_module_version": "1.2.0",
            "_view_count": null,
            "flex_flow": null,
            "width": null,
            "min_width": null,
            "border": null,
            "align_items": null,
            "bottom": null,
            "_model_module": "@jupyter-widgets/base",
            "top": null,
            "grid_column": null,
            "overflow_y": null,
            "overflow_x": null,
            "grid_auto_flow": null,
            "grid_area": null,
            "grid_template_columns": null,
            "flex": null,
            "_model_name": "LayoutModel",
            "justify_items": null,
            "grid_row": null,
            "max_height": null,
            "align_content": null,
            "visibility": null,
            "align_self": null,
            "height": null,
            "min_height": null,
            "padding": null,
            "grid_auto_rows": null,
            "grid_gap": null,
            "max_width": null,
            "order": null,
            "_view_module_version": "1.2.0",
            "grid_template_areas": null,
            "object_position": null,
            "object_fit": null,
            "grid_auto_columns": null,
            "margin": null,
            "display": null,
            "left": null
          }
        },
        "49235c6575124845abd4f585383e3329": {
          "model_module": "@jupyter-widgets/controls",
          "model_name": "DescriptionStyleModel",
          "model_module_version": "1.5.0",
          "state": {
            "_view_name": "StyleView",
            "_model_name": "DescriptionStyleModel",
            "description_width": "",
            "_view_module": "@jupyter-widgets/base",
            "_model_module_version": "1.5.0",
            "_view_count": null,
            "_view_module_version": "1.2.0",
            "_model_module": "@jupyter-widgets/controls"
          }
        },
        "a8fb59d6512441e794d07051d25e9575": {
          "model_module": "@jupyter-widgets/base",
          "model_name": "LayoutModel",
          "model_module_version": "1.2.0",
          "state": {
            "_view_name": "LayoutView",
            "grid_template_rows": null,
            "right": null,
            "justify_content": null,
            "_view_module": "@jupyter-widgets/base",
            "overflow": null,
            "_model_module_version": "1.2.0",
            "_view_count": null,
            "flex_flow": null,
            "width": null,
            "min_width": null,
            "border": null,
            "align_items": null,
            "bottom": null,
            "_model_module": "@jupyter-widgets/base",
            "top": null,
            "grid_column": null,
            "overflow_y": null,
            "overflow_x": null,
            "grid_auto_flow": null,
            "grid_area": null,
            "grid_template_columns": null,
            "flex": null,
            "_model_name": "LayoutModel",
            "justify_items": null,
            "grid_row": null,
            "max_height": null,
            "align_content": null,
            "visibility": null,
            "align_self": null,
            "height": null,
            "min_height": null,
            "padding": null,
            "grid_auto_rows": null,
            "grid_gap": null,
            "max_width": null,
            "order": null,
            "_view_module_version": "1.2.0",
            "grid_template_areas": null,
            "object_position": null,
            "object_fit": null,
            "grid_auto_columns": null,
            "margin": null,
            "display": null,
            "left": null
          }
        },
        "b33b977ac172475c9ac98eb864c2cfaf": {
          "model_module": "@jupyter-widgets/controls",
          "model_name": "HBoxModel",
          "model_module_version": "1.5.0",
          "state": {
            "_view_name": "HBoxView",
            "_dom_classes": [],
            "_model_name": "HBoxModel",
            "_view_module": "@jupyter-widgets/controls",
            "_model_module_version": "1.5.0",
            "_view_count": null,
            "_view_module_version": "1.5.0",
            "box_style": "",
            "layout": "IPY_MODEL_4d9312307416477f8b9479264c300cbd",
            "_model_module": "@jupyter-widgets/controls",
            "children": [
              "IPY_MODEL_12d158fab1a949239500b201fe040fd9",
              "IPY_MODEL_93292472810448bc8b0c7dd6384ef344",
              "IPY_MODEL_39cc7ce382f3447998cd32be70241e0b"
            ]
          }
        },
        "4d9312307416477f8b9479264c300cbd": {
          "model_module": "@jupyter-widgets/base",
          "model_name": "LayoutModel",
          "model_module_version": "1.2.0",
          "state": {
            "_view_name": "LayoutView",
            "grid_template_rows": null,
            "right": null,
            "justify_content": null,
            "_view_module": "@jupyter-widgets/base",
            "overflow": null,
            "_model_module_version": "1.2.0",
            "_view_count": null,
            "flex_flow": null,
            "width": null,
            "min_width": null,
            "border": null,
            "align_items": null,
            "bottom": null,
            "_model_module": "@jupyter-widgets/base",
            "top": null,
            "grid_column": null,
            "overflow_y": null,
            "overflow_x": null,
            "grid_auto_flow": null,
            "grid_area": null,
            "grid_template_columns": null,
            "flex": null,
            "_model_name": "LayoutModel",
            "justify_items": null,
            "grid_row": null,
            "max_height": null,
            "align_content": null,
            "visibility": null,
            "align_self": null,
            "height": null,
            "min_height": null,
            "padding": null,
            "grid_auto_rows": null,
            "grid_gap": null,
            "max_width": null,
            "order": null,
            "_view_module_version": "1.2.0",
            "grid_template_areas": null,
            "object_position": null,
            "object_fit": null,
            "grid_auto_columns": null,
            "margin": null,
            "display": null,
            "left": null
          }
        },
        "12d158fab1a949239500b201fe040fd9": {
          "model_module": "@jupyter-widgets/controls",
          "model_name": "HTMLModel",
          "model_module_version": "1.5.0",
          "state": {
            "_view_name": "HTMLView",
            "style": "IPY_MODEL_aed98850a14a425f8d65fa3648581202",
            "_dom_classes": [],
            "description": "",
            "_model_name": "HTMLModel",
            "placeholder": "​",
            "_view_module": "@jupyter-widgets/controls",
            "_model_module_version": "1.5.0",
            "value": "Running chain 3: 100%",
            "_view_count": null,
            "_view_module_version": "1.5.0",
            "description_tooltip": null,
            "_model_module": "@jupyter-widgets/controls",
            "layout": "IPY_MODEL_8edf83bc52534efba76ca9df24be177a"
          }
        },
        "93292472810448bc8b0c7dd6384ef344": {
          "model_module": "@jupyter-widgets/controls",
          "model_name": "FloatProgressModel",
          "model_module_version": "1.5.0",
          "state": {
            "_view_name": "ProgressView",
            "style": "IPY_MODEL_45ec0cd533e4494aa03c425a9f93f5f7",
            "_dom_classes": [],
            "description": "",
            "_model_name": "FloatProgressModel",
            "bar_style": "success",
            "max": 7000,
            "_view_module": "@jupyter-widgets/controls",
            "_model_module_version": "1.5.0",
            "value": 7000,
            "_view_count": null,
            "_view_module_version": "1.5.0",
            "orientation": "horizontal",
            "min": 0,
            "description_tooltip": null,
            "_model_module": "@jupyter-widgets/controls",
            "layout": "IPY_MODEL_eb09c3c0cd0547a192ca72fdbdebb6e2"
          }
        },
        "39cc7ce382f3447998cd32be70241e0b": {
          "model_module": "@jupyter-widgets/controls",
          "model_name": "HTMLModel",
          "model_module_version": "1.5.0",
          "state": {
            "_view_name": "HTMLView",
            "style": "IPY_MODEL_df709f854f164860a17c5c2bc0cb47c4",
            "_dom_classes": [],
            "description": "",
            "_model_name": "HTMLModel",
            "placeholder": "​",
            "_view_module": "@jupyter-widgets/controls",
            "_model_module_version": "1.5.0",
            "value": " 7000/7000 [00:14&lt;00:00, 1106.92it/s]",
            "_view_count": null,
            "_view_module_version": "1.5.0",
            "description_tooltip": null,
            "_model_module": "@jupyter-widgets/controls",
            "layout": "IPY_MODEL_86bd82bae9ee483abbfe37c041023754"
          }
        },
        "aed98850a14a425f8d65fa3648581202": {
          "model_module": "@jupyter-widgets/controls",
          "model_name": "DescriptionStyleModel",
          "model_module_version": "1.5.0",
          "state": {
            "_view_name": "StyleView",
            "_model_name": "DescriptionStyleModel",
            "description_width": "",
            "_view_module": "@jupyter-widgets/base",
            "_model_module_version": "1.5.0",
            "_view_count": null,
            "_view_module_version": "1.2.0",
            "_model_module": "@jupyter-widgets/controls"
          }
        },
        "8edf83bc52534efba76ca9df24be177a": {
          "model_module": "@jupyter-widgets/base",
          "model_name": "LayoutModel",
          "model_module_version": "1.2.0",
          "state": {
            "_view_name": "LayoutView",
            "grid_template_rows": null,
            "right": null,
            "justify_content": null,
            "_view_module": "@jupyter-widgets/base",
            "overflow": null,
            "_model_module_version": "1.2.0",
            "_view_count": null,
            "flex_flow": null,
            "width": null,
            "min_width": null,
            "border": null,
            "align_items": null,
            "bottom": null,
            "_model_module": "@jupyter-widgets/base",
            "top": null,
            "grid_column": null,
            "overflow_y": null,
            "overflow_x": null,
            "grid_auto_flow": null,
            "grid_area": null,
            "grid_template_columns": null,
            "flex": null,
            "_model_name": "LayoutModel",
            "justify_items": null,
            "grid_row": null,
            "max_height": null,
            "align_content": null,
            "visibility": null,
            "align_self": null,
            "height": null,
            "min_height": null,
            "padding": null,
            "grid_auto_rows": null,
            "grid_gap": null,
            "max_width": null,
            "order": null,
            "_view_module_version": "1.2.0",
            "grid_template_areas": null,
            "object_position": null,
            "object_fit": null,
            "grid_auto_columns": null,
            "margin": null,
            "display": null,
            "left": null
          }
        },
        "45ec0cd533e4494aa03c425a9f93f5f7": {
          "model_module": "@jupyter-widgets/controls",
          "model_name": "ProgressStyleModel",
          "model_module_version": "1.5.0",
          "state": {
            "_view_name": "StyleView",
            "_model_name": "ProgressStyleModel",
            "description_width": "",
            "_view_module": "@jupyter-widgets/base",
            "_model_module_version": "1.5.0",
            "_view_count": null,
            "_view_module_version": "1.2.0",
            "bar_color": null,
            "_model_module": "@jupyter-widgets/controls"
          }
        },
        "eb09c3c0cd0547a192ca72fdbdebb6e2": {
          "model_module": "@jupyter-widgets/base",
          "model_name": "LayoutModel",
          "model_module_version": "1.2.0",
          "state": {
            "_view_name": "LayoutView",
            "grid_template_rows": null,
            "right": null,
            "justify_content": null,
            "_view_module": "@jupyter-widgets/base",
            "overflow": null,
            "_model_module_version": "1.2.0",
            "_view_count": null,
            "flex_flow": null,
            "width": null,
            "min_width": null,
            "border": null,
            "align_items": null,
            "bottom": null,
            "_model_module": "@jupyter-widgets/base",
            "top": null,
            "grid_column": null,
            "overflow_y": null,
            "overflow_x": null,
            "grid_auto_flow": null,
            "grid_area": null,
            "grid_template_columns": null,
            "flex": null,
            "_model_name": "LayoutModel",
            "justify_items": null,
            "grid_row": null,
            "max_height": null,
            "align_content": null,
            "visibility": null,
            "align_self": null,
            "height": null,
            "min_height": null,
            "padding": null,
            "grid_auto_rows": null,
            "grid_gap": null,
            "max_width": null,
            "order": null,
            "_view_module_version": "1.2.0",
            "grid_template_areas": null,
            "object_position": null,
            "object_fit": null,
            "grid_auto_columns": null,
            "margin": null,
            "display": null,
            "left": null
          }
        },
        "df709f854f164860a17c5c2bc0cb47c4": {
          "model_module": "@jupyter-widgets/controls",
          "model_name": "DescriptionStyleModel",
          "model_module_version": "1.5.0",
          "state": {
            "_view_name": "StyleView",
            "_model_name": "DescriptionStyleModel",
            "description_width": "",
            "_view_module": "@jupyter-widgets/base",
            "_model_module_version": "1.5.0",
            "_view_count": null,
            "_view_module_version": "1.2.0",
            "_model_module": "@jupyter-widgets/controls"
          }
        },
        "86bd82bae9ee483abbfe37c041023754": {
          "model_module": "@jupyter-widgets/base",
          "model_name": "LayoutModel",
          "model_module_version": "1.2.0",
          "state": {
            "_view_name": "LayoutView",
            "grid_template_rows": null,
            "right": null,
            "justify_content": null,
            "_view_module": "@jupyter-widgets/base",
            "overflow": null,
            "_model_module_version": "1.2.0",
            "_view_count": null,
            "flex_flow": null,
            "width": null,
            "min_width": null,
            "border": null,
            "align_items": null,
            "bottom": null,
            "_model_module": "@jupyter-widgets/base",
            "top": null,
            "grid_column": null,
            "overflow_y": null,
            "overflow_x": null,
            "grid_auto_flow": null,
            "grid_area": null,
            "grid_template_columns": null,
            "flex": null,
            "_model_name": "LayoutModel",
            "justify_items": null,
            "grid_row": null,
            "max_height": null,
            "align_content": null,
            "visibility": null,
            "align_self": null,
            "height": null,
            "min_height": null,
            "padding": null,
            "grid_auto_rows": null,
            "grid_gap": null,
            "max_width": null,
            "order": null,
            "_view_module_version": "1.2.0",
            "grid_template_areas": null,
            "object_position": null,
            "object_fit": null,
            "grid_auto_columns": null,
            "margin": null,
            "display": null,
            "left": null
          }
        }
      }
    }
  },
  "cells": [
    {
      "cell_type": "markdown",
      "metadata": {
        "id": "view-in-github",
        "colab_type": "text"
      },
      "source": [
        "<a href=\"https://colab.research.google.com/github/wilkeraziz/emnlp-main-findings/blob/main/gamma-poisson.ipynb\" target=\"_parent\"><img src=\"https://colab.research.google.com/assets/colab-badge.svg\" alt=\"Open In Colab\"/></a>"
      ]
    },
    {
      "cell_type": "markdown",
      "metadata": {
        "id": "B5tNGYy9C2SD"
      },
      "source": [
        "# Set up numpyro"
      ]
    },
    {
      "cell_type": "code",
      "metadata": {
        "colab": {
          "base_uri": "https://localhost:8080/"
        },
        "id": "U6q5fUMBoJA7",
        "outputId": "c3d10965-9489-40e8-f347-74d5b8a080e3"
      },
      "source": [
        "!pip install numpyro funsor"
      ],
      "execution_count": 1,
      "outputs": [
        {
          "output_type": "stream",
          "name": "stdout",
          "text": [
            "Requirement already satisfied: numpyro in /usr/local/lib/python3.7/dist-packages (0.8.0)\n",
            "Requirement already satisfied: funsor in /usr/local/lib/python3.7/dist-packages (0.4.1)\n",
            "Requirement already satisfied: tqdm in /usr/local/lib/python3.7/dist-packages (from numpyro) (4.62.3)\n",
            "Requirement already satisfied: jax>=0.2.13 in /usr/local/lib/python3.7/dist-packages (from numpyro) (0.2.21)\n",
            "Requirement already satisfied: jaxlib>=0.1.65 in /usr/local/lib/python3.7/dist-packages (from numpyro) (0.1.71+cuda111)\n",
            "Requirement already satisfied: opt-einsum in /usr/local/lib/python3.7/dist-packages (from jax>=0.2.13->numpyro) (3.3.0)\n",
            "Requirement already satisfied: absl-py in /usr/local/lib/python3.7/dist-packages (from jax>=0.2.13->numpyro) (0.12.0)\n",
            "Requirement already satisfied: numpy>=1.18 in /usr/local/lib/python3.7/dist-packages (from jax>=0.2.13->numpyro) (1.19.5)\n",
            "Requirement already satisfied: scipy>=1.2.1 in /usr/local/lib/python3.7/dist-packages (from jax>=0.2.13->numpyro) (1.4.1)\n",
            "Requirement already satisfied: flatbuffers<3.0,>=1.12 in /usr/local/lib/python3.7/dist-packages (from jaxlib>=0.1.65->numpyro) (1.12)\n",
            "Requirement already satisfied: typing-extensions in /usr/local/lib/python3.7/dist-packages (from funsor) (3.7.4.3)\n",
            "Requirement already satisfied: makefun in /usr/local/lib/python3.7/dist-packages (from funsor) (1.12.1)\n",
            "Requirement already satisfied: multipledispatch in /usr/local/lib/python3.7/dist-packages (from funsor) (0.6.0)\n",
            "Requirement already satisfied: six in /usr/local/lib/python3.7/dist-packages (from absl-py->jax>=0.2.13->numpyro) (1.15.0)\n"
          ]
        }
      ]
    },
    {
      "cell_type": "markdown",
      "metadata": {
        "id": "6GacwPkNC6i3"
      },
      "source": [
        "# Data\n",
        "\n",
        "I'm using the counts Ryan shared:"
      ]
    },
    {
      "cell_type": "code",
      "metadata": {
        "colab": {
          "base_uri": "https://localhost:8080/"
        },
        "id": "PJqRtqd8AtcA",
        "outputId": "51ad3093-f31e-4417-9762-b6ff3921380f"
      },
      "source": [
        "!git clone https://github.com/ryancotterell/emnlp2020-analysis.git"
      ],
      "execution_count": 2,
      "outputs": [
        {
          "output_type": "stream",
          "name": "stdout",
          "text": [
            "fatal: destination path 'emnlp2020-analysis' already exists and is not an empty directory.\n"
          ]
        }
      ]
    },
    {
      "cell_type": "code",
      "metadata": {
        "id": "Fgy8kKknBIcL"
      },
      "source": [
        "def read(fname):\n",
        "\tlst = []\n",
        "\twith open(fname, 'r') as f:\n",
        "\t\tfor i, line in enumerate(f):\n",
        "\t\t\tif i == 0:\n",
        "\t\t\t\tcontinue\n",
        "\t\t\tsplit = line.strip().split(\"\\t\")\n",
        "\t\t\tlst.append(int(split[1]))\n",
        "\treturn lst"
      ],
      "execution_count": 3,
      "outputs": []
    },
    {
      "cell_type": "code",
      "metadata": {
        "id": "c72vK0eHBJlE"
      },
      "source": [
        "y_m = read('emnlp2020-analysis/data/main.tsv')\n",
        "y_f = read('emnlp2020-analysis/data/findings.tsv')"
      ],
      "execution_count": 4,
      "outputs": []
    },
    {
      "cell_type": "markdown",
      "metadata": {
        "id": "_gUQr0pUhc_g"
      },
      "source": [
        "Let's visualise it"
      ]
    },
    {
      "cell_type": "code",
      "metadata": {
        "id": "HRtLQ5X1awSZ"
      },
      "source": [
        "import matplotlib.pyplot as plt\n",
        "import seaborn as sns; sns.set()\n",
        "import arviz as az\n",
        "\n",
        "from tabulate import tabulate\n",
        "import numpy as np\n",
        "from collections import OrderedDict\n",
        "from itertools import cycle"
      ],
      "execution_count": 5,
      "outputs": []
    },
    {
      "cell_type": "code",
      "metadata": {
        "id": "yL4G4V5scRxI"
      },
      "source": [
        "palette = cycle(sns.color_palette())\n",
        "color_m = next(palette)\n",
        "color_f = next(palette)"
      ],
      "execution_count": 6,
      "outputs": []
    },
    {
      "cell_type": "code",
      "metadata": {
        "colab": {
          "base_uri": "https://localhost:8080/",
          "height": 228
        },
        "id": "7P7VAShVaq1X",
        "outputId": "0ef2c806-8190-4287-c813-e278bd56086c"
      },
      "source": [
        "fig, ax = plt.subplots(1, 2, sharex=True, sharey=True, figsize=(8, 3))\n",
        "bins = np.histogram_bin_edges(np.concatenate([y_m, y_f]), bins=30)\n",
        "ax[0].hist(y_m, bins=bins, color=color_m, label='main')\n",
        "ax[1].hist(y_f, bins=bins, color=color_f, label='findings')\n",
        "ax[0].set_xlabel('Citation count')\n",
        "ax[0].set_ylabel('Number of papers')\n",
        "ax[1].set_xlabel('Citation count')\n",
        "fig.tight_layout(h_pad=2, w_pad=2)\n",
        "_ = fig.legend()"
      ],
      "execution_count": 7,
      "outputs": [
        {
          "output_type": "display_data",
          "data": {
            "image/png": "[encoded data removed]",
            "text/plain": [
              "<Figure size 576x216 with 2 Axes>"
            ]
          },
          "metadata": {}
        }
      ]
    },
    {
      "cell_type": "markdown",
      "metadata": {
        "id": "fE6QAeychZZQ"
      },
      "source": [
        "Let's get some descriptive statistics"
      ]
    },
    {
      "cell_type": "code",
      "metadata": {
        "colab": {
          "base_uri": "https://localhost:8080/"
        },
        "id": "yqijZlSHeMRu",
        "outputId": "270c2ff5-818a-426e-f03e-8b8ca410091b"
      },
      "source": [
        "headers = ['Main', 'Findings']\n",
        "rows = [\n",
        "    ['samples', len(y_m), len(y_f)],\n",
        "    ['mean', np.mean(y_m), np.mean(y_f)],\n",
        "    ['std', np.std(y_m), np.std(y_f)],\n",
        "    ['median', np.median(y_m), np.median(y_f)],\n",
        "    ['min', np.min(y_m), np.min(y_f)],\n",
        "    ['max', np.max(y_m), np.max(y_f)],\n",
        "]\n",
        "print(tabulate(rows, headers=headers, floatfmt='.2f'))"
      ],
      "execution_count": 8,
      "outputs": [
        {
          "output_type": "stream",
          "name": "stdout",
          "text": [
            "           Main    Findings\n",
            "-------  ------  ----------\n",
            "samples  751.00      447.00\n",
            "mean      11.60        9.19\n",
            "std       20.20       23.95\n",
            "median     7.00        4.00\n",
            "min        0.00        0.00\n",
            "max      355.00      388.00\n"
          ]
        }
      ]
    },
    {
      "cell_type": "markdown",
      "metadata": {
        "id": "hzZ1Sn3mDHEI"
      },
      "source": [
        "# Model\n",
        "\n",
        "I will attempt to model each group under a group-specific Poisson distribution. As the Poisson parameters are unknown, I will sample them from a fixed shared Gamma prior. \n",
        "\n",
        "I'm quite sure our data are more complex than what this model can capture, and that this model is not able to credibly shed light onto latent patterns in the data. But, the fact that we can detect this model's inability to account for what we need, and the fact that we can overcome its simplicity in an intutive way are precisely what makes Bayesian estimation so powerful.\n",
        "\n",
        "**Generative story**\n",
        "\n",
        "Here I use $[N]$ for the set $\\{1, \\ldots, N\\}$. We have $N$ observations, each $y_n$ is the citation count of a paper in group $x_n \\in [G]$, and in this analysis we have two groups (main, findings).\n",
        "\n",
        "\\begin{align}\n",
        "\\alpha &\\sim \\mathrm{Exponential}(a) \\\\\n",
        "\\beta &\\sim \\mathrm{Exponential}(b) \\\\\n",
        "\\lambda_g &\\sim \\mathrm{Gamma}(\\alpha, \\beta) &\\text{for }g \\in [G]\\\\\n",
        "Y_n|x_n &\\sim \\mathrm{Poisson}(\\lambda_{x_n}) &\\text{for }n \\in [N]\n",
        "\\end{align}"
      ]
    },
    {
      "cell_type": "code",
      "metadata": {
        "colab": {
          "base_uri": "https://localhost:8080/"
        },
        "id": "azMvpCo6AKU2",
        "outputId": "3a59507f-0da7-4bae-9ed6-c6eedc8d5184"
      },
      "source": [
        "import numpyro\n",
        "from numpyro.infer import MCMC, NUTS, Predictive\n",
        "import numpyro.distributions as dist\n",
        "from jax import random\n",
        "import jax.numpy as jnp\n",
        "\n",
        "NUM_CHAINS = 4\n",
        "numpyro.set_host_device_count(NUM_CHAINS)\n",
        "\n",
        "print(f\"Running on NumPryo v{numpyro.__version__}\")"
      ],
      "execution_count": 9,
      "outputs": [
        {
          "output_type": "stream",
          "name": "stdout",
          "text": [
            "Running on NumPryo v0.8.0\n"
          ]
        }
      ]
    },
    {
      "cell_type": "code",
      "metadata": {
        "id": "wftqgDgmxOQr"
      },
      "source": [
        "class GammaPoisson:\n",
        "    def __init__(self, group_names: list, observations: list, rate_a=1., rate_b=1.,\n",
        "                 num_samples=1000, num_chains=1, num_warmup=100):\n",
        "\n",
        "        self.rate_a = rate_a\n",
        "        self.rate_b = rate_b\n",
        "        \n",
        "        self.group_names = group_names\n",
        "        self.G = len(group_names)\n",
        "        \n",
        "        self.N = sum(len(y) for y in observations)\n",
        "        # [N]\n",
        "        self.x = np.concatenate([[g] * len(y) for g, y in enumerate(observations)])\n",
        "        self.y = np.concatenate(observations)\n",
        "\n",
        "        self.num_samples = num_samples\n",
        "        self.num_chains = num_chains\n",
        "        self.num_warmup = num_warmup\n",
        "\n",
        "        self.rng_key = random.PRNGKey(0)\n",
        "\n",
        "        nuts_kernel = NUTS(self.model)\n",
        "        self.mcmc = MCMC(nuts_kernel, num_samples=num_samples, num_warmup=num_warmup, num_chains=num_chains)\n",
        "        \n",
        "        self.prior_predictive = None\n",
        "        self.posterior_predictive = None\n",
        "        self.posterior_samples = None\n",
        "\n",
        "    def model(self, y=None):\n",
        "        \"\"\"\n",
        "        Pyro joint distribution.\n",
        "        \n",
        "        Parameter:\n",
        "        \n",
        "        y: observations as returned by self.prepare or None. \n",
        "            If None, the 'obs' node of the graphical model will be resampled.\n",
        "        \"\"\"\n",
        "\n",
        "        N, G = self.N, self.G\n",
        "\n",
        "        alpha = numpyro.sample(\"alpha\", dist.Exponential(self.rate_a))\n",
        "        beta = numpyro.sample(\"beta\", dist.Exponential(self.rate_b))\n",
        "        \n",
        "        with numpyro.plate(\"groups\", G):  \n",
        "            # construct the components\n",
        "            # [G]\n",
        "            lamb = numpyro.sample(\"lambda\", dist.Gamma(alpha, beta))        \n",
        "        \n",
        "        with numpyro.plate(\"observations\", N):\n",
        "            # [N]\n",
        "            # Construct the likelihood function            \n",
        "            return numpyro.sample(\"y\", dist.Poisson(lamb[self.x]), obs=y)\n",
        "\n",
        "    def run(self):\n",
        "        self.mcmc.run(self.rng_key, y=self.y)\n",
        "        self.mcmc.print_summary()\n",
        "        self.posterior_samples = self.mcmc.get_samples(group_by_chain=False)\n",
        "        print(\"posterior samples shapes:\")\n",
        "        for k, v in self.posterior_samples.items():\n",
        "            print(k, v.shape)\n",
        "\n",
        "    def make_prior_predictive(self, num_prior_samples=100):        \n",
        "        if self.prior_predictive is None:\n",
        "            self.prior_predictive = Predictive(self.model, num_samples=num_prior_samples)\n",
        "\n",
        "    def draw_prior_predictions(self):\n",
        "        if self.prior_predictive is None:\n",
        "            self.make_prior_predictive()\n",
        "        rng_key, rng_key_ = random.split(self.rng_key)        \n",
        "        return self.prior_predictive(rng_key_, y=None)[\"y\"]\n",
        "\n",
        "    def make_posterior_predictive(self):\n",
        "        if self.posterior_samples is None:\n",
        "            raise RuntimeError(\"You need to run the sampler first\")        \n",
        "        if self.posterior_predictive is None:\n",
        "            self.posterior_predictive = Predictive(self.model, self.posterior_samples)        \n",
        "\n",
        "    def draw_posterior_predictions(self, plot=False):\n",
        "        if self.posterior_predictive is None:\n",
        "            self.make_posterior_predictive()        \n",
        "        rng_key, rng_key_ = random.split(self.rng_key)\n",
        "        return self.posterior_predictive(rng_key_, y=None)[\"y\"]"
      ],
      "execution_count": 10,
      "outputs": []
    },
    {
      "cell_type": "markdown",
      "metadata": {
        "id": "D7jM78qOzrtn"
      },
      "source": [
        "These helper functions will help us analyse our prior and posterior samples.\n",
        "\n",
        "The first one plots data samples side by side with model samples using approximate density plots.\n",
        "\n",
        "The second one plots the distribution of certain statistics of model samples against the observed value of that statistic (e.g., mean, std, median).  "
      ]
    },
    {
      "cell_type": "code",
      "metadata": {
        "id": "9AJT_tQCfM0Q"
      },
      "source": [
        "def plot_predictions(model, samples, bins=[20, 100], density=[True, True], sharex=True, sharey=True):\n",
        "    fig, ax = plt.subplots(model.G, 2, sharex=sharex, sharey=sharey, figsize=(10, 5))\n",
        "    pal = cycle(sns.color_palette())\n",
        "    for k in range(model.G):\n",
        "        \n",
        "        yk = model.y[model.x==k]\n",
        "        yk_ = samples[:,model.x==k]\n",
        "        c = next(pal)\n",
        "        _ = ax[k, 0].hist(yk, bins=bins[0], color=c, density=density[0])\n",
        "        _ = ax[k, 0].set_xlabel(f'obs: {model.group_names[k]}')\n",
        "        _ = ax[k, 1].hist(yk_.flatten(), bins=bins[1], color=c, density=density[1])\n",
        "        _ = ax[k, 1].set_xlabel(f'predictive: {model.group_names[k]}')\n",
        "\n",
        "    fig.tight_layout(h_pad=2, w_pad=2)\n",
        "    fig.show()\n",
        "\n",
        "def plot_checks(model, samples, bins=30):\n",
        "    fig, ax = plt.subplots(model.G, 4, sharex=False, figsize=(15, 5))\n",
        "    pal = cycle(sns.color_palette())\n",
        "    for k in range(model.G):\n",
        "        c = next(pal)\n",
        "        yk = model.y[model.x==k]\n",
        "        yk_ = samples[:,model.x==k]\n",
        "        \n",
        "        _ = ax[k, 0].hist(np.mean(yk_, 1), bins=bins, color=c, label='pred' if k == 0 else None)\n",
        "        _ = ax[k, 0].axvline(np.mean(yk), color='black', linestyle='--', label='obs' if k == 0 else None)    \n",
        "        _ = ax[k, 0].set_xlabel(f'E[Y{k}]')\n",
        "        \n",
        "        _ = ax[k, 1].hist(np.std(yk_, 1), color=c, bins=bins)    \n",
        "        _ = ax[k, 1].axvline(np.std(yk), color='black', linestyle='--')\n",
        "        _ = ax[k, 1].set_xlabel(f'std[Y{k}]')\n",
        "\n",
        "        _ = ax[k, 2].hist(np.median(yk_, 1), color=c, bins=bins)    \n",
        "        _ = ax[k, 2].axvline(np.median(yk), color='black', linestyle='--')\n",
        "        _ = ax[k, 2].set_xlabel(f'median[Y{k}]')\n",
        "\n",
        "        pvalues = np.mean(yk_ > yk, 1)\n",
        "        _ = ax[k, 3].hist(pvalues, bins=bins)\n",
        "        _ = ax[k, 3].set_xlabel(f'Pr(Y{k} > obs{k})')\n",
        "        _ = ax[k, 3].axvline(np.median(pvalues), color='black', linestyle=':', label='median' if k==0 else None)\n",
        "\n",
        "    _ = fig.legend(loc='upper center', ncol=3)\n",
        "    fig.tight_layout(h_pad=2, w_pad=2)\n",
        "    fig.show()\n"
      ],
      "execution_count": 24,
      "outputs": []
    },
    {
      "cell_type": "markdown",
      "metadata": {
        "id": "1fa2GrmeJ38z"
      },
      "source": [
        "# MCMC \n",
        "\n",
        "I won't really implement MCMC, I'm going to count on Numpyro for that."
      ]
    },
    {
      "cell_type": "code",
      "metadata": {
        "id": "IvIDsJU1g_T_"
      },
      "source": [
        "model = GammaPoisson(\n",
        "    ['main', 'findings'], [y_m, y_f], \n",
        "    rate_a=0.1, rate_b=1.,\n",
        "    num_chains=NUM_CHAINS, num_warmup=2000, num_samples=5000)"
      ],
      "execution_count": 12,
      "outputs": []
    },
    {
      "cell_type": "markdown",
      "metadata": {
        "id": "EglW0hpTKCBI"
      },
      "source": [
        "## Prior predictive\n",
        "\n",
        "Plotting samples from the prior predictive distribution (i.e., sampling from the generative story without conditioning on any observations) is a good way to check whether our prior is reasonable. \n",
        "\n",
        "We want to see a predictive curve that could easily include any of our groups."
      ]
    },
    {
      "cell_type": "code",
      "metadata": {
        "colab": {
          "base_uri": "https://localhost:8080/"
        },
        "id": "y4jn5OxTqcIW",
        "outputId": "daa12a0d-1ea9-4432-845c-e735e4d1fafe"
      },
      "source": [
        "prior_samples = model.draw_prior_predictions()\n",
        "prior_samples.shape"
      ],
      "execution_count": 13,
      "outputs": [
        {
          "output_type": "execute_result",
          "data": {
            "text/plain": [
              "(100, 1198)"
            ]
          },
          "metadata": {},
          "execution_count": 13
        }
      ]
    },
    {
      "cell_type": "code",
      "metadata": {
        "colab": {
          "base_uri": "https://localhost:8080/",
          "height": 365
        },
        "id": "Ns3C9QHEtrXY",
        "outputId": "1393b844-bc98-48d4-aa5f-8c3b64b80726"
      },
      "source": [
        "_ = plot_predictions(model, prior_samples)"
      ],
      "execution_count": 25,
      "outputs": [
        {
          "output_type": "display_data",
          "data": {
            "image/png": "[encoded data removed]",
            "text/plain": [
              "<Figure size 720x360 with 4 Axes>"
            ]
          },
          "metadata": {}
        }
      ]
    },
    {
      "cell_type": "markdown",
      "metadata": {
        "id": "C6MdnGXDKRov"
      },
      "source": [
        "We can also plot some statistics just to see whether indeed our prior is not excluding plausible observations."
      ]
    },
    {
      "cell_type": "code",
      "metadata": {
        "colab": {
          "base_uri": "https://localhost:8080/",
          "height": 341
        },
        "id": "Oh3nRh6rtf-f",
        "outputId": "4a0b1e20-42ac-4cc6-dcf5-b198bc6837c6"
      },
      "source": [
        "_ = plot_checks(model, prior_samples)"
      ],
      "execution_count": 15,
      "outputs": [
        {
          "output_type": "display_data",
          "data": {
            "image/png": "[encoded data removed]",
            "text/plain": [
              "<Figure size 1080x360 with 8 Axes>"
            ]
          },
          "metadata": {}
        }
      ]
    },
    {
      "cell_type": "markdown",
      "metadata": {
        "id": "rBzvjW13KfN3"
      },
      "source": [
        "## Posterior\n",
        "\n",
        "Time to run our sampler. Numpyro is fast!"
      ]
    },
    {
      "cell_type": "code",
      "metadata": {
        "colab": {
          "base_uri": "https://localhost:8080/",
          "height": 349,
          "referenced_widgets": [
            "cdd0f088535f4427a9c808b297cee2af",
            "74178aba00b64b489619e9bf9ea20b50",
            "9346deeb60cc4ea6815828eb857f20a9",
            "fb2789bf49174e95b0d7982476e5de97",
            "2db5963cbd1946da9796253418b7f2c3",
            "75a22d99c5694b81ba7e41215fb456b8",
            "7776d61e2bfd4b3aa9c2aaf85b2b6787",
            "ce3557256d8d462e87ef5a31d0e5289f",
            "c6c5639cc3a04760b4447b790bc9f0ef",
            "f4c7b48af2ce468bb154cbfdaf06b111",
            "1058ae9a6ddf46eca9e98b585886998c",
            "6308f70a34c942d1995e2e03eeb393bc",
            "e6d31bcf01b44112901da50bf0b5689d",
            "7f62d145dbb4472cadd53a977b082849",
            "0750a6cbb1464a73817e645213d4895c",
            "36ea8ac0f31a488cb1dae2542eaa3ac5",
            "b004c4f9165d462295e7f7aad71e7c61",
            "7dd8866dd3814ef3937756cc69a35e83",
            "3d1210ad913e43f58ca3e81e2accf709",
            "8a835e17c9f3476ead0ff1838de2a47a",
            "e2353204f97c4c9987e2a71a56f99a92",
            "e35dcd893e8e446eba4cde8bac137c99",
            "f43ba5f09fea41fcafc01a17157cc61e",
            "9c6bf53f986c4deca7607aeea1fea1af",
            "93f1e31a12f44fb891ac58ceed4da72c",
            "2db14fd1528540a3b5bc1bd7df880944",
            "192168ad32fb4f36b91701f661559810",
            "c9a61d8705d2452281f36ab6f4ec01d9",
            "e278cb97477546ed9f78690ad80b81d8",
            "0995f969ebf0431a83a44603a2d66ef3",
            "4454d2c57df34da39e484f6b44b6e7d9",
            "49235c6575124845abd4f585383e3329",
            "a8fb59d6512441e794d07051d25e9575",
            "b33b977ac172475c9ac98eb864c2cfaf",
            "4d9312307416477f8b9479264c300cbd",
            "12d158fab1a949239500b201fe040fd9",
            "93292472810448bc8b0c7dd6384ef344",
            "39cc7ce382f3447998cd32be70241e0b",
            "aed98850a14a425f8d65fa3648581202",
            "8edf83bc52534efba76ca9df24be177a",
            "45ec0cd533e4494aa03c425a9f93f5f7",
            "eb09c3c0cd0547a192ca72fdbdebb6e2",
            "df709f854f164860a17c5c2bc0cb47c4",
            "86bd82bae9ee483abbfe37c041023754"
          ]
        },
        "id": "IAaiI7QAhMxd",
        "outputId": "a64a0bdc-0ba3-4a72-e9f6-4bb15edbcf31"
      },
      "source": [
        "model.run()"
      ],
      "execution_count": 16,
      "outputs": [
        {
          "output_type": "display_data",
          "data": {
            "application/vnd.jupyter.widget-view+json": {
              "model_id": "cdd0f088535f4427a9c808b297cee2af",
              "version_minor": 0,
              "version_major": 2
            },
            "text/plain": [
              "  0%|          | 0/7000 [00:00<?, ?it/s]"
            ]
          },
          "metadata": {}
        },
        {
          "output_type": "display_data",
          "data": {
            "application/vnd.jupyter.widget-view+json": {
              "model_id": "6308f70a34c942d1995e2e03eeb393bc",
              "version_minor": 0,
              "version_major": 2
            },
            "text/plain": [
              "  0%|          | 0/7000 [00:00<?, ?it/s]"
            ]
          },
          "metadata": {}
        },
        {
          "output_type": "display_data",
          "data": {
            "application/vnd.jupyter.widget-view+json": {
              "model_id": "f43ba5f09fea41fcafc01a17157cc61e",
              "version_minor": 0,
              "version_major": 2
            },
            "text/plain": [
              "  0%|          | 0/7000 [00:00<?, ?it/s]"
            ]
          },
          "metadata": {}
        },
        {
          "output_type": "display_data",
          "data": {
            "application/vnd.jupyter.widget-view+json": {
              "model_id": "b33b977ac172475c9ac98eb864c2cfaf",
              "version_minor": 0,
              "version_major": 2
            },
            "text/plain": [
              "  0%|          | 0/7000 [00:00<?, ?it/s]"
            ]
          },
          "metadata": {}
        },
        {
          "output_type": "stream",
          "name": "stdout",
          "text": [
            "\n",
            "                mean       std    median      5.0%     95.0%     n_eff     r_hat\n",
            "     alpha     12.13      7.75     10.48      1.26     23.06   6422.81      1.00\n",
            "      beta      1.16      0.76      1.00      0.10      2.21   6287.87      1.00\n",
            " lambda[0]     11.60      0.12     11.60     11.39     11.80  12567.07      1.00\n",
            " lambda[1]      9.19      0.14      9.19      8.96      9.43  13662.08      1.00\n",
            "\n",
            "Number of divergences: 4\n",
            "posterior samples shapes:\n",
            "alpha (20000,)\n",
            "beta (20000,)\n",
            "lambda (20000, 2)\n"
          ]
        }
      ]
    },
    {
      "cell_type": "markdown",
      "metadata": {
        "id": "3zKFmgE2KjgC"
      },
      "source": [
        "## Posterior predictive\n",
        "\n",
        "Before any analysis, let's see whether we can trust this model. It's good to plot samples from the posterior predictive distribution (i.e., sample from the generative story *after* conditioning on observations). These can be thought of as replications."
      ]
    },
    {
      "cell_type": "code",
      "metadata": {
        "colab": {
          "base_uri": "https://localhost:8080/"
        },
        "id": "S2S6owDVqOyh",
        "outputId": "5cf27976-8b63-4f64-cf41-d0e9107153ab"
      },
      "source": [
        "posterior_samples = model.draw_posterior_predictions()\n",
        "posterior_samples.shape"
      ],
      "execution_count": 17,
      "outputs": [
        {
          "output_type": "execute_result",
          "data": {
            "text/plain": [
              "(20000, 1198)"
            ]
          },
          "metadata": {},
          "execution_count": 17
        }
      ]
    },
    {
      "cell_type": "code",
      "metadata": {
        "colab": {
          "base_uri": "https://localhost:8080/",
          "height": 365
        },
        "id": "8eUOHGsAw3dt",
        "outputId": "c5eeb72a-f3f4-42b3-f2f5-158dd3abf9b6"
      },
      "source": [
        "_ = plot_predictions(model, posterior_samples, sharex='col', sharey='col')"
      ],
      "execution_count": 26,
      "outputs": [
        {
          "output_type": "display_data",
          "data": {
            "image/png": "[encoded data removed]",
            "text/plain": [
              "<Figure size 720x360 with 4 Axes>"
            ]
          },
          "metadata": {}
        }
      ]
    },
    {
      "cell_type": "markdown",
      "metadata": {
        "id": "V9Uf6RRsK3c4"
      },
      "source": [
        "This is not looking very good, and, in fact, the next checks will show that this simple model cannot capture much more than the mean of the groups."
      ]
    },
    {
      "cell_type": "code",
      "metadata": {
        "colab": {
          "base_uri": "https://localhost:8080/",
          "height": 392
        },
        "id": "gXkRxe0Vw6nJ",
        "outputId": "9e5d4a7d-68fc-4b50-bec8-93371bd21a5c"
      },
      "source": [
        "_ = plot_checks(model, posterior_samples)"
      ],
      "execution_count": 19,
      "outputs": [
        {
          "output_type": "display_data",
          "data": {
            "image/png": "[encoded data removed]",
            "text/plain": [
              "<Figure size 1080x360 with 8 Axes>"
            ]
          },
          "metadata": {}
        }
      ]
    },
    {
      "cell_type": "markdown",
      "metadata": {
        "id": "C5xXPfAC0qme"
      },
      "source": [
        "It's reasonably clear to me, and hopefully to you too, that this model is simply not good for analysing the data we have. \n",
        "\n",
        "Thought I will plot some quantities in what follows, we simply cannot use them to support any argumentation, for we cannot really trust this analysis model."
      ]
    },
    {
      "cell_type": "code",
      "metadata": {
        "colab": {
          "base_uri": "https://localhost:8080/"
        },
        "id": "uF7Krt6MyRut",
        "outputId": "001463dc-32ab-4fb2-d829-78a4f9903819"
      },
      "source": [
        "print(tabulate([(k, v.shape) for k, v in model.posterior_samples.items()], headers=['rv', 'shape']))"
      ],
      "execution_count": 20,
      "outputs": [
        {
          "output_type": "stream",
          "name": "stdout",
          "text": [
            "rv      shape\n",
            "------  ----------\n",
            "alpha   (20000,)\n",
            "beta    (20000,)\n",
            "lambda  (20000, 2)\n"
          ]
        }
      ]
    },
    {
      "cell_type": "markdown",
      "metadata": {
        "id": "49ydDKDxLAS-"
      },
      "source": [
        "## Analysis of results\n",
        "\n",
        "\n",
        "**Warning** these results cannot be trusted, not because MCMC failed (we have no evidence to suspect it did), but because the model is too simple to accomodate the complexity of the data (as per checks above)."
      ]
    },
    {
      "cell_type": "code",
      "metadata": {
        "colab": {
          "base_uri": "https://localhost:8080/",
          "height": 313
        },
        "id": "FTRihA_oW1jJ",
        "outputId": "c3159ec6-acab-4de8-8e7b-df49ad391d11"
      },
      "source": [
        "_ = az.plot_posterior(\n",
        "    {\n",
        "        'alpha': model.posterior_samples['alpha'], \n",
        "        'beta': model.posterior_samples['beta']\n",
        "    }\n",
        ")"
      ],
      "execution_count": 21,
      "outputs": [
        {
          "output_type": "display_data",
          "data": {
            "image/png": "[encoded data removed]",
            "text/plain": [
              "<Figure size 993.6x331.2 with 2 Axes>"
            ]
          },
          "metadata": {}
        }
      ]
    },
    {
      "cell_type": "code",
      "metadata": {
        "colab": {
          "base_uri": "https://localhost:8080/",
          "height": 315
        },
        "id": "HtoFH0FzW_eY",
        "outputId": "37d98247-1022-49a7-a74b-0a4d1eb985b9"
      },
      "source": [
        "_ = az.plot_posterior(\n",
        "    {\n",
        "        r'$\\lambda_{0}$ (main)': model.posterior_samples['lambda'][:,0], \n",
        "        r'$\\lambda_{1}$ (findings)': model.posterior_samples['lambda'][:,1]\n",
        "     }\n",
        ")"
      ],
      "execution_count": 22,
      "outputs": [
        {
          "output_type": "display_data",
          "data": {
            "image/png": "[encoded data removed]",
            "text/plain": [
              "<Figure size 993.6x331.2 with 2 Axes>"
            ]
          },
          "metadata": {}
        }
      ]
    },
    {
      "cell_type": "markdown",
      "metadata": {
        "id": "G1OkanxNzpyc"
      },
      "source": [
        ""
      ]
    },
    {
      "cell_type": "code",
      "metadata": {
        "colab": {
          "base_uri": "https://localhost:8080/",
          "height": 390
        },
        "id": "0JCThA9PXVDv",
        "outputId": "baff7cf7-824b-4f58-f51c-b2aa086e1a12"
      },
      "source": [
        "_ = az.plot_forest(\n",
        "    {\n",
        "        r'$\\lambda_0$ (main)': model.posterior_samples['lambda'][:,0].reshape(model.num_chains, -1), \n",
        "        r'$\\lambda_1$ (findings)': model.posterior_samples['lambda'][:,1].reshape(model.num_chains, -1)\n",
        "    },\n",
        "    kind='ridgeplot',\n",
        "    combined=True,\n",
        ")"
      ],
      "execution_count": 23,
      "outputs": [
        {
          "output_type": "display_data",
          "data": {
            "image/png": "[encoded data removed]",
            "text/plain": [
              "<Figure size 864x449.28 with 1 Axes>"
            ]
          },
          "metadata": {}
        }
      ]
    },
    {
      "cell_type": "markdown",
      "metadata": {
        "id": "DC_61Arv1Ofj"
      },
      "source": [
        "See, if we had no means to criticise our own model, we might have rushed to declare EMNLP main conference's victory over Findings. \n"
      ]
    },
    {
      "cell_type": "code",
      "metadata": {
        "id": "OK0BHSfYd9gP"
      },
      "source": [
        ""
      ],
      "execution_count": 23,
      "outputs": []
    }
  ]
}