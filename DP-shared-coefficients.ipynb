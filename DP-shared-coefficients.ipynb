{
  "nbformat": 4,
  "nbformat_minor": 0,
  "metadata": {
    "colab": {
      "name": "EMNLP-Findings-Shared-Coefficients",
      "provenance": [],
      "collapsed_sections": [],
      "toc_visible": true,
      "authorship_tag": "ABX9TyNbljAmGye5eK7RT0XmkX5L",
      "include_colab_link": true
    },
    "kernelspec": {
      "name": "python3",
      "display_name": "Python 3"
    },
    "language_info": {
      "name": "python"
    },
    "widgets": {
      "application/vnd.jupyter.widget-state+json": {
        "74bb3419d5dc4defbd44a053f6da83e5": {
          "model_module": "@jupyter-widgets/controls",
          "model_name": "HBoxModel",
          "model_module_version": "1.5.0",
          "state": {
            "_view_name": "HBoxView",
            "_dom_classes": [],
            "_model_name": "HBoxModel",
            "_view_module": "@jupyter-widgets/controls",
            "_model_module_version": "1.5.0",
            "_view_count": null,
            "_view_module_version": "1.5.0",
            "box_style": "",
            "layout": "IPY_MODEL_cd5d229563a344afb8d94fc4e9d31dbe",
            "_model_module": "@jupyter-widgets/controls",
            "children": [
              "IPY_MODEL_83edee25309c4a83b13680f8d460154b",
              "IPY_MODEL_acfb8c354e78427b9d56dad261e0f107",
              "IPY_MODEL_6e54748243e94ba1b9c32cc50f8a3743"
            ]
          }
        },
        "cd5d229563a344afb8d94fc4e9d31dbe": {
          "model_module": "@jupyter-widgets/base",
          "model_name": "LayoutModel",
          "model_module_version": "1.2.0",
          "state": {
            "_view_name": "LayoutView",
            "grid_template_rows": null,
            "right": null,
            "justify_content": null,
            "_view_module": "@jupyter-widgets/base",
            "overflow": null,
            "_model_module_version": "1.2.0",
            "_view_count": null,
            "flex_flow": null,
            "width": null,
            "min_width": null,
            "border": null,
            "align_items": null,
            "bottom": null,
            "_model_module": "@jupyter-widgets/base",
            "top": null,
            "grid_column": null,
            "overflow_y": null,
            "overflow_x": null,
            "grid_auto_flow": null,
            "grid_area": null,
            "grid_template_columns": null,
            "flex": null,
            "_model_name": "LayoutModel",
            "justify_items": null,
            "grid_row": null,
            "max_height": null,
            "align_content": null,
            "visibility": null,
            "align_self": null,
            "height": null,
            "min_height": null,
            "padding": null,
            "grid_auto_rows": null,
            "grid_gap": null,
            "max_width": null,
            "order": null,
            "_view_module_version": "1.2.0",
            "grid_template_areas": null,
            "object_position": null,
            "object_fit": null,
            "grid_auto_columns": null,
            "margin": null,
            "display": null,
            "left": null
          }
        },
        "83edee25309c4a83b13680f8d460154b": {
          "model_module": "@jupyter-widgets/controls",
          "model_name": "HTMLModel",
          "model_module_version": "1.5.0",
          "state": {
            "_view_name": "HTMLView",
            "style": "IPY_MODEL_236bf0fed0c344a28bde76535791d63a",
            "_dom_classes": [],
            "description": "",
            "_model_name": "HTMLModel",
            "placeholder": "​",
            "_view_module": "@jupyter-widgets/controls",
            "_model_module_version": "1.5.0",
            "value": "Running chain 0: 100%",
            "_view_count": null,
            "_view_module_version": "1.5.0",
            "description_tooltip": null,
            "_model_module": "@jupyter-widgets/controls",
            "layout": "IPY_MODEL_028bb0a50c604073a1f0d704be7ef0a3"
          }
        },
        "acfb8c354e78427b9d56dad261e0f107": {
          "model_module": "@jupyter-widgets/controls",
          "model_name": "FloatProgressModel",
          "model_module_version": "1.5.0",
          "state": {
            "_view_name": "ProgressView",
            "style": "IPY_MODEL_42b6e35c39c04930afc937fd552111e9",
            "_dom_classes": [],
            "description": "",
            "_model_name": "FloatProgressModel",
            "bar_style": "success",
            "max": 7000,
            "_view_module": "@jupyter-widgets/controls",
            "_model_module_version": "1.5.0",
            "value": 7000,
            "_view_count": null,
            "_view_module_version": "1.5.0",
            "orientation": "horizontal",
            "min": 0,
            "description_tooltip": null,
            "_model_module": "@jupyter-widgets/controls",
            "layout": "IPY_MODEL_9f4aac6325be4c7f85a3344fa4c24d75"
          }
        },
        "6e54748243e94ba1b9c32cc50f8a3743": {
          "model_module": "@jupyter-widgets/controls",
          "model_name": "HTMLModel",
          "model_module_version": "1.5.0",
          "state": {
            "_view_name": "HTMLView",
            "style": "IPY_MODEL_e7423b37c90441b89d0962767babc0b2",
            "_dom_classes": [],
            "description": "",
            "_model_name": "HTMLModel",
            "placeholder": "​",
            "_view_module": "@jupyter-widgets/controls",
            "_model_module_version": "1.5.0",
            "value": " 7000/7000 [01:45&lt;00:00, 110.41it/s]",
            "_view_count": null,
            "_view_module_version": "1.5.0",
            "description_tooltip": null,
            "_model_module": "@jupyter-widgets/controls",
            "layout": "IPY_MODEL_4364e3923cfa400698efeb8f91404c80"
          }
        },
        "236bf0fed0c344a28bde76535791d63a": {
          "model_module": "@jupyter-widgets/controls",
          "model_name": "DescriptionStyleModel",
          "model_module_version": "1.5.0",
          "state": {
            "_view_name": "StyleView",
            "_model_name": "DescriptionStyleModel",
            "description_width": "",
            "_view_module": "@jupyter-widgets/base",
            "_model_module_version": "1.5.0",
            "_view_count": null,
            "_view_module_version": "1.2.0",
            "_model_module": "@jupyter-widgets/controls"
          }
        },
        "028bb0a50c604073a1f0d704be7ef0a3": {
          "model_module": "@jupyter-widgets/base",
          "model_name": "LayoutModel",
          "model_module_version": "1.2.0",
          "state": {
            "_view_name": "LayoutView",
            "grid_template_rows": null,
            "right": null,
            "justify_content": null,
            "_view_module": "@jupyter-widgets/base",
            "overflow": null,
            "_model_module_version": "1.2.0",
            "_view_count": null,
            "flex_flow": null,
            "width": null,
            "min_width": null,
            "border": null,
            "align_items": null,
            "bottom": null,
            "_model_module": "@jupyter-widgets/base",
            "top": null,
            "grid_column": null,
            "overflow_y": null,
            "overflow_x": null,
            "grid_auto_flow": null,
            "grid_area": null,
            "grid_template_columns": null,
            "flex": null,
            "_model_name": "LayoutModel",
            "justify_items": null,
            "grid_row": null,
            "max_height": null,
            "align_content": null,
            "visibility": null,
            "align_self": null,
            "height": null,
            "min_height": null,
            "padding": null,
            "grid_auto_rows": null,
            "grid_gap": null,
            "max_width": null,
            "order": null,
            "_view_module_version": "1.2.0",
            "grid_template_areas": null,
            "object_position": null,
            "object_fit": null,
            "grid_auto_columns": null,
            "margin": null,
            "display": null,
            "left": null
          }
        },
        "42b6e35c39c04930afc937fd552111e9": {
          "model_module": "@jupyter-widgets/controls",
          "model_name": "ProgressStyleModel",
          "model_module_version": "1.5.0",
          "state": {
            "_view_name": "StyleView",
            "_model_name": "ProgressStyleModel",
            "description_width": "",
            "_view_module": "@jupyter-widgets/base",
            "_model_module_version": "1.5.0",
            "_view_count": null,
            "_view_module_version": "1.2.0",
            "bar_color": null,
            "_model_module": "@jupyter-widgets/controls"
          }
        },
        "9f4aac6325be4c7f85a3344fa4c24d75": {
          "model_module": "@jupyter-widgets/base",
          "model_name": "LayoutModel",
          "model_module_version": "1.2.0",
          "state": {
            "_view_name": "LayoutView",
            "grid_template_rows": null,
            "right": null,
            "justify_content": null,
            "_view_module": "@jupyter-widgets/base",
            "overflow": null,
            "_model_module_version": "1.2.0",
            "_view_count": null,
            "flex_flow": null,
            "width": null,
            "min_width": null,
            "border": null,
            "align_items": null,
            "bottom": null,
            "_model_module": "@jupyter-widgets/base",
            "top": null,
            "grid_column": null,
            "overflow_y": null,
            "overflow_x": null,
            "grid_auto_flow": null,
            "grid_area": null,
            "grid_template_columns": null,
            "flex": null,
            "_model_name": "LayoutModel",
            "justify_items": null,
            "grid_row": null,
            "max_height": null,
            "align_content": null,
            "visibility": null,
            "align_self": null,
            "height": null,
            "min_height": null,
            "padding": null,
            "grid_auto_rows": null,
            "grid_gap": null,
            "max_width": null,
            "order": null,
            "_view_module_version": "1.2.0",
            "grid_template_areas": null,
            "object_position": null,
            "object_fit": null,
            "grid_auto_columns": null,
            "margin": null,
            "display": null,
            "left": null
          }
        },
        "e7423b37c90441b89d0962767babc0b2": {
          "model_module": "@jupyter-widgets/controls",
          "model_name": "DescriptionStyleModel",
          "model_module_version": "1.5.0",
          "state": {
            "_view_name": "StyleView",
            "_model_name": "DescriptionStyleModel",
            "description_width": "",
            "_view_module": "@jupyter-widgets/base",
            "_model_module_version": "1.5.0",
            "_view_count": null,
            "_view_module_version": "1.2.0",
            "_model_module": "@jupyter-widgets/controls"
          }
        },
        "4364e3923cfa400698efeb8f91404c80": {
          "model_module": "@jupyter-widgets/base",
          "model_name": "LayoutModel",
          "model_module_version": "1.2.0",
          "state": {
            "_view_name": "LayoutView",
            "grid_template_rows": null,
            "right": null,
            "justify_content": null,
            "_view_module": "@jupyter-widgets/base",
            "overflow": null,
            "_model_module_version": "1.2.0",
            "_view_count": null,
            "flex_flow": null,
            "width": null,
            "min_width": null,
            "border": null,
            "align_items": null,
            "bottom": null,
            "_model_module": "@jupyter-widgets/base",
            "top": null,
            "grid_column": null,
            "overflow_y": null,
            "overflow_x": null,
            "grid_auto_flow": null,
            "grid_area": null,
            "grid_template_columns": null,
            "flex": null,
            "_model_name": "LayoutModel",
            "justify_items": null,
            "grid_row": null,
            "max_height": null,
            "align_content": null,
            "visibility": null,
            "align_self": null,
            "height": null,
            "min_height": null,
            "padding": null,
            "grid_auto_rows": null,
            "grid_gap": null,
            "max_width": null,
            "order": null,
            "_view_module_version": "1.2.0",
            "grid_template_areas": null,
            "object_position": null,
            "object_fit": null,
            "grid_auto_columns": null,
            "margin": null,
            "display": null,
            "left": null
          }
        },
        "c78dcfa5c8a04525a108126f20a4bd27": {
          "model_module": "@jupyter-widgets/controls",
          "model_name": "HBoxModel",
          "model_module_version": "1.5.0",
          "state": {
            "_view_name": "HBoxView",
            "_dom_classes": [],
            "_model_name": "HBoxModel",
            "_view_module": "@jupyter-widgets/controls",
            "_model_module_version": "1.5.0",
            "_view_count": null,
            "_view_module_version": "1.5.0",
            "box_style": "",
            "layout": "IPY_MODEL_0d962147d3474a898690285f3d854562",
            "_model_module": "@jupyter-widgets/controls",
            "children": [
              "IPY_MODEL_f98a84b2beb14b36b907274e547b31e9",
              "IPY_MODEL_13c7fc0611d048af917d95fae61d57fc",
              "IPY_MODEL_818d97df46d4480e9bdea454992f1eba"
            ]
          }
        },
        "0d962147d3474a898690285f3d854562": {
          "model_module": "@jupyter-widgets/base",
          "model_name": "LayoutModel",
          "model_module_version": "1.2.0",
          "state": {
            "_view_name": "LayoutView",
            "grid_template_rows": null,
            "right": null,
            "justify_content": null,
            "_view_module": "@jupyter-widgets/base",
            "overflow": null,
            "_model_module_version": "1.2.0",
            "_view_count": null,
            "flex_flow": null,
            "width": null,
            "min_width": null,
            "border": null,
            "align_items": null,
            "bottom": null,
            "_model_module": "@jupyter-widgets/base",
            "top": null,
            "grid_column": null,
            "overflow_y": null,
            "overflow_x": null,
            "grid_auto_flow": null,
            "grid_area": null,
            "grid_template_columns": null,
            "flex": null,
            "_model_name": "LayoutModel",
            "justify_items": null,
            "grid_row": null,
            "max_height": null,
            "align_content": null,
            "visibility": null,
            "align_self": null,
            "height": null,
            "min_height": null,
            "padding": null,
            "grid_auto_rows": null,
            "grid_gap": null,
            "max_width": null,
            "order": null,
            "_view_module_version": "1.2.0",
            "grid_template_areas": null,
            "object_position": null,
            "object_fit": null,
            "grid_auto_columns": null,
            "margin": null,
            "display": null,
            "left": null
          }
        },
        "f98a84b2beb14b36b907274e547b31e9": {
          "model_module": "@jupyter-widgets/controls",
          "model_name": "HTMLModel",
          "model_module_version": "1.5.0",
          "state": {
            "_view_name": "HTMLView",
            "style": "IPY_MODEL_ae089cb6ebba470cb5cab162ab7df270",
            "_dom_classes": [],
            "description": "",
            "_model_name": "HTMLModel",
            "placeholder": "​",
            "_view_module": "@jupyter-widgets/controls",
            "_model_module_version": "1.5.0",
            "value": "Running chain 1: 100%",
            "_view_count": null,
            "_view_module_version": "1.5.0",
            "description_tooltip": null,
            "_model_module": "@jupyter-widgets/controls",
            "layout": "IPY_MODEL_e427cedad30e4ef3af603171f45d6416"
          }
        },
        "13c7fc0611d048af917d95fae61d57fc": {
          "model_module": "@jupyter-widgets/controls",
          "model_name": "FloatProgressModel",
          "model_module_version": "1.5.0",
          "state": {
            "_view_name": "ProgressView",
            "style": "IPY_MODEL_77824c373fc945808834e47c00ac0330",
            "_dom_classes": [],
            "description": "",
            "_model_name": "FloatProgressModel",
            "bar_style": "success",
            "max": 7000,
            "_view_module": "@jupyter-widgets/controls",
            "_model_module_version": "1.5.0",
            "value": 7000,
            "_view_count": null,
            "_view_module_version": "1.5.0",
            "orientation": "horizontal",
            "min": 0,
            "description_tooltip": null,
            "_model_module": "@jupyter-widgets/controls",
            "layout": "IPY_MODEL_07aede730a494f9ca454b7fea4e4f3c0"
          }
        },
        "818d97df46d4480e9bdea454992f1eba": {
          "model_module": "@jupyter-widgets/controls",
          "model_name": "HTMLModel",
          "model_module_version": "1.5.0",
          "state": {
            "_view_name": "HTMLView",
            "style": "IPY_MODEL_b99d170a445e461a9674fe178bb550b8",
            "_dom_classes": [],
            "description": "",
            "_model_name": "HTMLModel",
            "placeholder": "​",
            "_view_module": "@jupyter-widgets/controls",
            "_model_module_version": "1.5.0",
            "value": " 7000/7000 [01:45&lt;00:00, 150.06it/s]",
            "_view_count": null,
            "_view_module_version": "1.5.0",
            "description_tooltip": null,
            "_model_module": "@jupyter-widgets/controls",
            "layout": "IPY_MODEL_62380d7d00204d51b3e00d1e08d4255e"
          }
        },
        "ae089cb6ebba470cb5cab162ab7df270": {
          "model_module": "@jupyter-widgets/controls",
          "model_name": "DescriptionStyleModel",
          "model_module_version": "1.5.0",
          "state": {
            "_view_name": "StyleView",
            "_model_name": "DescriptionStyleModel",
            "description_width": "",
            "_view_module": "@jupyter-widgets/base",
            "_model_module_version": "1.5.0",
            "_view_count": null,
            "_view_module_version": "1.2.0",
            "_model_module": "@jupyter-widgets/controls"
          }
        },
        "e427cedad30e4ef3af603171f45d6416": {
          "model_module": "@jupyter-widgets/base",
          "model_name": "LayoutModel",
          "model_module_version": "1.2.0",
          "state": {
            "_view_name": "LayoutView",
            "grid_template_rows": null,
            "right": null,
            "justify_content": null,
            "_view_module": "@jupyter-widgets/base",
            "overflow": null,
            "_model_module_version": "1.2.0",
            "_view_count": null,
            "flex_flow": null,
            "width": null,
            "min_width": null,
            "border": null,
            "align_items": null,
            "bottom": null,
            "_model_module": "@jupyter-widgets/base",
            "top": null,
            "grid_column": null,
            "overflow_y": null,
            "overflow_x": null,
            "grid_auto_flow": null,
            "grid_area": null,
            "grid_template_columns": null,
            "flex": null,
            "_model_name": "LayoutModel",
            "justify_items": null,
            "grid_row": null,
            "max_height": null,
            "align_content": null,
            "visibility": null,
            "align_self": null,
            "height": null,
            "min_height": null,
            "padding": null,
            "grid_auto_rows": null,
            "grid_gap": null,
            "max_width": null,
            "order": null,
            "_view_module_version": "1.2.0",
            "grid_template_areas": null,
            "object_position": null,
            "object_fit": null,
            "grid_auto_columns": null,
            "margin": null,
            "display": null,
            "left": null
          }
        },
        "77824c373fc945808834e47c00ac0330": {
          "model_module": "@jupyter-widgets/controls",
          "model_name": "ProgressStyleModel",
          "model_module_version": "1.5.0",
          "state": {
            "_view_name": "StyleView",
            "_model_name": "ProgressStyleModel",
            "description_width": "",
            "_view_module": "@jupyter-widgets/base",
            "_model_module_version": "1.5.0",
            "_view_count": null,
            "_view_module_version": "1.2.0",
            "bar_color": null,
            "_model_module": "@jupyter-widgets/controls"
          }
        },
        "07aede730a494f9ca454b7fea4e4f3c0": {
          "model_module": "@jupyter-widgets/base",
          "model_name": "LayoutModel",
          "model_module_version": "1.2.0",
          "state": {
            "_view_name": "LayoutView",
            "grid_template_rows": null,
            "right": null,
            "justify_content": null,
            "_view_module": "@jupyter-widgets/base",
            "overflow": null,
            "_model_module_version": "1.2.0",
            "_view_count": null,
            "flex_flow": null,
            "width": null,
            "min_width": null,
            "border": null,
            "align_items": null,
            "bottom": null,
            "_model_module": "@jupyter-widgets/base",
            "top": null,
            "grid_column": null,
            "overflow_y": null,
            "overflow_x": null,
            "grid_auto_flow": null,
            "grid_area": null,
            "grid_template_columns": null,
            "flex": null,
            "_model_name": "LayoutModel",
            "justify_items": null,
            "grid_row": null,
            "max_height": null,
            "align_content": null,
            "visibility": null,
            "align_self": null,
            "height": null,
            "min_height": null,
            "padding": null,
            "grid_auto_rows": null,
            "grid_gap": null,
            "max_width": null,
            "order": null,
            "_view_module_version": "1.2.0",
            "grid_template_areas": null,
            "object_position": null,
            "object_fit": null,
            "grid_auto_columns": null,
            "margin": null,
            "display": null,
            "left": null
          }
        },
        "b99d170a445e461a9674fe178bb550b8": {
          "model_module": "@jupyter-widgets/controls",
          "model_name": "DescriptionStyleModel",
          "model_module_version": "1.5.0",
          "state": {
            "_view_name": "StyleView",
            "_model_name": "DescriptionStyleModel",
            "description_width": "",
            "_view_module": "@jupyter-widgets/base",
            "_model_module_version": "1.5.0",
            "_view_count": null,
            "_view_module_version": "1.2.0",
            "_model_module": "@jupyter-widgets/controls"
          }
        },
        "62380d7d00204d51b3e00d1e08d4255e": {
          "model_module": "@jupyter-widgets/base",
          "model_name": "LayoutModel",
          "model_module_version": "1.2.0",
          "state": {
            "_view_name": "LayoutView",
            "grid_template_rows": null,
            "right": null,
            "justify_content": null,
            "_view_module": "@jupyter-widgets/base",
            "overflow": null,
            "_model_module_version": "1.2.0",
            "_view_count": null,
            "flex_flow": null,
            "width": null,
            "min_width": null,
            "border": null,
            "align_items": null,
            "bottom": null,
            "_model_module": "@jupyter-widgets/base",
            "top": null,
            "grid_column": null,
            "overflow_y": null,
            "overflow_x": null,
            "grid_auto_flow": null,
            "grid_area": null,
            "grid_template_columns": null,
            "flex": null,
            "_model_name": "LayoutModel",
            "justify_items": null,
            "grid_row": null,
            "max_height": null,
            "align_content": null,
            "visibility": null,
            "align_self": null,
            "height": null,
            "min_height": null,
            "padding": null,
            "grid_auto_rows": null,
            "grid_gap": null,
            "max_width": null,
            "order": null,
            "_view_module_version": "1.2.0",
            "grid_template_areas": null,
            "object_position": null,
            "object_fit": null,
            "grid_auto_columns": null,
            "margin": null,
            "display": null,
            "left": null
          }
        },
        "1b7f6a431a464393ba47d90e3dac2986": {
          "model_module": "@jupyter-widgets/controls",
          "model_name": "HBoxModel",
          "model_module_version": "1.5.0",
          "state": {
            "_view_name": "HBoxView",
            "_dom_classes": [],
            "_model_name": "HBoxModel",
            "_view_module": "@jupyter-widgets/controls",
            "_model_module_version": "1.5.0",
            "_view_count": null,
            "_view_module_version": "1.5.0",
            "box_style": "",
            "layout": "IPY_MODEL_b5f3a08cd92f45f1bcc7e0837188eda3",
            "_model_module": "@jupyter-widgets/controls",
            "children": [
              "IPY_MODEL_a467f16c98cb4d138fa2c24f8d91f532",
              "IPY_MODEL_2619f5cf75104754b1ec00928b329d2e",
              "IPY_MODEL_5efe01a1b1844e83a27197edc13e502b"
            ]
          }
        },
        "b5f3a08cd92f45f1bcc7e0837188eda3": {
          "model_module": "@jupyter-widgets/base",
          "model_name": "LayoutModel",
          "model_module_version": "1.2.0",
          "state": {
            "_view_name": "LayoutView",
            "grid_template_rows": null,
            "right": null,
            "justify_content": null,
            "_view_module": "@jupyter-widgets/base",
            "overflow": null,
            "_model_module_version": "1.2.0",
            "_view_count": null,
            "flex_flow": null,
            "width": null,
            "min_width": null,
            "border": null,
            "align_items": null,
            "bottom": null,
            "_model_module": "@jupyter-widgets/base",
            "top": null,
            "grid_column": null,
            "overflow_y": null,
            "overflow_x": null,
            "grid_auto_flow": null,
            "grid_area": null,
            "grid_template_columns": null,
            "flex": null,
            "_model_name": "LayoutModel",
            "justify_items": null,
            "grid_row": null,
            "max_height": null,
            "align_content": null,
            "visibility": null,
            "align_self": null,
            "height": null,
            "min_height": null,
            "padding": null,
            "grid_auto_rows": null,
            "grid_gap": null,
            "max_width": null,
            "order": null,
            "_view_module_version": "1.2.0",
            "grid_template_areas": null,
            "object_position": null,
            "object_fit": null,
            "grid_auto_columns": null,
            "margin": null,
            "display": null,
            "left": null
          }
        },
        "a467f16c98cb4d138fa2c24f8d91f532": {
          "model_module": "@jupyter-widgets/controls",
          "model_name": "HTMLModel",
          "model_module_version": "1.5.0",
          "state": {
            "_view_name": "HTMLView",
            "style": "IPY_MODEL_8571b56f410040c8ac6f18808d4015ef",
            "_dom_classes": [],
            "description": "",
            "_model_name": "HTMLModel",
            "placeholder": "​",
            "_view_module": "@jupyter-widgets/controls",
            "_model_module_version": "1.5.0",
            "value": "Running chain 2: 100%",
            "_view_count": null,
            "_view_module_version": "1.5.0",
            "description_tooltip": null,
            "_model_module": "@jupyter-widgets/controls",
            "layout": "IPY_MODEL_3f7df8c035ae4ab8b33a0c4cecbcc777"
          }
        },
        "2619f5cf75104754b1ec00928b329d2e": {
          "model_module": "@jupyter-widgets/controls",
          "model_name": "FloatProgressModel",
          "model_module_version": "1.5.0",
          "state": {
            "_view_name": "ProgressView",
            "style": "IPY_MODEL_e76665bfbaa94190b015999c1d41478e",
            "_dom_classes": [],
            "description": "",
            "_model_name": "FloatProgressModel",
            "bar_style": "success",
            "max": 7000,
            "_view_module": "@jupyter-widgets/controls",
            "_model_module_version": "1.5.0",
            "value": 7000,
            "_view_count": null,
            "_view_module_version": "1.5.0",
            "orientation": "horizontal",
            "min": 0,
            "description_tooltip": null,
            "_model_module": "@jupyter-widgets/controls",
            "layout": "IPY_MODEL_410fd9a2352a422881d572a911ad22bc"
          }
        },
        "5efe01a1b1844e83a27197edc13e502b": {
          "model_module": "@jupyter-widgets/controls",
          "model_name": "HTMLModel",
          "model_module_version": "1.5.0",
          "state": {
            "_view_name": "HTMLView",
            "style": "IPY_MODEL_adf68cecdda94843a44aacd9eabeb159",
            "_dom_classes": [],
            "description": "",
            "_model_name": "HTMLModel",
            "placeholder": "​",
            "_view_module": "@jupyter-widgets/controls",
            "_model_module_version": "1.5.0",
            "value": " 7000/7000 [01:45&lt;00:00, 112.58it/s]",
            "_view_count": null,
            "_view_module_version": "1.5.0",
            "description_tooltip": null,
            "_model_module": "@jupyter-widgets/controls",
            "layout": "IPY_MODEL_9649b93e4572497098fe5db90db63e3e"
          }
        },
        "8571b56f410040c8ac6f18808d4015ef": {
          "model_module": "@jupyter-widgets/controls",
          "model_name": "DescriptionStyleModel",
          "model_module_version": "1.5.0",
          "state": {
            "_view_name": "StyleView",
            "_model_name": "DescriptionStyleModel",
            "description_width": "",
            "_view_module": "@jupyter-widgets/base",
            "_model_module_version": "1.5.0",
            "_view_count": null,
            "_view_module_version": "1.2.0",
            "_model_module": "@jupyter-widgets/controls"
          }
        },
        "3f7df8c035ae4ab8b33a0c4cecbcc777": {
          "model_module": "@jupyter-widgets/base",
          "model_name": "LayoutModel",
          "model_module_version": "1.2.0",
          "state": {
            "_view_name": "LayoutView",
            "grid_template_rows": null,
            "right": null,
            "justify_content": null,
            "_view_module": "@jupyter-widgets/base",
            "overflow": null,
            "_model_module_version": "1.2.0",
            "_view_count": null,
            "flex_flow": null,
            "width": null,
            "min_width": null,
            "border": null,
            "align_items": null,
            "bottom": null,
            "_model_module": "@jupyter-widgets/base",
            "top": null,
            "grid_column": null,
            "overflow_y": null,
            "overflow_x": null,
            "grid_auto_flow": null,
            "grid_area": null,
            "grid_template_columns": null,
            "flex": null,
            "_model_name": "LayoutModel",
            "justify_items": null,
            "grid_row": null,
            "max_height": null,
            "align_content": null,
            "visibility": null,
            "align_self": null,
            "height": null,
            "min_height": null,
            "padding": null,
            "grid_auto_rows": null,
            "grid_gap": null,
            "max_width": null,
            "order": null,
            "_view_module_version": "1.2.0",
            "grid_template_areas": null,
            "object_position": null,
            "object_fit": null,
            "grid_auto_columns": null,
            "margin": null,
            "display": null,
            "left": null
          }
        },
        "e76665bfbaa94190b015999c1d41478e": {
          "model_module": "@jupyter-widgets/controls",
          "model_name": "ProgressStyleModel",
          "model_module_version": "1.5.0",
          "state": {
            "_view_name": "StyleView",
            "_model_name": "ProgressStyleModel",
            "description_width": "",
            "_view_module": "@jupyter-widgets/base",
            "_model_module_version": "1.5.0",
            "_view_count": null,
            "_view_module_version": "1.2.0",
            "bar_color": null,
            "_model_module": "@jupyter-widgets/controls"
          }
        },
        "410fd9a2352a422881d572a911ad22bc": {
          "model_module": "@jupyter-widgets/base",
          "model_name": "LayoutModel",
          "model_module_version": "1.2.0",
          "state": {
            "_view_name": "LayoutView",
            "grid_template_rows": null,
            "right": null,
            "justify_content": null,
            "_view_module": "@jupyter-widgets/base",
            "overflow": null,
            "_model_module_version": "1.2.0",
            "_view_count": null,
            "flex_flow": null,
            "width": null,
            "min_width": null,
            "border": null,
            "align_items": null,
            "bottom": null,
            "_model_module": "@jupyter-widgets/base",
            "top": null,
            "grid_column": null,
            "overflow_y": null,
            "overflow_x": null,
            "grid_auto_flow": null,
            "grid_area": null,
            "grid_template_columns": null,
            "flex": null,
            "_model_name": "LayoutModel",
            "justify_items": null,
            "grid_row": null,
            "max_height": null,
            "align_content": null,
            "visibility": null,
            "align_self": null,
            "height": null,
            "min_height": null,
            "padding": null,
            "grid_auto_rows": null,
            "grid_gap": null,
            "max_width": null,
            "order": null,
            "_view_module_version": "1.2.0",
            "grid_template_areas": null,
            "object_position": null,
            "object_fit": null,
            "grid_auto_columns": null,
            "margin": null,
            "display": null,
            "left": null
          }
        },
        "adf68cecdda94843a44aacd9eabeb159": {
          "model_module": "@jupyter-widgets/controls",
          "model_name": "DescriptionStyleModel",
          "model_module_version": "1.5.0",
          "state": {
            "_view_name": "StyleView",
            "_model_name": "DescriptionStyleModel",
            "description_width": "",
            "_view_module": "@jupyter-widgets/base",
            "_model_module_version": "1.5.0",
            "_view_count": null,
            "_view_module_version": "1.2.0",
            "_model_module": "@jupyter-widgets/controls"
          }
        },
        "9649b93e4572497098fe5db90db63e3e": {
          "model_module": "@jupyter-widgets/base",
          "model_name": "LayoutModel",
          "model_module_version": "1.2.0",
          "state": {
            "_view_name": "LayoutView",
            "grid_template_rows": null,
            "right": null,
            "justify_content": null,
            "_view_module": "@jupyter-widgets/base",
            "overflow": null,
            "_model_module_version": "1.2.0",
            "_view_count": null,
            "flex_flow": null,
            "width": null,
            "min_width": null,
            "border": null,
            "align_items": null,
            "bottom": null,
            "_model_module": "@jupyter-widgets/base",
            "top": null,
            "grid_column": null,
            "overflow_y": null,
            "overflow_x": null,
            "grid_auto_flow": null,
            "grid_area": null,
            "grid_template_columns": null,
            "flex": null,
            "_model_name": "LayoutModel",
            "justify_items": null,
            "grid_row": null,
            "max_height": null,
            "align_content": null,
            "visibility": null,
            "align_self": null,
            "height": null,
            "min_height": null,
            "padding": null,
            "grid_auto_rows": null,
            "grid_gap": null,
            "max_width": null,
            "order": null,
            "_view_module_version": "1.2.0",
            "grid_template_areas": null,
            "object_position": null,
            "object_fit": null,
            "grid_auto_columns": null,
            "margin": null,
            "display": null,
            "left": null
          }
        },
        "79c3caf2e75e4c9881d04e16e3c6aa28": {
          "model_module": "@jupyter-widgets/controls",
          "model_name": "HBoxModel",
          "model_module_version": "1.5.0",
          "state": {
            "_view_name": "HBoxView",
            "_dom_classes": [],
            "_model_name": "HBoxModel",
            "_view_module": "@jupyter-widgets/controls",
            "_model_module_version": "1.5.0",
            "_view_count": null,
            "_view_module_version": "1.5.0",
            "box_style": "",
            "layout": "IPY_MODEL_d79836628dee44f491fe60dc42b2e7f9",
            "_model_module": "@jupyter-widgets/controls",
            "children": [
              "IPY_MODEL_11ececf3649046a282bcd14551fecccc",
              "IPY_MODEL_e67f82511b0d4c51906b9be53bfe1d3d",
              "IPY_MODEL_e7e79a912f4b4be7b8275f9ce5231fc4"
            ]
          }
        },
        "d79836628dee44f491fe60dc42b2e7f9": {
          "model_module": "@jupyter-widgets/base",
          "model_name": "LayoutModel",
          "model_module_version": "1.2.0",
          "state": {
            "_view_name": "LayoutView",
            "grid_template_rows": null,
            "right": null,
            "justify_content": null,
            "_view_module": "@jupyter-widgets/base",
            "overflow": null,
            "_model_module_version": "1.2.0",
            "_view_count": null,
            "flex_flow": null,
            "width": null,
            "min_width": null,
            "border": null,
            "align_items": null,
            "bottom": null,
            "_model_module": "@jupyter-widgets/base",
            "top": null,
            "grid_column": null,
            "overflow_y": null,
            "overflow_x": null,
            "grid_auto_flow": null,
            "grid_area": null,
            "grid_template_columns": null,
            "flex": null,
            "_model_name": "LayoutModel",
            "justify_items": null,
            "grid_row": null,
            "max_height": null,
            "align_content": null,
            "visibility": null,
            "align_self": null,
            "height": null,
            "min_height": null,
            "padding": null,
            "grid_auto_rows": null,
            "grid_gap": null,
            "max_width": null,
            "order": null,
            "_view_module_version": "1.2.0",
            "grid_template_areas": null,
            "object_position": null,
            "object_fit": null,
            "grid_auto_columns": null,
            "margin": null,
            "display": null,
            "left": null
          }
        },
        "11ececf3649046a282bcd14551fecccc": {
          "model_module": "@jupyter-widgets/controls",
          "model_name": "HTMLModel",
          "model_module_version": "1.5.0",
          "state": {
            "_view_name": "HTMLView",
            "style": "IPY_MODEL_bfb91c74457f41a0a548f077aefc778d",
            "_dom_classes": [],
            "description": "",
            "_model_name": "HTMLModel",
            "placeholder": "​",
            "_view_module": "@jupyter-widgets/controls",
            "_model_module_version": "1.5.0",
            "value": "Running chain 3: 100%",
            "_view_count": null,
            "_view_module_version": "1.5.0",
            "description_tooltip": null,
            "_model_module": "@jupyter-widgets/controls",
            "layout": "IPY_MODEL_8aa671543ab64daaae3561d5e11a546c"
          }
        },
        "e67f82511b0d4c51906b9be53bfe1d3d": {
          "model_module": "@jupyter-widgets/controls",
          "model_name": "FloatProgressModel",
          "model_module_version": "1.5.0",
          "state": {
            "_view_name": "ProgressView",
            "style": "IPY_MODEL_6309f30329004b548cc2715aa44c788c",
            "_dom_classes": [],
            "description": "",
            "_model_name": "FloatProgressModel",
            "bar_style": "success",
            "max": 7000,
            "_view_module": "@jupyter-widgets/controls",
            "_model_module_version": "1.5.0",
            "value": 7000,
            "_view_count": null,
            "_view_module_version": "1.5.0",
            "orientation": "horizontal",
            "min": 0,
            "description_tooltip": null,
            "_model_module": "@jupyter-widgets/controls",
            "layout": "IPY_MODEL_36bfad302fa84206bae7784a9af52874"
          }
        },
        "e7e79a912f4b4be7b8275f9ce5231fc4": {
          "model_module": "@jupyter-widgets/controls",
          "model_name": "HTMLModel",
          "model_module_version": "1.5.0",
          "state": {
            "_view_name": "HTMLView",
            "style": "IPY_MODEL_31f27077e96e47528fcd55b195657138",
            "_dom_classes": [],
            "description": "",
            "_model_name": "HTMLModel",
            "placeholder": "​",
            "_view_module": "@jupyter-widgets/controls",
            "_model_module_version": "1.5.0",
            "value": " 7000/7000 [01:45&lt;00:00, 111.15it/s]",
            "_view_count": null,
            "_view_module_version": "1.5.0",
            "description_tooltip": null,
            "_model_module": "@jupyter-widgets/controls",
            "layout": "IPY_MODEL_2c0794ff5eb3468f8bb92cd7f7d74e17"
          }
        },
        "bfb91c74457f41a0a548f077aefc778d": {
          "model_module": "@jupyter-widgets/controls",
          "model_name": "DescriptionStyleModel",
          "model_module_version": "1.5.0",
          "state": {
            "_view_name": "StyleView",
            "_model_name": "DescriptionStyleModel",
            "description_width": "",
            "_view_module": "@jupyter-widgets/base",
            "_model_module_version": "1.5.0",
            "_view_count": null,
            "_view_module_version": "1.2.0",
            "_model_module": "@jupyter-widgets/controls"
          }
        },
        "8aa671543ab64daaae3561d5e11a546c": {
          "model_module": "@jupyter-widgets/base",
          "model_name": "LayoutModel",
          "model_module_version": "1.2.0",
          "state": {
            "_view_name": "LayoutView",
            "grid_template_rows": null,
            "right": null,
            "justify_content": null,
            "_view_module": "@jupyter-widgets/base",
            "overflow": null,
            "_model_module_version": "1.2.0",
            "_view_count": null,
            "flex_flow": null,
            "width": null,
            "min_width": null,
            "border": null,
            "align_items": null,
            "bottom": null,
            "_model_module": "@jupyter-widgets/base",
            "top": null,
            "grid_column": null,
            "overflow_y": null,
            "overflow_x": null,
            "grid_auto_flow": null,
            "grid_area": null,
            "grid_template_columns": null,
            "flex": null,
            "_model_name": "LayoutModel",
            "justify_items": null,
            "grid_row": null,
            "max_height": null,
            "align_content": null,
            "visibility": null,
            "align_self": null,
            "height": null,
            "min_height": null,
            "padding": null,
            "grid_auto_rows": null,
            "grid_gap": null,
            "max_width": null,
            "order": null,
            "_view_module_version": "1.2.0",
            "grid_template_areas": null,
            "object_position": null,
            "object_fit": null,
            "grid_auto_columns": null,
            "margin": null,
            "display": null,
            "left": null
          }
        },
        "6309f30329004b548cc2715aa44c788c": {
          "model_module": "@jupyter-widgets/controls",
          "model_name": "ProgressStyleModel",
          "model_module_version": "1.5.0",
          "state": {
            "_view_name": "StyleView",
            "_model_name": "ProgressStyleModel",
            "description_width": "",
            "_view_module": "@jupyter-widgets/base",
            "_model_module_version": "1.5.0",
            "_view_count": null,
            "_view_module_version": "1.2.0",
            "bar_color": null,
            "_model_module": "@jupyter-widgets/controls"
          }
        },
        "36bfad302fa84206bae7784a9af52874": {
          "model_module": "@jupyter-widgets/base",
          "model_name": "LayoutModel",
          "model_module_version": "1.2.0",
          "state": {
            "_view_name": "LayoutView",
            "grid_template_rows": null,
            "right": null,
            "justify_content": null,
            "_view_module": "@jupyter-widgets/base",
            "overflow": null,
            "_model_module_version": "1.2.0",
            "_view_count": null,
            "flex_flow": null,
            "width": null,
            "min_width": null,
            "border": null,
            "align_items": null,
            "bottom": null,
            "_model_module": "@jupyter-widgets/base",
            "top": null,
            "grid_column": null,
            "overflow_y": null,
            "overflow_x": null,
            "grid_auto_flow": null,
            "grid_area": null,
            "grid_template_columns": null,
            "flex": null,
            "_model_name": "LayoutModel",
            "justify_items": null,
            "grid_row": null,
            "max_height": null,
            "align_content": null,
            "visibility": null,
            "align_self": null,
            "height": null,
            "min_height": null,
            "padding": null,
            "grid_auto_rows": null,
            "grid_gap": null,
            "max_width": null,
            "order": null,
            "_view_module_version": "1.2.0",
            "grid_template_areas": null,
            "object_position": null,
            "object_fit": null,
            "grid_auto_columns": null,
            "margin": null,
            "display": null,
            "left": null
          }
        },
        "31f27077e96e47528fcd55b195657138": {
          "model_module": "@jupyter-widgets/controls",
          "model_name": "DescriptionStyleModel",
          "model_module_version": "1.5.0",
          "state": {
            "_view_name": "StyleView",
            "_model_name": "DescriptionStyleModel",
            "description_width": "",
            "_view_module": "@jupyter-widgets/base",
            "_model_module_version": "1.5.0",
            "_view_count": null,
            "_view_module_version": "1.2.0",
            "_model_module": "@jupyter-widgets/controls"
          }
        },
        "2c0794ff5eb3468f8bb92cd7f7d74e17": {
          "model_module": "@jupyter-widgets/base",
          "model_name": "LayoutModel",
          "model_module_version": "1.2.0",
          "state": {
            "_view_name": "LayoutView",
            "grid_template_rows": null,
            "right": null,
            "justify_content": null,
            "_view_module": "@jupyter-widgets/base",
            "overflow": null,
            "_model_module_version": "1.2.0",
            "_view_count": null,
            "flex_flow": null,
            "width": null,
            "min_width": null,
            "border": null,
            "align_items": null,
            "bottom": null,
            "_model_module": "@jupyter-widgets/base",
            "top": null,
            "grid_column": null,
            "overflow_y": null,
            "overflow_x": null,
            "grid_auto_flow": null,
            "grid_area": null,
            "grid_template_columns": null,
            "flex": null,
            "_model_name": "LayoutModel",
            "justify_items": null,
            "grid_row": null,
            "max_height": null,
            "align_content": null,
            "visibility": null,
            "align_self": null,
            "height": null,
            "min_height": null,
            "padding": null,
            "grid_auto_rows": null,
            "grid_gap": null,
            "max_width": null,
            "order": null,
            "_view_module_version": "1.2.0",
            "grid_template_areas": null,
            "object_position": null,
            "object_fit": null,
            "grid_auto_columns": null,
            "margin": null,
            "display": null,
            "left": null
          }
        }
      }
    }
  },
  "cells": [
    {
      "cell_type": "markdown",
      "metadata": {
        "id": "view-in-github",
        "colab_type": "text"
      },
      "source": [
        "<a href=\"https://colab.research.google.com/github/wilkeraziz/emnlp-main-findings/blob/main/DP-shared-coefficients.ipynb\" target=\"_parent\"><img src=\"https://colab.research.google.com/assets/colab-badge.svg\" alt=\"Open In Colab\"/></a>"
      ]
    },
    {
      "cell_type": "markdown",
      "metadata": {
        "id": "B5tNGYy9C2SD"
      },
      "source": [
        "# Set up numpyro"
      ]
    },
    {
      "cell_type": "code",
      "metadata": {
        "colab": {
          "base_uri": "https://localhost:8080/"
        },
        "id": "U6q5fUMBoJA7",
        "outputId": "0c4afee9-a608-4d97-fb88-14db2a09a6f2"
      },
      "source": [
        "!pip install numpyro funsor"
      ],
      "execution_count": 1,
      "outputs": [
        {
          "output_type": "stream",
          "name": "stdout",
          "text": [
            "Requirement already satisfied: numpyro in /usr/local/lib/python3.7/dist-packages (0.8.0)\n",
            "Requirement already satisfied: funsor in /usr/local/lib/python3.7/dist-packages (0.4.1)\n",
            "Requirement already satisfied: tqdm in /usr/local/lib/python3.7/dist-packages (from numpyro) (4.62.3)\n",
            "Requirement already satisfied: jax>=0.2.13 in /usr/local/lib/python3.7/dist-packages (from numpyro) (0.2.21)\n",
            "Requirement already satisfied: jaxlib>=0.1.65 in /usr/local/lib/python3.7/dist-packages (from numpyro) (0.1.71+cuda111)\n",
            "Requirement already satisfied: numpy>=1.18 in /usr/local/lib/python3.7/dist-packages (from jax>=0.2.13->numpyro) (1.19.5)\n",
            "Requirement already satisfied: scipy>=1.2.1 in /usr/local/lib/python3.7/dist-packages (from jax>=0.2.13->numpyro) (1.4.1)\n",
            "Requirement already satisfied: absl-py in /usr/local/lib/python3.7/dist-packages (from jax>=0.2.13->numpyro) (0.12.0)\n",
            "Requirement already satisfied: opt-einsum in /usr/local/lib/python3.7/dist-packages (from jax>=0.2.13->numpyro) (3.3.0)\n",
            "Requirement already satisfied: flatbuffers<3.0,>=1.12 in /usr/local/lib/python3.7/dist-packages (from jaxlib>=0.1.65->numpyro) (1.12)\n",
            "Requirement already satisfied: makefun in /usr/local/lib/python3.7/dist-packages (from funsor) (1.12.1)\n",
            "Requirement already satisfied: multipledispatch in /usr/local/lib/python3.7/dist-packages (from funsor) (0.6.0)\n",
            "Requirement already satisfied: typing-extensions in /usr/local/lib/python3.7/dist-packages (from funsor) (3.7.4.3)\n",
            "Requirement already satisfied: six in /usr/local/lib/python3.7/dist-packages (from absl-py->jax>=0.2.13->numpyro) (1.15.0)\n"
          ]
        }
      ]
    },
    {
      "cell_type": "markdown",
      "metadata": {
        "id": "6GacwPkNC6i3"
      },
      "source": [
        "# Data\n",
        "\n",
        "I'm using the counts Ryan shared:"
      ]
    },
    {
      "cell_type": "code",
      "metadata": {
        "colab": {
          "base_uri": "https://localhost:8080/"
        },
        "id": "PJqRtqd8AtcA",
        "outputId": "456246d1-52a4-448f-95d5-332735168621"
      },
      "source": [
        "!git clone https://github.com/ryancotterell/emnlp2020-analysis.git"
      ],
      "execution_count": 2,
      "outputs": [
        {
          "output_type": "stream",
          "name": "stdout",
          "text": [
            "fatal: destination path 'emnlp2020-analysis' already exists and is not an empty directory.\n"
          ]
        }
      ]
    },
    {
      "cell_type": "code",
      "metadata": {
        "id": "Fgy8kKknBIcL"
      },
      "source": [
        "def read(fname):\n",
        "\tlst = []\n",
        "\twith open(fname, 'r') as f:\n",
        "\t\tfor i, line in enumerate(f):\n",
        "\t\t\tif i == 0:\n",
        "\t\t\t\tcontinue\n",
        "\t\t\tsplit = line.strip().split(\"\\t\")\n",
        "\t\t\tlst.append(int(split[1]))\n",
        "\treturn lst"
      ],
      "execution_count": 3,
      "outputs": []
    },
    {
      "cell_type": "code",
      "metadata": {
        "id": "c72vK0eHBJlE"
      },
      "source": [
        "y_m = read('emnlp2020-analysis/data/main.tsv')\n",
        "y_f = read('emnlp2020-analysis/data/findings.tsv')"
      ],
      "execution_count": 4,
      "outputs": []
    },
    {
      "cell_type": "markdown",
      "metadata": {
        "id": "cW8uQLT8HpGP"
      },
      "source": [
        "Let's visualise it"
      ]
    },
    {
      "cell_type": "code",
      "metadata": {
        "id": "3h9rKPiRHfOG"
      },
      "source": [
        "import matplotlib.pyplot as plt\n",
        "import seaborn as sns; sns.set()\n",
        "import arviz as az\n",
        "\n",
        "from tabulate import tabulate\n",
        "import numpy as np\n",
        "from collections import OrderedDict\n",
        "from itertools import cycle"
      ],
      "execution_count": 5,
      "outputs": []
    },
    {
      "cell_type": "code",
      "metadata": {
        "id": "D63rXP88HfV_"
      },
      "source": [
        "palette = cycle(sns.color_palette())\n",
        "color_m = next(palette)\n",
        "color_f = next(palette)"
      ],
      "execution_count": 6,
      "outputs": []
    },
    {
      "cell_type": "code",
      "metadata": {
        "colab": {
          "base_uri": "https://localhost:8080/",
          "height": 228
        },
        "id": "TkpUVVqzHiUu",
        "outputId": "d22986a3-fc3e-4f9a-d8ed-51847ff8bf33"
      },
      "source": [
        "fig, ax = plt.subplots(1, 2, sharex=True, sharey=True, figsize=(8, 3))\n",
        "bins = np.histogram_bin_edges(np.concatenate([y_m, y_f]), bins=30)\n",
        "ax[0].hist(y_m, bins=bins, color=color_m, label='main')\n",
        "ax[1].hist(y_f, bins=bins, color=color_f, label='findings')\n",
        "ax[0].set_xlabel('Citation count')\n",
        "ax[0].set_ylabel('Number of papers')\n",
        "ax[1].set_xlabel('Citation count')\n",
        "fig.tight_layout(h_pad=2, w_pad=2)\n",
        "_ = fig.legend()"
      ],
      "execution_count": 7,
      "outputs": [
        {
          "output_type": "display_data",
          "data": {
            "image/png": "[encoded data removed]",
            "text/plain": [
              "<Figure size 576x216 with 2 Axes>"
            ]
          },
          "metadata": {}
        }
      ]
    },
    {
      "cell_type": "markdown",
      "metadata": {
        "id": "raZdlGQTHm83"
      },
      "source": [
        "\n",
        "Let's get some descriptive statistics"
      ]
    },
    {
      "cell_type": "code",
      "metadata": {
        "colab": {
          "base_uri": "https://localhost:8080/"
        },
        "id": "TYIAy2V7Hk1P",
        "outputId": "21a0a195-22af-41ab-c7b9-ecaccceae7ab"
      },
      "source": [
        "headers = ['Main', 'Findings']\n",
        "rows = [\n",
        "    ['samples', len(y_m), len(y_f)],\n",
        "    ['mean', np.mean(y_m), np.mean(y_f)],\n",
        "    ['std', np.std(y_m), np.std(y_f)],\n",
        "    ['median', np.median(y_m), np.median(y_f)],\n",
        "    ['min', np.min(y_m), np.min(y_f)],\n",
        "    ['max', np.max(y_m), np.max(y_f)],\n",
        "]\n",
        "print(tabulate(rows, headers=headers, floatfmt='.2f'))"
      ],
      "execution_count": 8,
      "outputs": [
        {
          "output_type": "stream",
          "name": "stdout",
          "text": [
            "           Main    Findings\n",
            "-------  ------  ----------\n",
            "samples  751.00      447.00\n",
            "mean      11.60        9.19\n",
            "std       20.20       23.95\n",
            "median     7.00        4.00\n",
            "min        0.00        0.00\n",
            "max      355.00      388.00\n"
          ]
        }
      ]
    },
    {
      "cell_type": "markdown",
      "metadata": {
        "id": "hzZ1Sn3mDHEI"
      },
      "source": [
        "# Model\n",
        "\n",
        "\n",
        "I would like to discover a number of Poisson distributions that help me explain the two groups, each group under a mixture model.\n",
        "\n",
        "I would like the Poisson distributions to be shared across groups, so that I can interpret the mixture components as patterns (e.g., 'low-cited papers', 'average-cited papers', 'highly-citated papers'), but the mixing coefficients to be group-specific, so that I can interpret them as the extent to which each pattern is relevant for a group.\n",
        "\n",
        "Clearly, I have no clue which Poisson components will explain my data, so I will draw components from a Gamma prior that gives me a good spread of possible rates. I also have no cluse how many components I will need, but I don't expect too many. So I will employ a DP prior that discourages using too many components and truncate it at some small value (e.g., 5 or 10).\n",
        "\n",
        "**Generative story**\n",
        "\n",
        "The analysis model is a mixed membership model. \n",
        "Each group (i.e., main or findings) is drawn from a Dirichlet process (DP) mixture of Poisson components.\n",
        "\n",
        "I use $[N]$ to denote the set $\\{1, \\ldots, N\\}$. $G$ is the number of groups (we have 2), $T$ is the maximum number of components (as I will truncate the DP prior).\n",
        "\n",
        "I used a DP prior \n",
        "\\begin{align}\n",
        "(\\omega_1, \\ldots, \\omega_G), \\lambda &\\sim \\mathrm{DP}(\\mathrm{Gamma}(a, b), \\alpha)\n",
        "\\end{align}\n",
        "with a shared Gamma base distribution from which we draw Poisson rates.\n",
        "\n",
        "I truncate the DP prior and draw samples using the stick-breaking representation \n",
        "\\begin{align}\n",
        "\\beta_{g,t} &\\sim \\mathrm{Beta}(1, \\alpha) & \\text{for } (g,t) \\in [G]\\times [T-1]\\\\\n",
        "\\omega_{g, t}&=\\beta_{g,t}\\prod_{k<t} (1-\\beta_{g,k}) & \\text{for }(g,t) \\in [G]\\times[T]\\\\\n",
        "\\lambda_t &\\sim \\mathrm{Gamma}(a, b) & \\text{for }t \\in [T]\\\\\n",
        "\\end{align}\n",
        "the smaller the $\\alpha$ the fewer components will be used. I adjust $a$ and $b$ to make sure the prior covers reasonable citation counts.\n",
        "\n",
        "Once we have the mixing coefficients $w_{g,t}$, for every group $g \\in [G]$ and component $t \\in [T]$, we can draw each one of our $N$ observations.\n",
        "The $n$th observation $y_n$ belongs to group $x_n$, it is the citation count for a paper in that group.\n",
        "\n",
        "\\begin{align}\n",
        "Z_n|x_n &\\sim \\mathrm{Cat}(\\omega_{x_n}) & \\text{for } n \\in [N] \\\\\n",
        "Y_n|z_n &\\sim \\mathrm{Poisson}(\\lambda_{z_n})\n",
        "\\end{align}\n",
        "\n",
        "Mixture models are non-identifiable: because the DP prior is exchangeable, we can permute the components around and the marginal $Y|X=x$ won't change. This is problematic when we intend to interpret component assignments, which we do in this case. To break this common strategies involve using a prior that yields ordered parameters for the components. To induce order in $\\lambda$ we can, for example, sort it, or use a cumulative sum. In the implementation, I opt for the latter for its faster. Note this is not an approximation, it is simply changing the prior to one where in a draw of $T$ components, the $t$th component has rate higher than any of the components $k < t$. "
      ]
    },
    {
      "cell_type": "code",
      "metadata": {
        "colab": {
          "base_uri": "https://localhost:8080/"
        },
        "id": "azMvpCo6AKU2",
        "outputId": "83e89b6a-7998-441e-d143-2c8abb892aa5"
      },
      "source": [
        "import matplotlib.pyplot as plt\n",
        "import seaborn as sns; sns.set()\n",
        "import arviz as az\n",
        "\n",
        "from tabulate import tabulate\n",
        "import numpy as np\n",
        "\n",
        "import numpyro\n",
        "from numpyro.infer import MCMC, NUTS, Predictive\n",
        "import numpyro.distributions as dist\n",
        "from jax import random\n",
        "import jax.numpy as jnp\n",
        "from numpyro.contrib.indexing import Vindex\n",
        "\n",
        "NUM_CHAINS = 4\n",
        "numpyro.set_host_device_count(NUM_CHAINS)\n",
        "\n",
        "print(f\"Running on NumPryo v{numpyro.__version__}\")"
      ],
      "execution_count": 9,
      "outputs": [
        {
          "output_type": "stream",
          "name": "stdout",
          "text": [
            "Running on NumPryo v0.8.0\n"
          ]
        }
      ]
    },
    {
      "cell_type": "code",
      "metadata": {
        "id": "LV0IQds3CI7r"
      },
      "source": [
        ""
      ],
      "execution_count": 9,
      "outputs": []
    },
    {
      "cell_type": "code",
      "metadata": {
        "id": "wftqgDgmxOQr"
      },
      "source": [
        "class DPMixture2:\n",
        "    def __init__(self, group_names: list, observations: list, \n",
        "                 gamma_shape=[1., 1.], DP_alpha=1., num_comps=5,\n",
        "                 num_samples=1000, num_chains=1, num_warmup=100):\n",
        "\n",
        "        self.gamma_shape = gamma_shape\n",
        "        self.DP_alpha = DP_alpha\n",
        "        self.T = num_comps\n",
        "\n",
        "        self.group_names = group_names\n",
        "        self.G = len(group_names)\n",
        "        \n",
        "        self.N = sum(len(y) for y in observations)\n",
        "        # [N]\n",
        "        self.x = np.concatenate([[g] * len(y) for g, y in enumerate(observations)])\n",
        "        self.y = np.concatenate(observations)\n",
        "\n",
        "        self.num_samples = num_samples\n",
        "        self.num_chains = num_chains\n",
        "        self.num_warmup = num_warmup\n",
        "\n",
        "        self.rng_key = random.PRNGKey(0)\n",
        "\n",
        "        nuts_kernel = NUTS(self.model)\n",
        "        self.mcmc = MCMC(nuts_kernel, num_samples=num_samples, num_warmup=num_warmup, num_chains=num_chains)\n",
        "\n",
        "        self.prior_predictive = None\n",
        "        self.posterior_predictive = None\n",
        "        self.posterior_samples = None\n",
        "\n",
        "\n",
        "    @classmethod\n",
        "    def mix_weights(cls, beta):\n",
        "        beta1m_cumprod = (1 - beta).cumprod(-1)\n",
        "        return jnp.pad(beta, ((0, 0), (0, 1)), constant_values=1) * jnp.pad(beta1m_cumprod, ((0, 0), (1, 0)), constant_values=1)\n",
        "\n",
        "    def model(self, y=None):\n",
        "        \"\"\"\n",
        "        Pyro joint distribution.\n",
        "        \n",
        "        Parameter:\n",
        "        \n",
        "        y: observations as returned by self.prepare or None. \n",
        "            If None, the 'obs' node of the graphical model will be resampled.\n",
        "        \"\"\"\n",
        "\n",
        "        N, G = self.N, self.G\n",
        "        T = self.T\n",
        "\n",
        "        #a = numpyro.sample(\"a\", dist.Exponential(0.1))\n",
        "        #b = numpyro.sample(\"b\", dist.Exponential(0.1))\n",
        "\n",
        "        with numpyro.plate(\"groups\", G, dim=-2):\n",
        "            with numpyro.plate(\"components\", T):  \n",
        "                # construct the components\n",
        "                # [T]\n",
        "                lamb = numpyro.sample(\"lambda\", dist.Gamma(self.gamma_shape[0], self.gamma_shape[1]))                   \n",
        "                rate = numpyro.deterministic(\"rate\", jnp.cumsum(lamb, -1))  # we could use jnp.sort, but cumsum is simpler \n",
        "        \n",
        "        # Sample mixing weights    \n",
        "        with numpyro.plate(\"DPs\", G):\n",
        "            # [G, T-1]\n",
        "            beta = numpyro.sample(\n",
        "                \"beta\", \n",
        "                dist.Beta(\n",
        "                    np.ones(1), \n",
        "                    np.ones(1) * self.DP_alpha\n",
        "                ).expand((T-1,)).to_event(1)\n",
        "            )\n",
        "        \n",
        "        # [G, T]\n",
        "        omega = numpyro.deterministic(\"omega\", self.mix_weights(beta))\n",
        "        \n",
        "        with numpyro.plate(\"observations\", N):\n",
        "            # [N]\n",
        "            # NOTE simple workaround to share coefficients\n",
        "            #  I ignore the group information and always use T-dimensional omega[0]\n",
        "            #  (this means you can ignore samples from omega[1] | data )\n",
        "            z = numpyro.sample(\"z\", dist.Categorical(probs=omega[jnp.zeros_like(self.x)])) \n",
        "            \n",
        "            # [N]\n",
        "            rate_z = numpyro.deterministic(\"rate_z\",  Vindex(rate)[self.x, z])\n",
        "\n",
        "            # [N]\n",
        "            # Construct the likelihood function            \n",
        "            return numpyro.sample(\"y\", dist.Poisson(rate_z), obs=y)\n",
        "\n",
        "    def run(self):\n",
        "        self.mcmc.run(self.rng_key, y=self.y)\n",
        "        self.mcmc.print_summary()\n",
        "        self.posterior_samples = self.mcmc.get_samples(group_by_chain=False)\n",
        "        print(\"posterior samples shapes:\")\n",
        "        for k, v in self.posterior_samples.items():\n",
        "            print(k, v.shape)\n",
        "\n",
        "    def make_prior_predictive(self, num_prior_samples=100):        \n",
        "        if self.prior_predictive is None:\n",
        "            self.prior_predictive = Predictive(self.model, num_samples=num_prior_samples)\n",
        "\n",
        "    def draw_prior_predictions(self):\n",
        "        if self.prior_predictive is None:\n",
        "            self.make_prior_predictive()\n",
        "        rng_key, rng_key_ = random.split(self.rng_key)        \n",
        "        return self.prior_predictive(rng_key_, y=None)[\"y\"]\n",
        "\n",
        "    def make_posterior_predictive(self):\n",
        "        if self.posterior_samples is None:\n",
        "            raise RuntimeError(\"You need to run the sampler first\")        \n",
        "        if self.posterior_predictive is None:\n",
        "            self.posterior_predictive = Predictive(self.model, self.posterior_samples)        \n",
        "\n",
        "    def draw_posterior_predictions(self, plot=False):\n",
        "        if self.posterior_predictive is None:\n",
        "            self.make_posterior_predictive()        \n",
        "        rng_key, rng_key_ = random.split(self.rng_key)\n",
        "        return self.posterior_predictive(rng_key_, y=None)[\"y\"]        "
      ],
      "execution_count": 10,
      "outputs": []
    },
    {
      "cell_type": "code",
      "metadata": {
        "id": "xjYSsEYWHaQ8"
      },
      "source": [
        "def plot_predictions(model, samples, bins=[20, 100], density=[True, True], sharex=True, sharey=True):\n",
        "    fig, ax = plt.subplots(model.G, 2, sharex=sharex, sharey=sharey, figsize=(10, 5))\n",
        "    pal = cycle(sns.color_palette())\n",
        "    for k in range(model.G):\n",
        "        \n",
        "        yk = model.y[model.x==k]\n",
        "        yk_ = samples[:,model.x==k]\n",
        "        c = next(pal)\n",
        "        _ = ax[k, 0].hist(yk, bins=bins[0], color=c, density=density[0])\n",
        "        _ = ax[k, 0].set_xlabel(f'obs: {model.group_names[k]}')\n",
        "        _ = ax[k, 1].hist(yk_.flatten(), bins=bins[1], color=c, density=density[1])\n",
        "        _ = ax[k, 1].set_xlabel(f'predictive: {model.group_names[k]}')\n",
        "\n",
        "    fig.tight_layout(h_pad=2, w_pad=2)\n",
        "    fig.show()\n",
        "\n",
        "def plot_checks(model, samples, bins=30):\n",
        "    fig, ax = plt.subplots(model.G, 4, sharex=False, figsize=(15, 5))\n",
        "    pal = cycle(sns.color_palette())\n",
        "    for k in range(model.G):\n",
        "        c = next(pal)\n",
        "        yk = model.y[model.x==k]\n",
        "        yk_ = samples[:,model.x==k]\n",
        "        \n",
        "        _ = ax[k, 0].hist(np.mean(yk_, 1), bins=bins, color=c, label='pred' if k == 0 else None)\n",
        "        _ = ax[k, 0].axvline(np.mean(yk), color='black', linestyle='--', label='obs' if k == 0 else None)    \n",
        "        _ = ax[k, 0].set_xlabel(f'E[Y{k}]')\n",
        "        \n",
        "        _ = ax[k, 1].hist(np.std(yk_, 1), color=c, bins=bins)    \n",
        "        _ = ax[k, 1].axvline(np.std(yk), color='black', linestyle='--')\n",
        "        _ = ax[k, 1].set_xlabel(f'std[Y{k}]')\n",
        "\n",
        "        _ = ax[k, 2].hist(np.median(yk_, 1), color=c, bins=bins)    \n",
        "        _ = ax[k, 2].axvline(np.median(yk), color='black', linestyle='--')\n",
        "        _ = ax[k, 2].set_xlabel(f'median[Y{k}]')\n",
        "\n",
        "        pvalues = np.mean(yk_ > yk, 1)\n",
        "        _ = ax[k, 3].hist(pvalues, bins=bins)\n",
        "        _ = ax[k, 3].set_xlabel(f'Pr(Y{k} > obs{k})')\n",
        "        _ = ax[k, 3].axvline(np.median(pvalues), color='black', linestyle=':', label='median' if k==0 else None)\n",
        "\n",
        "    _ = fig.legend(loc='upper center', ncol=3)\n",
        "    fig.tight_layout(h_pad=2, w_pad=2)\n",
        "    fig.show()\n"
      ],
      "execution_count": 11,
      "outputs": []
    },
    {
      "cell_type": "markdown",
      "metadata": {
        "id": "1fa2GrmeJ38z"
      },
      "source": [
        "# MCMC \n",
        "\n",
        "I won't really implement MCMC, I'm going to count on Numpyro for that."
      ]
    },
    {
      "cell_type": "code",
      "metadata": {
        "id": "IvIDsJU1g_T_"
      },
      "source": [
        "model = DPMixture2(\n",
        "    ['main', 'findings'], [y_m, y_f], \n",
        "    gamma_shape=[1., 0.1], DP_alpha=0.1, \n",
        "    num_chains=NUM_CHAINS, num_warmup=2000, num_samples=5000)"
      ],
      "execution_count": 12,
      "outputs": []
    },
    {
      "cell_type": "markdown",
      "metadata": {
        "id": "EglW0hpTKCBI"
      },
      "source": [
        "## Prior predictive\n",
        "\n",
        "Plotting samples from the prior predictive distribution (i.e., sampling from the generative story without conditioning on any observations) is a good way to check whether our prior is reasonable. \n",
        "\n",
        "We want to see a predictive curve that could easily include any of our groups."
      ]
    },
    {
      "cell_type": "code",
      "metadata": {
        "colab": {
          "base_uri": "https://localhost:8080/"
        },
        "id": "y4jn5OxTqcIW",
        "outputId": "2256c860-f891-4fd2-8980-2eda5ae55704"
      },
      "source": [
        "prior_samples = model.draw_prior_predictions()\n",
        "prior_samples.shape"
      ],
      "execution_count": 13,
      "outputs": [
        {
          "output_type": "execute_result",
          "data": {
            "text/plain": [
              "(100, 1198)"
            ]
          },
          "metadata": {},
          "execution_count": 13
        }
      ]
    },
    {
      "cell_type": "code",
      "metadata": {
        "colab": {
          "base_uri": "https://localhost:8080/",
          "height": 365
        },
        "id": "Ns3C9QHEtrXY",
        "outputId": "f6ad2f44-ec31-449b-9810-1c6d3624cd0a"
      },
      "source": [
        "_ = plot_predictions(model, prior_samples, bins=[30, 30])"
      ],
      "execution_count": 23,
      "outputs": [
        {
          "output_type": "display_data",
          "data": {
            "image/png": "[encoded data removed]",
            "text/plain": [
              "<Figure size 720x360 with 4 Axes>"
            ]
          },
          "metadata": {}
        }
      ]
    },
    {
      "cell_type": "markdown",
      "metadata": {
        "id": "C6MdnGXDKRov"
      },
      "source": [
        "We can also plot some statistics just to see whether indeed our prior is not excluding plausible observations."
      ]
    },
    {
      "cell_type": "code",
      "metadata": {
        "colab": {
          "base_uri": "https://localhost:8080/",
          "height": 341
        },
        "id": "Oh3nRh6rtf-f",
        "outputId": "f41f6bf3-6765-41ee-b945-1621c08d3638"
      },
      "source": [
        "_ = plot_checks(model, prior_samples)"
      ],
      "execution_count": 15,
      "outputs": [
        {
          "output_type": "display_data",
          "data": {
            "image/png": "[encoded data removed]",
            "text/plain": [
              "<Figure size 1080x360 with 8 Axes>"
            ]
          },
          "metadata": {}
        }
      ]
    },
    {
      "cell_type": "markdown",
      "metadata": {
        "id": "rBzvjW13KfN3"
      },
      "source": [
        "## Posterior\n",
        "\n",
        "Time to run our sampler. Numpyro is fast!"
      ]
    },
    {
      "cell_type": "code",
      "metadata": {
        "colab": {
          "base_uri": "https://localhost:8080/",
          "height": 621,
          "referenced_widgets": [
            "74bb3419d5dc4defbd44a053f6da83e5",
            "cd5d229563a344afb8d94fc4e9d31dbe",
            "83edee25309c4a83b13680f8d460154b",
            "acfb8c354e78427b9d56dad261e0f107",
            "6e54748243e94ba1b9c32cc50f8a3743",
            "236bf0fed0c344a28bde76535791d63a",
            "028bb0a50c604073a1f0d704be7ef0a3",
            "42b6e35c39c04930afc937fd552111e9",
            "9f4aac6325be4c7f85a3344fa4c24d75",
            "e7423b37c90441b89d0962767babc0b2",
            "4364e3923cfa400698efeb8f91404c80",
            "c78dcfa5c8a04525a108126f20a4bd27",
            "0d962147d3474a898690285f3d854562",
            "f98a84b2beb14b36b907274e547b31e9",
            "13c7fc0611d048af917d95fae61d57fc",
            "818d97df46d4480e9bdea454992f1eba",
            "ae089cb6ebba470cb5cab162ab7df270",
            "e427cedad30e4ef3af603171f45d6416",
            "77824c373fc945808834e47c00ac0330",
            "07aede730a494f9ca454b7fea4e4f3c0",
            "b99d170a445e461a9674fe178bb550b8",
            "62380d7d00204d51b3e00d1e08d4255e",
            "1b7f6a431a464393ba47d90e3dac2986",
            "b5f3a08cd92f45f1bcc7e0837188eda3",
            "a467f16c98cb4d138fa2c24f8d91f532",
            "2619f5cf75104754b1ec00928b329d2e",
            "5efe01a1b1844e83a27197edc13e502b",
            "8571b56f410040c8ac6f18808d4015ef",
            "3f7df8c035ae4ab8b33a0c4cecbcc777",
            "e76665bfbaa94190b015999c1d41478e",
            "410fd9a2352a422881d572a911ad22bc",
            "adf68cecdda94843a44aacd9eabeb159",
            "9649b93e4572497098fe5db90db63e3e",
            "79c3caf2e75e4c9881d04e16e3c6aa28",
            "d79836628dee44f491fe60dc42b2e7f9",
            "11ececf3649046a282bcd14551fecccc",
            "e67f82511b0d4c51906b9be53bfe1d3d",
            "e7e79a912f4b4be7b8275f9ce5231fc4",
            "bfb91c74457f41a0a548f077aefc778d",
            "8aa671543ab64daaae3561d5e11a546c",
            "6309f30329004b548cc2715aa44c788c",
            "36bfad302fa84206bae7784a9af52874",
            "31f27077e96e47528fcd55b195657138",
            "2c0794ff5eb3468f8bb92cd7f7d74e17"
          ]
        },
        "id": "IAaiI7QAhMxd",
        "outputId": "07f5309d-3177-479f-b27e-8e6d45ba75d0"
      },
      "source": [
        "model.run()"
      ],
      "execution_count": 16,
      "outputs": [
        {
          "output_type": "display_data",
          "data": {
            "application/vnd.jupyter.widget-view+json": {
              "model_id": "74bb3419d5dc4defbd44a053f6da83e5",
              "version_minor": 0,
              "version_major": 2
            },
            "text/plain": [
              "  0%|          | 0/7000 [00:00<?, ?it/s]"
            ]
          },
          "metadata": {}
        },
        {
          "output_type": "display_data",
          "data": {
            "application/vnd.jupyter.widget-view+json": {
              "model_id": "c78dcfa5c8a04525a108126f20a4bd27",
              "version_minor": 0,
              "version_major": 2
            },
            "text/plain": [
              "  0%|          | 0/7000 [00:00<?, ?it/s]"
            ]
          },
          "metadata": {}
        },
        {
          "output_type": "display_data",
          "data": {
            "application/vnd.jupyter.widget-view+json": {
              "model_id": "1b7f6a431a464393ba47d90e3dac2986",
              "version_minor": 0,
              "version_major": 2
            },
            "text/plain": [
              "  0%|          | 0/7000 [00:00<?, ?it/s]"
            ]
          },
          "metadata": {}
        },
        {
          "output_type": "display_data",
          "data": {
            "application/vnd.jupyter.widget-view+json": {
              "model_id": "79c3caf2e75e4c9881d04e16e3c6aa28",
              "version_minor": 0,
              "version_major": 2
            },
            "text/plain": [
              "  0%|          | 0/7000 [00:00<?, ?it/s]"
            ]
          },
          "metadata": {}
        },
        {
          "output_type": "stream",
          "name": "stdout",
          "text": [
            "\n",
            "                 mean       std    median      5.0%     95.0%     n_eff     r_hat\n",
            "  beta[0,0]      0.54      0.02      0.54      0.51      0.57  16306.61      1.00\n",
            "  beta[0,1]      0.77      0.02      0.77      0.74      0.80  20262.36      1.00\n",
            "  beta[0,2]      0.73      0.04      0.73      0.67      0.80  21085.13      1.00\n",
            "  beta[0,3]      0.91      0.05      0.92      0.84      0.98  23060.48      1.00\n",
            "  beta[1,0]      0.89      0.21      1.00      0.59      1.00  24050.91      1.00\n",
            "  beta[1,1]      0.89      0.21      0.99      0.58      1.00  24644.23      1.00\n",
            "  beta[1,2]      0.89      0.22      0.99      0.57      1.00  22459.49      1.00\n",
            "  beta[1,3]      0.89      0.21      1.00      0.58      1.00  23076.89      1.00\n",
            "lambda[0,0]      3.01      0.14      3.00      2.78      3.24  15942.16      1.00\n",
            "lambda[0,1]      8.69      0.34      8.68      8.12      9.22  17587.86      1.00\n",
            "lambda[0,2]     20.23      1.11     20.19     18.40     22.03  16851.07      1.00\n",
            "lambda[0,3]     43.84      2.25     43.81     40.28     47.60  18264.88      1.00\n",
            "lambda[0,4]    176.61     11.17    176.47    158.08    194.68  22494.29      1.00\n",
            "lambda[1,0]      1.86      0.12      1.85      1.66      2.05  18417.60      1.00\n",
            "lambda[1,1]      8.02      0.37      8.02      7.41      8.64  19650.23      1.00\n",
            "lambda[1,2]     24.30      1.77     24.27     21.31     27.14  19380.46      1.00\n",
            "lambda[1,3]     58.16      4.03     58.02     51.52     64.61  18553.46      1.00\n",
            "lambda[1,4]    261.34     18.31    261.03    230.72    290.99  19709.98      1.00\n",
            "\n",
            "Number of divergences: 0\n",
            "posterior samples shapes:\n",
            "beta (20000, 2, 4)\n",
            "lambda (20000, 2, 5)\n",
            "omega (20000, 2, 5)\n",
            "rate (20000, 2, 5)\n",
            "rate_z (20000, 1198)\n"
          ]
        }
      ]
    },
    {
      "cell_type": "markdown",
      "metadata": {
        "id": "3zKFmgE2KjgC"
      },
      "source": [
        "## Posterior predictive\n",
        "\n",
        "Before any analysis, let's see whether we can trust this model. It's good to plot samples from the posterior predictive distribution (i.e., sample from the generative story *after* conditioning on observations). These can be thought of as replications."
      ]
    },
    {
      "cell_type": "code",
      "metadata": {
        "colab": {
          "base_uri": "https://localhost:8080/"
        },
        "id": "S2S6owDVqOyh",
        "outputId": "ccd3b19f-84c5-4d43-b1e1-3ab9ba0487e0"
      },
      "source": [
        "posterior_samples = model.draw_posterior_predictions()\n",
        "posterior_samples.shape"
      ],
      "execution_count": 17,
      "outputs": [
        {
          "output_type": "execute_result",
          "data": {
            "text/plain": [
              "(20000, 1198)"
            ]
          },
          "metadata": {},
          "execution_count": 17
        }
      ]
    },
    {
      "cell_type": "code",
      "metadata": {
        "colab": {
          "base_uri": "https://localhost:8080/",
          "height": 365
        },
        "id": "8eUOHGsAw3dt",
        "outputId": "4c3ba3a0-c724-4fa6-a6d8-a25944cfd2a0"
      },
      "source": [
        "_ = plot_predictions(model, posterior_samples, bins=[50, 50])"
      ],
      "execution_count": 24,
      "outputs": [
        {
          "output_type": "display_data",
          "data": {
            "image/png": "[encoded data removed]",
            "text/plain": [
              "<Figure size 720x360 with 4 Axes>"
            ]
          },
          "metadata": {}
        }
      ]
    },
    {
      "cell_type": "markdown",
      "metadata": {
        "id": "V9Uf6RRsK3c4"
      },
      "source": [
        "And again, we can check whether our posterior predictive generates datasets with statistics that give support to our observed data."
      ]
    },
    {
      "cell_type": "code",
      "metadata": {
        "colab": {
          "base_uri": "https://localhost:8080/",
          "height": 340
        },
        "id": "gXkRxe0Vw6nJ",
        "outputId": "42987dd3-2dc6-41b6-8598-41d9b95d4879"
      },
      "source": [
        "_ = plot_checks(model, posterior_samples)"
      ],
      "execution_count": 19,
      "outputs": [
        {
          "output_type": "display_data",
          "data": {
            "image/png": "[encoded data removed]",
            "text/plain": [
              "<Figure size 1080x360 with 8 Axes>"
            ]
          },
          "metadata": {}
        }
      ]
    },
    {
      "cell_type": "code",
      "metadata": {
        "colab": {
          "base_uri": "https://localhost:8080/"
        },
        "id": "uF7Krt6MyRut",
        "outputId": "00234752-7fcb-490a-e2a6-7f72bb89afbf"
      },
      "source": [
        "print(tabulate([(k, v.shape) for k, v in model.posterior_samples.items()], headers=['rv', 'shape']))"
      ],
      "execution_count": 20,
      "outputs": [
        {
          "output_type": "stream",
          "name": "stdout",
          "text": [
            "rv      shape\n",
            "------  -------------\n",
            "beta    (20000, 2, 4)\n",
            "lambda  (20000, 2, 5)\n",
            "omega   (20000, 2, 5)\n",
            "rate    (20000, 2, 5)\n",
            "rate_z  (20000, 1198)\n"
          ]
        }
      ]
    },
    {
      "cell_type": "markdown",
      "metadata": {
        "id": "49ydDKDxLAS-"
      },
      "source": [
        "## Analysis of results\n",
        "\n",
        "\n",
        "Now we get to interpret the latent parameters of the model, that is, we get to inspect what *patterns* (i.e., what Poisson components) are probable given the data and our assumptions and how the different groups can be explained using these patterns (i.e., mixing coefficients)."
      ]
    },
    {
      "cell_type": "markdown",
      "metadata": {
        "id": "t8NbkDt0LcHF"
      },
      "source": [
        "Let's start with an overview of the mixing coefficients.\n",
        "\n",
        "See that some components are barely relevant. Mostly we only need the first 2, perhaps the first 3."
      ]
    },
    {
      "cell_type": "code",
      "metadata": {
        "colab": {
          "base_uri": "https://localhost:8080/",
          "height": 365
        },
        "id": "N5kaVqMs5EEB",
        "outputId": "229bed66-3f97-4650-c08d-08624d583e6a"
      },
      "source": [
        "fig, ax = plt.subplots(1, model.G, sharex=True, sharey=True, figsize=(10, 5))\n",
        "for g in range(model.G):\n",
        "    _ = ax[g].boxplot(model.posterior_samples['omega'][:,g,:].transpose())\n",
        "    _ = ax[g].set_xticklabels(np.arange(model.T))\n",
        "    _ = ax[g].set_title(\"shared\")\n",
        "    _ = ax[g].set_xlabel('k')\n",
        "    _ = ax[g].set_ylabel(r'$\\omega_{g,k}$')\n",
        "    break\n",
        "fig.tight_layout(h_pad=2, w_pad=2)"
      ],
      "execution_count": 26,
      "outputs": [
        {
          "output_type": "display_data",
          "data": {
            "image/png": "[encoded data removed]",
            "text/plain": [
              "<Figure size 720x360 with 2 Axes>"
            ]
          },
          "metadata": {}
        }
      ]
    },
    {
      "cell_type": "markdown",
      "metadata": {
        "id": "fai6laXPLl7O"
      },
      "source": [
        "Now, here's the best part.\n",
        "\n",
        "I'm going to plot $T$ rows, each row concerns a component and will contain\n",
        "* a histogram of the probable rates for that component, think of it as how many citations papers explained by that component get on average;\n",
        "* boxplots showing the distribution of that component's weight for the different groups\n",
        "* and because boxplots can be misleading when distributions are not unimodal and symmetric, I also plot histograms for the coefficients."
      ]
    },
    {
      "cell_type": "code",
      "metadata": {
        "colab": {
          "base_uri": "https://localhost:8080/",
          "height": 1000
        },
        "id": "BxHpChKe01hh",
        "outputId": "b3dc714b-aff1-40be-a802-e328cda2d9b6"
      },
      "source": [
        "hatches = ['o', '/']\n",
        "fig, ax = plt.subplots(model.T, 2, figsize=(8, 15))\n",
        "for t in range(model.T):\n",
        "    for g in range(model.G):\n",
        "        _ = ax[t, 0].hist(model.posterior_samples['rate'][:, g, t], alpha=0.5, hatch=hatches[g], bins=50, label=model.group_names[g] if t==0 else None)\n",
        "        _ = ax[t, 0].set_xlabel(r'$\\lambda_{g,%d}$' % t)\n",
        "    # _ = ax[t, 1].boxplot([model.posterior_samples['omega'][:,g,t].transpose() for g in range(model.G)])\n",
        "    az.plot_violin({'': model.posterior_samples['omega'][:,0,t].transpose()}, ax=ax[t,1])\n",
        "    # _ = ax[t, 1].violinplot(\n",
        "    #     model.posterior_samples['omega'][:,0,t].transpose(),\n",
        "    #     showmeans=True,\n",
        "    #     showmedians=True\n",
        "    # )\n",
        "    # _ = ax[t, 1].set_xticklabels(model.group_names)\n",
        "    _ = ax[t, 1].set_ylabel(r'$\\omega_{g,%d}$' % t)    \n",
        "    # for g in range(model.G):\n",
        "    #     # _ = ax[t, 2].hist(model.posterior_samples['omega'][:,g,t], alpha=0.5, hatch=hatches[g], bins=50, label=model.group_names[g] if t==0 else None)\n",
        "    #     _ = ax[t, 2].hist(model.posterior_samples['omega'][:,g,t], color='gray', bins=50, label='shared' if t == 0 else None)\n",
        "    #     _ = ax[t, 2].set_xlabel(r'$\\omega_{g,%d}$' % t)\n",
        "    #     break    \n",
        "    \n",
        "fig.legend()\n",
        "fig.tight_layout(h_pad=2, w_pad=2)"
      ],
      "execution_count": 22,
      "outputs": [
        {
          "output_type": "display_data",
          "data": {
            "image/png": "[encoded data removed]",
            "text/plain": [
              "<Figure size 576x1080 with 10 Axes>"
            ]
          },
          "metadata": {}
        }
      ]
    }
  ]
}