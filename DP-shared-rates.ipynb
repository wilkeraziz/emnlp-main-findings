{
  "nbformat": 4,
  "nbformat_minor": 0,
  "metadata": {
    "colab": {
      "name": "EMNLP-Findings",
      "provenance": [],
      "collapsed_sections": [],
      "toc_visible": true,
      "authorship_tag": "ABX9TyMtyxajcBHuvpJGMCNPI+oe",
      "include_colab_link": true
    },
    "kernelspec": {
      "name": "python3",
      "display_name": "Python 3"
    },
    "language_info": {
      "name": "python"
    },
    "widgets": {
      "application/vnd.jupyter.widget-state+json": {
        "ba96ec876aed41f8895573e1a70df26c": {
          "model_module": "@jupyter-widgets/controls",
          "model_name": "HBoxModel",
          "model_module_version": "1.5.0",
          "state": {
            "_view_name": "HBoxView",
            "_dom_classes": [],
            "_model_name": "HBoxModel",
            "_view_module": "@jupyter-widgets/controls",
            "_model_module_version": "1.5.0",
            "_view_count": null,
            "_view_module_version": "1.5.0",
            "box_style": "",
            "layout": "IPY_MODEL_6851b4f34aa04da3bf2a2e3976ecdbf2",
            "_model_module": "@jupyter-widgets/controls",
            "children": [
              "IPY_MODEL_56740f63573c41cea7cd89ce61e37b8d",
              "IPY_MODEL_d9427b64bc174d2984daadcb2be13e73",
              "IPY_MODEL_9409837b0f26491cbfcc7eb710d93a4f"
            ]
          }
        },
        "6851b4f34aa04da3bf2a2e3976ecdbf2": {
          "model_module": "@jupyter-widgets/base",
          "model_name": "LayoutModel",
          "model_module_version": "1.2.0",
          "state": {
            "_view_name": "LayoutView",
            "grid_template_rows": null,
            "right": null,
            "justify_content": null,
            "_view_module": "@jupyter-widgets/base",
            "overflow": null,
            "_model_module_version": "1.2.0",
            "_view_count": null,
            "flex_flow": null,
            "width": null,
            "min_width": null,
            "border": null,
            "align_items": null,
            "bottom": null,
            "_model_module": "@jupyter-widgets/base",
            "top": null,
            "grid_column": null,
            "overflow_y": null,
            "overflow_x": null,
            "grid_auto_flow": null,
            "grid_area": null,
            "grid_template_columns": null,
            "flex": null,
            "_model_name": "LayoutModel",
            "justify_items": null,
            "grid_row": null,
            "max_height": null,
            "align_content": null,
            "visibility": null,
            "align_self": null,
            "height": null,
            "min_height": null,
            "padding": null,
            "grid_auto_rows": null,
            "grid_gap": null,
            "max_width": null,
            "order": null,
            "_view_module_version": "1.2.0",
            "grid_template_areas": null,
            "object_position": null,
            "object_fit": null,
            "grid_auto_columns": null,
            "margin": null,
            "display": null,
            "left": null
          }
        },
        "56740f63573c41cea7cd89ce61e37b8d": {
          "model_module": "@jupyter-widgets/controls",
          "model_name": "HTMLModel",
          "model_module_version": "1.5.0",
          "state": {
            "_view_name": "HTMLView",
            "style": "IPY_MODEL_068c552f00544efd844531e26a45ca72",
            "_dom_classes": [],
            "description": "",
            "_model_name": "HTMLModel",
            "placeholder": "​",
            "_view_module": "@jupyter-widgets/controls",
            "_model_module_version": "1.5.0",
            "value": "Running chain 0: 100%",
            "_view_count": null,
            "_view_module_version": "1.5.0",
            "description_tooltip": null,
            "_model_module": "@jupyter-widgets/controls",
            "layout": "IPY_MODEL_ea6f0505c7ad4a6ab2d560d4ade409d7"
          }
        },
        "d9427b64bc174d2984daadcb2be13e73": {
          "model_module": "@jupyter-widgets/controls",
          "model_name": "FloatProgressModel",
          "model_module_version": "1.5.0",
          "state": {
            "_view_name": "ProgressView",
            "style": "IPY_MODEL_a4bc81bb396946a1a8a5c41301c32019",
            "_dom_classes": [],
            "description": "",
            "_model_name": "FloatProgressModel",
            "bar_style": "success",
            "max": 7000,
            "_view_module": "@jupyter-widgets/controls",
            "_model_module_version": "1.5.0",
            "value": 7000,
            "_view_count": null,
            "_view_module_version": "1.5.0",
            "orientation": "horizontal",
            "min": 0,
            "description_tooltip": null,
            "_model_module": "@jupyter-widgets/controls",
            "layout": "IPY_MODEL_e870b76cf93c4c19ba3aa47c6ce4f7fe"
          }
        },
        "9409837b0f26491cbfcc7eb710d93a4f": {
          "model_module": "@jupyter-widgets/controls",
          "model_name": "HTMLModel",
          "model_module_version": "1.5.0",
          "state": {
            "_view_name": "HTMLView",
            "style": "IPY_MODEL_33c95f90487841de805fdbbde78c7388",
            "_dom_classes": [],
            "description": "",
            "_model_name": "HTMLModel",
            "placeholder": "​",
            "_view_module": "@jupyter-widgets/controls",
            "_model_module_version": "1.5.0",
            "value": " 7000/7000 [00:45&lt;00:00, 254.59it/s]",
            "_view_count": null,
            "_view_module_version": "1.5.0",
            "description_tooltip": null,
            "_model_module": "@jupyter-widgets/controls",
            "layout": "IPY_MODEL_7507ae5acfa54886813ca0ab892319e9"
          }
        },
        "068c552f00544efd844531e26a45ca72": {
          "model_module": "@jupyter-widgets/controls",
          "model_name": "DescriptionStyleModel",
          "model_module_version": "1.5.0",
          "state": {
            "_view_name": "StyleView",
            "_model_name": "DescriptionStyleModel",
            "description_width": "",
            "_view_module": "@jupyter-widgets/base",
            "_model_module_version": "1.5.0",
            "_view_count": null,
            "_view_module_version": "1.2.0",
            "_model_module": "@jupyter-widgets/controls"
          }
        },
        "ea6f0505c7ad4a6ab2d560d4ade409d7": {
          "model_module": "@jupyter-widgets/base",
          "model_name": "LayoutModel",
          "model_module_version": "1.2.0",
          "state": {
            "_view_name": "LayoutView",
            "grid_template_rows": null,
            "right": null,
            "justify_content": null,
            "_view_module": "@jupyter-widgets/base",
            "overflow": null,
            "_model_module_version": "1.2.0",
            "_view_count": null,
            "flex_flow": null,
            "width": null,
            "min_width": null,
            "border": null,
            "align_items": null,
            "bottom": null,
            "_model_module": "@jupyter-widgets/base",
            "top": null,
            "grid_column": null,
            "overflow_y": null,
            "overflow_x": null,
            "grid_auto_flow": null,
            "grid_area": null,
            "grid_template_columns": null,
            "flex": null,
            "_model_name": "LayoutModel",
            "justify_items": null,
            "grid_row": null,
            "max_height": null,
            "align_content": null,
            "visibility": null,
            "align_self": null,
            "height": null,
            "min_height": null,
            "padding": null,
            "grid_auto_rows": null,
            "grid_gap": null,
            "max_width": null,
            "order": null,
            "_view_module_version": "1.2.0",
            "grid_template_areas": null,
            "object_position": null,
            "object_fit": null,
            "grid_auto_columns": null,
            "margin": null,
            "display": null,
            "left": null
          }
        },
        "a4bc81bb396946a1a8a5c41301c32019": {
          "model_module": "@jupyter-widgets/controls",
          "model_name": "ProgressStyleModel",
          "model_module_version": "1.5.0",
          "state": {
            "_view_name": "StyleView",
            "_model_name": "ProgressStyleModel",
            "description_width": "",
            "_view_module": "@jupyter-widgets/base",
            "_model_module_version": "1.5.0",
            "_view_count": null,
            "_view_module_version": "1.2.0",
            "bar_color": null,
            "_model_module": "@jupyter-widgets/controls"
          }
        },
        "e870b76cf93c4c19ba3aa47c6ce4f7fe": {
          "model_module": "@jupyter-widgets/base",
          "model_name": "LayoutModel",
          "model_module_version": "1.2.0",
          "state": {
            "_view_name": "LayoutView",
            "grid_template_rows": null,
            "right": null,
            "justify_content": null,
            "_view_module": "@jupyter-widgets/base",
            "overflow": null,
            "_model_module_version": "1.2.0",
            "_view_count": null,
            "flex_flow": null,
            "width": null,
            "min_width": null,
            "border": null,
            "align_items": null,
            "bottom": null,
            "_model_module": "@jupyter-widgets/base",
            "top": null,
            "grid_column": null,
            "overflow_y": null,
            "overflow_x": null,
            "grid_auto_flow": null,
            "grid_area": null,
            "grid_template_columns": null,
            "flex": null,
            "_model_name": "LayoutModel",
            "justify_items": null,
            "grid_row": null,
            "max_height": null,
            "align_content": null,
            "visibility": null,
            "align_self": null,
            "height": null,
            "min_height": null,
            "padding": null,
            "grid_auto_rows": null,
            "grid_gap": null,
            "max_width": null,
            "order": null,
            "_view_module_version": "1.2.0",
            "grid_template_areas": null,
            "object_position": null,
            "object_fit": null,
            "grid_auto_columns": null,
            "margin": null,
            "display": null,
            "left": null
          }
        },
        "33c95f90487841de805fdbbde78c7388": {
          "model_module": "@jupyter-widgets/controls",
          "model_name": "DescriptionStyleModel",
          "model_module_version": "1.5.0",
          "state": {
            "_view_name": "StyleView",
            "_model_name": "DescriptionStyleModel",
            "description_width": "",
            "_view_module": "@jupyter-widgets/base",
            "_model_module_version": "1.5.0",
            "_view_count": null,
            "_view_module_version": "1.2.0",
            "_model_module": "@jupyter-widgets/controls"
          }
        },
        "7507ae5acfa54886813ca0ab892319e9": {
          "model_module": "@jupyter-widgets/base",
          "model_name": "LayoutModel",
          "model_module_version": "1.2.0",
          "state": {
            "_view_name": "LayoutView",
            "grid_template_rows": null,
            "right": null,
            "justify_content": null,
            "_view_module": "@jupyter-widgets/base",
            "overflow": null,
            "_model_module_version": "1.2.0",
            "_view_count": null,
            "flex_flow": null,
            "width": null,
            "min_width": null,
            "border": null,
            "align_items": null,
            "bottom": null,
            "_model_module": "@jupyter-widgets/base",
            "top": null,
            "grid_column": null,
            "overflow_y": null,
            "overflow_x": null,
            "grid_auto_flow": null,
            "grid_area": null,
            "grid_template_columns": null,
            "flex": null,
            "_model_name": "LayoutModel",
            "justify_items": null,
            "grid_row": null,
            "max_height": null,
            "align_content": null,
            "visibility": null,
            "align_self": null,
            "height": null,
            "min_height": null,
            "padding": null,
            "grid_auto_rows": null,
            "grid_gap": null,
            "max_width": null,
            "order": null,
            "_view_module_version": "1.2.0",
            "grid_template_areas": null,
            "object_position": null,
            "object_fit": null,
            "grid_auto_columns": null,
            "margin": null,
            "display": null,
            "left": null
          }
        },
        "7d84ba3c74554ccdafac3bff9cfe3b09": {
          "model_module": "@jupyter-widgets/controls",
          "model_name": "HBoxModel",
          "model_module_version": "1.5.0",
          "state": {
            "_view_name": "HBoxView",
            "_dom_classes": [],
            "_model_name": "HBoxModel",
            "_view_module": "@jupyter-widgets/controls",
            "_model_module_version": "1.5.0",
            "_view_count": null,
            "_view_module_version": "1.5.0",
            "box_style": "",
            "layout": "IPY_MODEL_48e3d3a94199461380ade1d028bc9006",
            "_model_module": "@jupyter-widgets/controls",
            "children": [
              "IPY_MODEL_65980422ed4944599a7a2c88e0347309",
              "IPY_MODEL_e6a06c6763bd4a108453a36f4a55e4e1",
              "IPY_MODEL_208783f25ce944138875090da1cfa2cc"
            ]
          }
        },
        "48e3d3a94199461380ade1d028bc9006": {
          "model_module": "@jupyter-widgets/base",
          "model_name": "LayoutModel",
          "model_module_version": "1.2.0",
          "state": {
            "_view_name": "LayoutView",
            "grid_template_rows": null,
            "right": null,
            "justify_content": null,
            "_view_module": "@jupyter-widgets/base",
            "overflow": null,
            "_model_module_version": "1.2.0",
            "_view_count": null,
            "flex_flow": null,
            "width": null,
            "min_width": null,
            "border": null,
            "align_items": null,
            "bottom": null,
            "_model_module": "@jupyter-widgets/base",
            "top": null,
            "grid_column": null,
            "overflow_y": null,
            "overflow_x": null,
            "grid_auto_flow": null,
            "grid_area": null,
            "grid_template_columns": null,
            "flex": null,
            "_model_name": "LayoutModel",
            "justify_items": null,
            "grid_row": null,
            "max_height": null,
            "align_content": null,
            "visibility": null,
            "align_self": null,
            "height": null,
            "min_height": null,
            "padding": null,
            "grid_auto_rows": null,
            "grid_gap": null,
            "max_width": null,
            "order": null,
            "_view_module_version": "1.2.0",
            "grid_template_areas": null,
            "object_position": null,
            "object_fit": null,
            "grid_auto_columns": null,
            "margin": null,
            "display": null,
            "left": null
          }
        },
        "65980422ed4944599a7a2c88e0347309": {
          "model_module": "@jupyter-widgets/controls",
          "model_name": "HTMLModel",
          "model_module_version": "1.5.0",
          "state": {
            "_view_name": "HTMLView",
            "style": "IPY_MODEL_ffe4f7ffdf1643a294378922d84c7112",
            "_dom_classes": [],
            "description": "",
            "_model_name": "HTMLModel",
            "placeholder": "​",
            "_view_module": "@jupyter-widgets/controls",
            "_model_module_version": "1.5.0",
            "value": "Running chain 1: 100%",
            "_view_count": null,
            "_view_module_version": "1.5.0",
            "description_tooltip": null,
            "_model_module": "@jupyter-widgets/controls",
            "layout": "IPY_MODEL_a6d87d24d7b74c9698d4a50298c49761"
          }
        },
        "e6a06c6763bd4a108453a36f4a55e4e1": {
          "model_module": "@jupyter-widgets/controls",
          "model_name": "FloatProgressModel",
          "model_module_version": "1.5.0",
          "state": {
            "_view_name": "ProgressView",
            "style": "IPY_MODEL_c8f77874b75b421f8d675f43b2d376b0",
            "_dom_classes": [],
            "description": "",
            "_model_name": "FloatProgressModel",
            "bar_style": "success",
            "max": 7000,
            "_view_module": "@jupyter-widgets/controls",
            "_model_module_version": "1.5.0",
            "value": 7000,
            "_view_count": null,
            "_view_module_version": "1.5.0",
            "orientation": "horizontal",
            "min": 0,
            "description_tooltip": null,
            "_model_module": "@jupyter-widgets/controls",
            "layout": "IPY_MODEL_c5fb8009a79a4593886f30ba84007809"
          }
        },
        "208783f25ce944138875090da1cfa2cc": {
          "model_module": "@jupyter-widgets/controls",
          "model_name": "HTMLModel",
          "model_module_version": "1.5.0",
          "state": {
            "_view_name": "HTMLView",
            "style": "IPY_MODEL_1b39f13b68944f069cd0440025c45dc9",
            "_dom_classes": [],
            "description": "",
            "_model_name": "HTMLModel",
            "placeholder": "​",
            "_view_module": "@jupyter-widgets/controls",
            "_model_module_version": "1.5.0",
            "value": " 7000/7000 [00:45&lt;00:00, 237.15it/s]",
            "_view_count": null,
            "_view_module_version": "1.5.0",
            "description_tooltip": null,
            "_model_module": "@jupyter-widgets/controls",
            "layout": "IPY_MODEL_a506e59f574f4ed2a0fc3685a46a770a"
          }
        },
        "ffe4f7ffdf1643a294378922d84c7112": {
          "model_module": "@jupyter-widgets/controls",
          "model_name": "DescriptionStyleModel",
          "model_module_version": "1.5.0",
          "state": {
            "_view_name": "StyleView",
            "_model_name": "DescriptionStyleModel",
            "description_width": "",
            "_view_module": "@jupyter-widgets/base",
            "_model_module_version": "1.5.0",
            "_view_count": null,
            "_view_module_version": "1.2.0",
            "_model_module": "@jupyter-widgets/controls"
          }
        },
        "a6d87d24d7b74c9698d4a50298c49761": {
          "model_module": "@jupyter-widgets/base",
          "model_name": "LayoutModel",
          "model_module_version": "1.2.0",
          "state": {
            "_view_name": "LayoutView",
            "grid_template_rows": null,
            "right": null,
            "justify_content": null,
            "_view_module": "@jupyter-widgets/base",
            "overflow": null,
            "_model_module_version": "1.2.0",
            "_view_count": null,
            "flex_flow": null,
            "width": null,
            "min_width": null,
            "border": null,
            "align_items": null,
            "bottom": null,
            "_model_module": "@jupyter-widgets/base",
            "top": null,
            "grid_column": null,
            "overflow_y": null,
            "overflow_x": null,
            "grid_auto_flow": null,
            "grid_area": null,
            "grid_template_columns": null,
            "flex": null,
            "_model_name": "LayoutModel",
            "justify_items": null,
            "grid_row": null,
            "max_height": null,
            "align_content": null,
            "visibility": null,
            "align_self": null,
            "height": null,
            "min_height": null,
            "padding": null,
            "grid_auto_rows": null,
            "grid_gap": null,
            "max_width": null,
            "order": null,
            "_view_module_version": "1.2.0",
            "grid_template_areas": null,
            "object_position": null,
            "object_fit": null,
            "grid_auto_columns": null,
            "margin": null,
            "display": null,
            "left": null
          }
        },
        "c8f77874b75b421f8d675f43b2d376b0": {
          "model_module": "@jupyter-widgets/controls",
          "model_name": "ProgressStyleModel",
          "model_module_version": "1.5.0",
          "state": {
            "_view_name": "StyleView",
            "_model_name": "ProgressStyleModel",
            "description_width": "",
            "_view_module": "@jupyter-widgets/base",
            "_model_module_version": "1.5.0",
            "_view_count": null,
            "_view_module_version": "1.2.0",
            "bar_color": null,
            "_model_module": "@jupyter-widgets/controls"
          }
        },
        "c5fb8009a79a4593886f30ba84007809": {
          "model_module": "@jupyter-widgets/base",
          "model_name": "LayoutModel",
          "model_module_version": "1.2.0",
          "state": {
            "_view_name": "LayoutView",
            "grid_template_rows": null,
            "right": null,
            "justify_content": null,
            "_view_module": "@jupyter-widgets/base",
            "overflow": null,
            "_model_module_version": "1.2.0",
            "_view_count": null,
            "flex_flow": null,
            "width": null,
            "min_width": null,
            "border": null,
            "align_items": null,
            "bottom": null,
            "_model_module": "@jupyter-widgets/base",
            "top": null,
            "grid_column": null,
            "overflow_y": null,
            "overflow_x": null,
            "grid_auto_flow": null,
            "grid_area": null,
            "grid_template_columns": null,
            "flex": null,
            "_model_name": "LayoutModel",
            "justify_items": null,
            "grid_row": null,
            "max_height": null,
            "align_content": null,
            "visibility": null,
            "align_self": null,
            "height": null,
            "min_height": null,
            "padding": null,
            "grid_auto_rows": null,
            "grid_gap": null,
            "max_width": null,
            "order": null,
            "_view_module_version": "1.2.0",
            "grid_template_areas": null,
            "object_position": null,
            "object_fit": null,
            "grid_auto_columns": null,
            "margin": null,
            "display": null,
            "left": null
          }
        },
        "1b39f13b68944f069cd0440025c45dc9": {
          "model_module": "@jupyter-widgets/controls",
          "model_name": "DescriptionStyleModel",
          "model_module_version": "1.5.0",
          "state": {
            "_view_name": "StyleView",
            "_model_name": "DescriptionStyleModel",
            "description_width": "",
            "_view_module": "@jupyter-widgets/base",
            "_model_module_version": "1.5.0",
            "_view_count": null,
            "_view_module_version": "1.2.0",
            "_model_module": "@jupyter-widgets/controls"
          }
        },
        "a506e59f574f4ed2a0fc3685a46a770a": {
          "model_module": "@jupyter-widgets/base",
          "model_name": "LayoutModel",
          "model_module_version": "1.2.0",
          "state": {
            "_view_name": "LayoutView",
            "grid_template_rows": null,
            "right": null,
            "justify_content": null,
            "_view_module": "@jupyter-widgets/base",
            "overflow": null,
            "_model_module_version": "1.2.0",
            "_view_count": null,
            "flex_flow": null,
            "width": null,
            "min_width": null,
            "border": null,
            "align_items": null,
            "bottom": null,
            "_model_module": "@jupyter-widgets/base",
            "top": null,
            "grid_column": null,
            "overflow_y": null,
            "overflow_x": null,
            "grid_auto_flow": null,
            "grid_area": null,
            "grid_template_columns": null,
            "flex": null,
            "_model_name": "LayoutModel",
            "justify_items": null,
            "grid_row": null,
            "max_height": null,
            "align_content": null,
            "visibility": null,
            "align_self": null,
            "height": null,
            "min_height": null,
            "padding": null,
            "grid_auto_rows": null,
            "grid_gap": null,
            "max_width": null,
            "order": null,
            "_view_module_version": "1.2.0",
            "grid_template_areas": null,
            "object_position": null,
            "object_fit": null,
            "grid_auto_columns": null,
            "margin": null,
            "display": null,
            "left": null
          }
        },
        "07a82759d8c8425f8886e7355831545e": {
          "model_module": "@jupyter-widgets/controls",
          "model_name": "HBoxModel",
          "model_module_version": "1.5.0",
          "state": {
            "_view_name": "HBoxView",
            "_dom_classes": [],
            "_model_name": "HBoxModel",
            "_view_module": "@jupyter-widgets/controls",
            "_model_module_version": "1.5.0",
            "_view_count": null,
            "_view_module_version": "1.5.0",
            "box_style": "",
            "layout": "IPY_MODEL_11d5e6784b204d88bfc23992ab09b1f9",
            "_model_module": "@jupyter-widgets/controls",
            "children": [
              "IPY_MODEL_4d190983d6cd45b6a2e8a8b9b93a3d26",
              "IPY_MODEL_3a6c77d1239d4d388fc396ec09980110",
              "IPY_MODEL_269b14c475aa4a6dac536a7996ba06e0"
            ]
          }
        },
        "11d5e6784b204d88bfc23992ab09b1f9": {
          "model_module": "@jupyter-widgets/base",
          "model_name": "LayoutModel",
          "model_module_version": "1.2.0",
          "state": {
            "_view_name": "LayoutView",
            "grid_template_rows": null,
            "right": null,
            "justify_content": null,
            "_view_module": "@jupyter-widgets/base",
            "overflow": null,
            "_model_module_version": "1.2.0",
            "_view_count": null,
            "flex_flow": null,
            "width": null,
            "min_width": null,
            "border": null,
            "align_items": null,
            "bottom": null,
            "_model_module": "@jupyter-widgets/base",
            "top": null,
            "grid_column": null,
            "overflow_y": null,
            "overflow_x": null,
            "grid_auto_flow": null,
            "grid_area": null,
            "grid_template_columns": null,
            "flex": null,
            "_model_name": "LayoutModel",
            "justify_items": null,
            "grid_row": null,
            "max_height": null,
            "align_content": null,
            "visibility": null,
            "align_self": null,
            "height": null,
            "min_height": null,
            "padding": null,
            "grid_auto_rows": null,
            "grid_gap": null,
            "max_width": null,
            "order": null,
            "_view_module_version": "1.2.0",
            "grid_template_areas": null,
            "object_position": null,
            "object_fit": null,
            "grid_auto_columns": null,
            "margin": null,
            "display": null,
            "left": null
          }
        },
        "4d190983d6cd45b6a2e8a8b9b93a3d26": {
          "model_module": "@jupyter-widgets/controls",
          "model_name": "HTMLModel",
          "model_module_version": "1.5.0",
          "state": {
            "_view_name": "HTMLView",
            "style": "IPY_MODEL_31bf25928240441a88f5f1ca5a799fa0",
            "_dom_classes": [],
            "description": "",
            "_model_name": "HTMLModel",
            "placeholder": "​",
            "_view_module": "@jupyter-widgets/controls",
            "_model_module_version": "1.5.0",
            "value": "Running chain 2: 100%",
            "_view_count": null,
            "_view_module_version": "1.5.0",
            "description_tooltip": null,
            "_model_module": "@jupyter-widgets/controls",
            "layout": "IPY_MODEL_571e9138be814098bca1cd90abf272d1"
          }
        },
        "3a6c77d1239d4d388fc396ec09980110": {
          "model_module": "@jupyter-widgets/controls",
          "model_name": "FloatProgressModel",
          "model_module_version": "1.5.0",
          "state": {
            "_view_name": "ProgressView",
            "style": "IPY_MODEL_8c4e40648dab4b6ab58e2400e1bddc8a",
            "_dom_classes": [],
            "description": "",
            "_model_name": "FloatProgressModel",
            "bar_style": "success",
            "max": 7000,
            "_view_module": "@jupyter-widgets/controls",
            "_model_module_version": "1.5.0",
            "value": 7000,
            "_view_count": null,
            "_view_module_version": "1.5.0",
            "orientation": "horizontal",
            "min": 0,
            "description_tooltip": null,
            "_model_module": "@jupyter-widgets/controls",
            "layout": "IPY_MODEL_76f5335a5aa140e8926294e2bb9aba25"
          }
        },
        "269b14c475aa4a6dac536a7996ba06e0": {
          "model_module": "@jupyter-widgets/controls",
          "model_name": "HTMLModel",
          "model_module_version": "1.5.0",
          "state": {
            "_view_name": "HTMLView",
            "style": "IPY_MODEL_5be13ad55bb540fe8f84ffd4892b5c5a",
            "_dom_classes": [],
            "description": "",
            "_model_name": "HTMLModel",
            "placeholder": "​",
            "_view_module": "@jupyter-widgets/controls",
            "_model_module_version": "1.5.0",
            "value": " 7000/7000 [00:45&lt;00:00, 231.72it/s]",
            "_view_count": null,
            "_view_module_version": "1.5.0",
            "description_tooltip": null,
            "_model_module": "@jupyter-widgets/controls",
            "layout": "IPY_MODEL_8c2d9ef312074791a108813705b23d5f"
          }
        },
        "31bf25928240441a88f5f1ca5a799fa0": {
          "model_module": "@jupyter-widgets/controls",
          "model_name": "DescriptionStyleModel",
          "model_module_version": "1.5.0",
          "state": {
            "_view_name": "StyleView",
            "_model_name": "DescriptionStyleModel",
            "description_width": "",
            "_view_module": "@jupyter-widgets/base",
            "_model_module_version": "1.5.0",
            "_view_count": null,
            "_view_module_version": "1.2.0",
            "_model_module": "@jupyter-widgets/controls"
          }
        },
        "571e9138be814098bca1cd90abf272d1": {
          "model_module": "@jupyter-widgets/base",
          "model_name": "LayoutModel",
          "model_module_version": "1.2.0",
          "state": {
            "_view_name": "LayoutView",
            "grid_template_rows": null,
            "right": null,
            "justify_content": null,
            "_view_module": "@jupyter-widgets/base",
            "overflow": null,
            "_model_module_version": "1.2.0",
            "_view_count": null,
            "flex_flow": null,
            "width": null,
            "min_width": null,
            "border": null,
            "align_items": null,
            "bottom": null,
            "_model_module": "@jupyter-widgets/base",
            "top": null,
            "grid_column": null,
            "overflow_y": null,
            "overflow_x": null,
            "grid_auto_flow": null,
            "grid_area": null,
            "grid_template_columns": null,
            "flex": null,
            "_model_name": "LayoutModel",
            "justify_items": null,
            "grid_row": null,
            "max_height": null,
            "align_content": null,
            "visibility": null,
            "align_self": null,
            "height": null,
            "min_height": null,
            "padding": null,
            "grid_auto_rows": null,
            "grid_gap": null,
            "max_width": null,
            "order": null,
            "_view_module_version": "1.2.0",
            "grid_template_areas": null,
            "object_position": null,
            "object_fit": null,
            "grid_auto_columns": null,
            "margin": null,
            "display": null,
            "left": null
          }
        },
        "8c4e40648dab4b6ab58e2400e1bddc8a": {
          "model_module": "@jupyter-widgets/controls",
          "model_name": "ProgressStyleModel",
          "model_module_version": "1.5.0",
          "state": {
            "_view_name": "StyleView",
            "_model_name": "ProgressStyleModel",
            "description_width": "",
            "_view_module": "@jupyter-widgets/base",
            "_model_module_version": "1.5.0",
            "_view_count": null,
            "_view_module_version": "1.2.0",
            "bar_color": null,
            "_model_module": "@jupyter-widgets/controls"
          }
        },
        "76f5335a5aa140e8926294e2bb9aba25": {
          "model_module": "@jupyter-widgets/base",
          "model_name": "LayoutModel",
          "model_module_version": "1.2.0",
          "state": {
            "_view_name": "LayoutView",
            "grid_template_rows": null,
            "right": null,
            "justify_content": null,
            "_view_module": "@jupyter-widgets/base",
            "overflow": null,
            "_model_module_version": "1.2.0",
            "_view_count": null,
            "flex_flow": null,
            "width": null,
            "min_width": null,
            "border": null,
            "align_items": null,
            "bottom": null,
            "_model_module": "@jupyter-widgets/base",
            "top": null,
            "grid_column": null,
            "overflow_y": null,
            "overflow_x": null,
            "grid_auto_flow": null,
            "grid_area": null,
            "grid_template_columns": null,
            "flex": null,
            "_model_name": "LayoutModel",
            "justify_items": null,
            "grid_row": null,
            "max_height": null,
            "align_content": null,
            "visibility": null,
            "align_self": null,
            "height": null,
            "min_height": null,
            "padding": null,
            "grid_auto_rows": null,
            "grid_gap": null,
            "max_width": null,
            "order": null,
            "_view_module_version": "1.2.0",
            "grid_template_areas": null,
            "object_position": null,
            "object_fit": null,
            "grid_auto_columns": null,
            "margin": null,
            "display": null,
            "left": null
          }
        },
        "5be13ad55bb540fe8f84ffd4892b5c5a": {
          "model_module": "@jupyter-widgets/controls",
          "model_name": "DescriptionStyleModel",
          "model_module_version": "1.5.0",
          "state": {
            "_view_name": "StyleView",
            "_model_name": "DescriptionStyleModel",
            "description_width": "",
            "_view_module": "@jupyter-widgets/base",
            "_model_module_version": "1.5.0",
            "_view_count": null,
            "_view_module_version": "1.2.0",
            "_model_module": "@jupyter-widgets/controls"
          }
        },
        "8c2d9ef312074791a108813705b23d5f": {
          "model_module": "@jupyter-widgets/base",
          "model_name": "LayoutModel",
          "model_module_version": "1.2.0",
          "state": {
            "_view_name": "LayoutView",
            "grid_template_rows": null,
            "right": null,
            "justify_content": null,
            "_view_module": "@jupyter-widgets/base",
            "overflow": null,
            "_model_module_version": "1.2.0",
            "_view_count": null,
            "flex_flow": null,
            "width": null,
            "min_width": null,
            "border": null,
            "align_items": null,
            "bottom": null,
            "_model_module": "@jupyter-widgets/base",
            "top": null,
            "grid_column": null,
            "overflow_y": null,
            "overflow_x": null,
            "grid_auto_flow": null,
            "grid_area": null,
            "grid_template_columns": null,
            "flex": null,
            "_model_name": "LayoutModel",
            "justify_items": null,
            "grid_row": null,
            "max_height": null,
            "align_content": null,
            "visibility": null,
            "align_self": null,
            "height": null,
            "min_height": null,
            "padding": null,
            "grid_auto_rows": null,
            "grid_gap": null,
            "max_width": null,
            "order": null,
            "_view_module_version": "1.2.0",
            "grid_template_areas": null,
            "object_position": null,
            "object_fit": null,
            "grid_auto_columns": null,
            "margin": null,
            "display": null,
            "left": null
          }
        },
        "cdb24674754d4b9bbd689a1ac6027c42": {
          "model_module": "@jupyter-widgets/controls",
          "model_name": "HBoxModel",
          "model_module_version": "1.5.0",
          "state": {
            "_view_name": "HBoxView",
            "_dom_classes": [],
            "_model_name": "HBoxModel",
            "_view_module": "@jupyter-widgets/controls",
            "_model_module_version": "1.5.0",
            "_view_count": null,
            "_view_module_version": "1.5.0",
            "box_style": "",
            "layout": "IPY_MODEL_b55e26487ec7479698218379da1ea000",
            "_model_module": "@jupyter-widgets/controls",
            "children": [
              "IPY_MODEL_2eb43e7aaad948f6b705081e160b0eea",
              "IPY_MODEL_d07fa33e2aea4f51b720955474ed4f49",
              "IPY_MODEL_c3fe541ffb224822abab474e5f4effdf"
            ]
          }
        },
        "b55e26487ec7479698218379da1ea000": {
          "model_module": "@jupyter-widgets/base",
          "model_name": "LayoutModel",
          "model_module_version": "1.2.0",
          "state": {
            "_view_name": "LayoutView",
            "grid_template_rows": null,
            "right": null,
            "justify_content": null,
            "_view_module": "@jupyter-widgets/base",
            "overflow": null,
            "_model_module_version": "1.2.0",
            "_view_count": null,
            "flex_flow": null,
            "width": null,
            "min_width": null,
            "border": null,
            "align_items": null,
            "bottom": null,
            "_model_module": "@jupyter-widgets/base",
            "top": null,
            "grid_column": null,
            "overflow_y": null,
            "overflow_x": null,
            "grid_auto_flow": null,
            "grid_area": null,
            "grid_template_columns": null,
            "flex": null,
            "_model_name": "LayoutModel",
            "justify_items": null,
            "grid_row": null,
            "max_height": null,
            "align_content": null,
            "visibility": null,
            "align_self": null,
            "height": null,
            "min_height": null,
            "padding": null,
            "grid_auto_rows": null,
            "grid_gap": null,
            "max_width": null,
            "order": null,
            "_view_module_version": "1.2.0",
            "grid_template_areas": null,
            "object_position": null,
            "object_fit": null,
            "grid_auto_columns": null,
            "margin": null,
            "display": null,
            "left": null
          }
        },
        "2eb43e7aaad948f6b705081e160b0eea": {
          "model_module": "@jupyter-widgets/controls",
          "model_name": "HTMLModel",
          "model_module_version": "1.5.0",
          "state": {
            "_view_name": "HTMLView",
            "style": "IPY_MODEL_00c94bc06db34205bf979b7d15a39f89",
            "_dom_classes": [],
            "description": "",
            "_model_name": "HTMLModel",
            "placeholder": "​",
            "_view_module": "@jupyter-widgets/controls",
            "_model_module_version": "1.5.0",
            "value": "Running chain 3: 100%",
            "_view_count": null,
            "_view_module_version": "1.5.0",
            "description_tooltip": null,
            "_model_module": "@jupyter-widgets/controls",
            "layout": "IPY_MODEL_bc4f186497214c6ab708b9bd086baa84"
          }
        },
        "d07fa33e2aea4f51b720955474ed4f49": {
          "model_module": "@jupyter-widgets/controls",
          "model_name": "FloatProgressModel",
          "model_module_version": "1.5.0",
          "state": {
            "_view_name": "ProgressView",
            "style": "IPY_MODEL_42c30801903147978092c6ca9cf441e6",
            "_dom_classes": [],
            "description": "",
            "_model_name": "FloatProgressModel",
            "bar_style": "success",
            "max": 7000,
            "_view_module": "@jupyter-widgets/controls",
            "_model_module_version": "1.5.0",
            "value": 7000,
            "_view_count": null,
            "_view_module_version": "1.5.0",
            "orientation": "horizontal",
            "min": 0,
            "description_tooltip": null,
            "_model_module": "@jupyter-widgets/controls",
            "layout": "IPY_MODEL_0e847f74c3da4685a95c5f953b7a7649"
          }
        },
        "c3fe541ffb224822abab474e5f4effdf": {
          "model_module": "@jupyter-widgets/controls",
          "model_name": "HTMLModel",
          "model_module_version": "1.5.0",
          "state": {
            "_view_name": "HTMLView",
            "style": "IPY_MODEL_3b831b1cdb30411c93c207b48a1fa94a",
            "_dom_classes": [],
            "description": "",
            "_model_name": "HTMLModel",
            "placeholder": "​",
            "_view_module": "@jupyter-widgets/controls",
            "_model_module_version": "1.5.0",
            "value": " 7000/7000 [00:45&lt;00:00, 230.30it/s]",
            "_view_count": null,
            "_view_module_version": "1.5.0",
            "description_tooltip": null,
            "_model_module": "@jupyter-widgets/controls",
            "layout": "IPY_MODEL_bf1c2c44b07e453c8827e735423002c5"
          }
        },
        "00c94bc06db34205bf979b7d15a39f89": {
          "model_module": "@jupyter-widgets/controls",
          "model_name": "DescriptionStyleModel",
          "model_module_version": "1.5.0",
          "state": {
            "_view_name": "StyleView",
            "_model_name": "DescriptionStyleModel",
            "description_width": "",
            "_view_module": "@jupyter-widgets/base",
            "_model_module_version": "1.5.0",
            "_view_count": null,
            "_view_module_version": "1.2.0",
            "_model_module": "@jupyter-widgets/controls"
          }
        },
        "bc4f186497214c6ab708b9bd086baa84": {
          "model_module": "@jupyter-widgets/base",
          "model_name": "LayoutModel",
          "model_module_version": "1.2.0",
          "state": {
            "_view_name": "LayoutView",
            "grid_template_rows": null,
            "right": null,
            "justify_content": null,
            "_view_module": "@jupyter-widgets/base",
            "overflow": null,
            "_model_module_version": "1.2.0",
            "_view_count": null,
            "flex_flow": null,
            "width": null,
            "min_width": null,
            "border": null,
            "align_items": null,
            "bottom": null,
            "_model_module": "@jupyter-widgets/base",
            "top": null,
            "grid_column": null,
            "overflow_y": null,
            "overflow_x": null,
            "grid_auto_flow": null,
            "grid_area": null,
            "grid_template_columns": null,
            "flex": null,
            "_model_name": "LayoutModel",
            "justify_items": null,
            "grid_row": null,
            "max_height": null,
            "align_content": null,
            "visibility": null,
            "align_self": null,
            "height": null,
            "min_height": null,
            "padding": null,
            "grid_auto_rows": null,
            "grid_gap": null,
            "max_width": null,
            "order": null,
            "_view_module_version": "1.2.0",
            "grid_template_areas": null,
            "object_position": null,
            "object_fit": null,
            "grid_auto_columns": null,
            "margin": null,
            "display": null,
            "left": null
          }
        },
        "42c30801903147978092c6ca9cf441e6": {
          "model_module": "@jupyter-widgets/controls",
          "model_name": "ProgressStyleModel",
          "model_module_version": "1.5.0",
          "state": {
            "_view_name": "StyleView",
            "_model_name": "ProgressStyleModel",
            "description_width": "",
            "_view_module": "@jupyter-widgets/base",
            "_model_module_version": "1.5.0",
            "_view_count": null,
            "_view_module_version": "1.2.0",
            "bar_color": null,
            "_model_module": "@jupyter-widgets/controls"
          }
        },
        "0e847f74c3da4685a95c5f953b7a7649": {
          "model_module": "@jupyter-widgets/base",
          "model_name": "LayoutModel",
          "model_module_version": "1.2.0",
          "state": {
            "_view_name": "LayoutView",
            "grid_template_rows": null,
            "right": null,
            "justify_content": null,
            "_view_module": "@jupyter-widgets/base",
            "overflow": null,
            "_model_module_version": "1.2.0",
            "_view_count": null,
            "flex_flow": null,
            "width": null,
            "min_width": null,
            "border": null,
            "align_items": null,
            "bottom": null,
            "_model_module": "@jupyter-widgets/base",
            "top": null,
            "grid_column": null,
            "overflow_y": null,
            "overflow_x": null,
            "grid_auto_flow": null,
            "grid_area": null,
            "grid_template_columns": null,
            "flex": null,
            "_model_name": "LayoutModel",
            "justify_items": null,
            "grid_row": null,
            "max_height": null,
            "align_content": null,
            "visibility": null,
            "align_self": null,
            "height": null,
            "min_height": null,
            "padding": null,
            "grid_auto_rows": null,
            "grid_gap": null,
            "max_width": null,
            "order": null,
            "_view_module_version": "1.2.0",
            "grid_template_areas": null,
            "object_position": null,
            "object_fit": null,
            "grid_auto_columns": null,
            "margin": null,
            "display": null,
            "left": null
          }
        },
        "3b831b1cdb30411c93c207b48a1fa94a": {
          "model_module": "@jupyter-widgets/controls",
          "model_name": "DescriptionStyleModel",
          "model_module_version": "1.5.0",
          "state": {
            "_view_name": "StyleView",
            "_model_name": "DescriptionStyleModel",
            "description_width": "",
            "_view_module": "@jupyter-widgets/base",
            "_model_module_version": "1.5.0",
            "_view_count": null,
            "_view_module_version": "1.2.0",
            "_model_module": "@jupyter-widgets/controls"
          }
        },
        "bf1c2c44b07e453c8827e735423002c5": {
          "model_module": "@jupyter-widgets/base",
          "model_name": "LayoutModel",
          "model_module_version": "1.2.0",
          "state": {
            "_view_name": "LayoutView",
            "grid_template_rows": null,
            "right": null,
            "justify_content": null,
            "_view_module": "@jupyter-widgets/base",
            "overflow": null,
            "_model_module_version": "1.2.0",
            "_view_count": null,
            "flex_flow": null,
            "width": null,
            "min_width": null,
            "border": null,
            "align_items": null,
            "bottom": null,
            "_model_module": "@jupyter-widgets/base",
            "top": null,
            "grid_column": null,
            "overflow_y": null,
            "overflow_x": null,
            "grid_auto_flow": null,
            "grid_area": null,
            "grid_template_columns": null,
            "flex": null,
            "_model_name": "LayoutModel",
            "justify_items": null,
            "grid_row": null,
            "max_height": null,
            "align_content": null,
            "visibility": null,
            "align_self": null,
            "height": null,
            "min_height": null,
            "padding": null,
            "grid_auto_rows": null,
            "grid_gap": null,
            "max_width": null,
            "order": null,
            "_view_module_version": "1.2.0",
            "grid_template_areas": null,
            "object_position": null,
            "object_fit": null,
            "grid_auto_columns": null,
            "margin": null,
            "display": null,
            "left": null
          }
        }
      }
    }
  },
  "cells": [
    {
      "cell_type": "markdown",
      "metadata": {
        "id": "view-in-github",
        "colab_type": "text"
      },
      "source": [
        "<a href=\"https://colab.research.google.com/github/wilkeraziz/emnlp-main-findings/blob/main/DP-shared-rates.ipynb\" target=\"_parent\"><img src=\"https://colab.research.google.com/assets/colab-badge.svg\" alt=\"Open In Colab\"/></a>"
      ]
    },
    {
      "cell_type": "markdown",
      "metadata": {
        "id": "B5tNGYy9C2SD"
      },
      "source": [
        "# Set up numpyro"
      ]
    },
    {
      "cell_type": "code",
      "metadata": {
        "colab": {
          "base_uri": "https://localhost:8080/"
        },
        "id": "U6q5fUMBoJA7",
        "outputId": "44e89ef1-07d9-4490-8f36-eb6e2842958c"
      },
      "source": [
        "!pip install numpyro funsor"
      ],
      "execution_count": 1,
      "outputs": [
        {
          "output_type": "stream",
          "name": "stdout",
          "text": [
            "Collecting numpyro\n",
            "  Downloading numpyro-0.8.0-py3-none-any.whl (264 kB)\n",
            "\u001b[K     |████████████████████████████████| 264 kB 5.1 MB/s \n",
            "\u001b[?25hCollecting funsor\n",
            "  Downloading funsor-0.4.1-py3-none-any.whl (154 kB)\n",
            "\u001b[K     |████████████████████████████████| 154 kB 31.4 MB/s \n",
            "\u001b[?25hRequirement already satisfied: tqdm in /usr/local/lib/python3.7/dist-packages (from numpyro) (4.62.3)\n",
            "Requirement already satisfied: jaxlib>=0.1.65 in /usr/local/lib/python3.7/dist-packages (from numpyro) (0.1.71+cuda111)\n",
            "Requirement already satisfied: jax>=0.2.13 in /usr/local/lib/python3.7/dist-packages (from numpyro) (0.2.21)\n",
            "Requirement already satisfied: opt-einsum in /usr/local/lib/python3.7/dist-packages (from jax>=0.2.13->numpyro) (3.3.0)\n",
            "Requirement already satisfied: absl-py in /usr/local/lib/python3.7/dist-packages (from jax>=0.2.13->numpyro) (0.12.0)\n",
            "Requirement already satisfied: numpy>=1.18 in /usr/local/lib/python3.7/dist-packages (from jax>=0.2.13->numpyro) (1.19.5)\n",
            "Requirement already satisfied: scipy>=1.2.1 in /usr/local/lib/python3.7/dist-packages (from jax>=0.2.13->numpyro) (1.4.1)\n",
            "Requirement already satisfied: flatbuffers<3.0,>=1.12 in /usr/local/lib/python3.7/dist-packages (from jaxlib>=0.1.65->numpyro) (1.12)\n",
            "Requirement already satisfied: typing-extensions in /usr/local/lib/python3.7/dist-packages (from funsor) (3.7.4.3)\n",
            "Collecting multipledispatch\n",
            "  Downloading multipledispatch-0.6.0-py3-none-any.whl (11 kB)\n",
            "Collecting makefun\n",
            "  Downloading makefun-1.12.1-py2.py3-none-any.whl (21 kB)\n",
            "Requirement already satisfied: six in /usr/local/lib/python3.7/dist-packages (from absl-py->jax>=0.2.13->numpyro) (1.15.0)\n",
            "Installing collected packages: multipledispatch, makefun, numpyro, funsor\n",
            "Successfully installed funsor-0.4.1 makefun-1.12.1 multipledispatch-0.6.0 numpyro-0.8.0\n"
          ]
        }
      ]
    },
    {
      "cell_type": "markdown",
      "metadata": {
        "id": "6GacwPkNC6i3"
      },
      "source": [
        "# Data\n",
        "\n",
        "I'm using the counts Ryan shared:"
      ]
    },
    {
      "cell_type": "code",
      "metadata": {
        "colab": {
          "base_uri": "https://localhost:8080/"
        },
        "id": "PJqRtqd8AtcA",
        "outputId": "6a20c411-2bef-4381-9bff-e9c440d44f7b"
      },
      "source": [
        "!git clone https://github.com/ryancotterell/emnlp2020-analysis.git"
      ],
      "execution_count": 2,
      "outputs": [
        {
          "output_type": "stream",
          "name": "stdout",
          "text": [
            "Cloning into 'emnlp2020-analysis'...\n",
            "remote: Enumerating objects: 33, done.\u001b[K\n",
            "remote: Counting objects: 100% (33/33), done.\u001b[K\n",
            "remote: Compressing objects: 100% (22/22), done.\u001b[K\n",
            "remote: Total 33 (delta 7), reused 29 (delta 6), pack-reused 0\u001b[K\n",
            "Unpacking objects: 100% (33/33), done.\n"
          ]
        }
      ]
    },
    {
      "cell_type": "code",
      "metadata": {
        "id": "Fgy8kKknBIcL"
      },
      "source": [
        "def read(fname):\n",
        "\tlst = []\n",
        "\twith open(fname, 'r') as f:\n",
        "\t\tfor i, line in enumerate(f):\n",
        "\t\t\tif i == 0:\n",
        "\t\t\t\tcontinue\n",
        "\t\t\tsplit = line.strip().split(\"\\t\")\n",
        "\t\t\tlst.append(int(split[1]))\n",
        "\treturn lst"
      ],
      "execution_count": 3,
      "outputs": []
    },
    {
      "cell_type": "code",
      "metadata": {
        "id": "c72vK0eHBJlE"
      },
      "source": [
        "y_m = read('emnlp2020-analysis/data/main.tsv')\n",
        "y_f = read('emnlp2020-analysis/data/findings.tsv')"
      ],
      "execution_count": 4,
      "outputs": []
    },
    {
      "cell_type": "markdown",
      "metadata": {
        "id": "hzZ1Sn3mDHEI"
      },
      "source": [
        "# Model\n",
        "\n",
        "\n",
        "I would like to discover a number of Poisson distributions that help me explain the two groups, each group under a mixture model.\n",
        "\n",
        "I would like the Poisson distributions to be shared across groups, so that I can interpret the mixture components as patterns (e.g., 'low-cited papers', 'average-cited papers', 'highly-citated papers'), but the mixing coefficients to be group-specific, so that I can interpret them as the extent to which each pattern is relevant for a group.\n",
        "\n",
        "Clearly, I have no clue which Poisson components will explain my data, so I will draw components from a Gamma prior that gives me a good spread of possible rates. I also have no cluse how many components I will need, but I don't expect too many. So I will employ a DP prior that discourages using too many components and truncate it at some small value (e.g., 5 or 10).\n",
        "\n",
        "**Generative story**\n",
        "\n",
        "The analysis model is a mixed membership model. \n",
        "Each group (i.e., main or findings) is drawn from a Dirichlet process (DP) mixture of Poisson components.\n",
        "\n",
        "I use $[N]$ to denote the set $\\{1, \\ldots, N\\}$. $G$ is the number of groups (we have 2), $T$ is the maximum number of components (as I will truncate the DP prior).\n",
        "\n",
        "I used a DP prior \n",
        "\\begin{align}\n",
        "(\\omega_1, \\ldots, \\omega_G), \\lambda &\\sim \\operatorname{DP}(\\operatorname{Gamma}(a, b), \\alpha)\n",
        "\\end{align}\n",
        "with a shared Gamma base distribution from which we draw Poisson rates.\n",
        "\n",
        "I truncate the DP prior and draw samples using the stick-breaking representation \n",
        "\\begin{align}\n",
        "\\beta_{g,t} &\\sim \\operatorname{Beta}(1, \\alpha) & \\text{for } (g,t) \\in [G]\\times [T-1]\\\\\n",
        "\\omega_{g, t}&=\\beta_{g,t}\\prod_{k<t} (1-\\beta_{g,k}) & \\text{for }(g,t) \\in [G]\\times[T]\\\\\n",
        "\\lambda_t &\\sim \\operatorname{Gamma}(a, b) & \\text{for }t \\in [T]\\\\\n",
        "\\end{align}\n",
        "the smaller the $\\alpha$ the fewer components will be used. I adjust $a$ and $b$ to make sure the prior covers reasonable citation counts.\n",
        "\n",
        "Once we have the mixing coefficients $w_{g,t}$, for every group $g \\in [G]$ and component $t \\in [T]$, we can draw each one of our $N$ observations.\n",
        "The $n$th observation $y_n$ belongs to group $x_n$, it is the citation count for a paper in that group.\n",
        "\n",
        "\\begin{align}\n",
        "Z_n|x_n &\\sim \\operatorname{Cat}(\\omega_{x_n}) & \\text{for } n \\in [N] \\\\\n",
        "Y_n|z_n &\\sim \\operatorname{Poisson}(\\lambda_{z_n})\n",
        "\\end{align}\n",
        "\n",
        "Mixture models are non-identifiable: because the DP prior is exchangeable, we can permute the components around and the marginal $Y|X=x$ won't change. This is problematic when we intend to interpret component assignments, which we do in this case. To break this common strategies involve using a prior that yields ordered parameters for the components. To induce order in $\\lambda$ we can, for example, sort it, or use a cumulative sum. In the implementation, I opt for the latter for its faster. Note this is not an approximation, it is simply changing the prior to one where in a draw of $T$ components, the $t$th component has rate higher than any of the components $k < t$. "
      ]
    },
    {
      "cell_type": "code",
      "metadata": {
        "colab": {
          "base_uri": "https://localhost:8080/"
        },
        "id": "azMvpCo6AKU2",
        "outputId": "c549ce1a-9394-4aa9-ce79-43c7292a0085"
      },
      "source": [
        "import matplotlib.pyplot as plt\n",
        "import seaborn as sns; sns.set()\n",
        "import arviz as az\n",
        "\n",
        "from tabulate import tabulate\n",
        "import numpy as np\n",
        "\n",
        "import numpyro\n",
        "from numpyro.infer import MCMC, NUTS, Predictive\n",
        "import numpyro.distributions as dist\n",
        "from jax import random\n",
        "import jax.numpy as jnp\n",
        "\n",
        "NUM_CHAINS = 4\n",
        "numpyro.set_host_device_count(NUM_CHAINS)\n",
        "\n",
        "print(f\"Running on NumPryo v{numpyro.__version__}\")"
      ],
      "execution_count": 5,
      "outputs": [
        {
          "output_type": "stream",
          "name": "stdout",
          "text": [
            "Running on NumPryo v0.8.0\n"
          ]
        }
      ]
    },
    {
      "cell_type": "code",
      "metadata": {
        "id": "wftqgDgmxOQr"
      },
      "source": [
        "class NumpyroMM:\n",
        "    def __init__(self, group_names: list, observations: list, gamma_shape=[1., 1.], DP_alpha=1., num_comps=5,\n",
        "                 num_samples=1000, num_chains=1, num_warmup=100):\n",
        "\n",
        "        self.gamma_shape = gamma_shape\n",
        "        self.DP_alpha = DP_alpha\n",
        "        self.T = num_comps\n",
        "\n",
        "        self.group_names = group_names\n",
        "        self.G = len(group_names)\n",
        "        \n",
        "        self.N = sum(len(x) for x in observations)\n",
        "        # [N]\n",
        "        self.g = np.concatenate([[g] * len(x) for g, x in enumerate(observations)])\n",
        "        self.x = np.concatenate(observations)\n",
        "\n",
        "        self.num_samples = num_samples\n",
        "        self.num_chains = num_chains\n",
        "        self.num_warmup = num_warmup\n",
        "\n",
        "        self.rng_key = random.PRNGKey(0)\n",
        "\n",
        "        nuts_kernel = NUTS(self.model)\n",
        "        self.mcmc = MCMC(nuts_kernel, num_samples=num_samples, num_warmup=num_warmup, num_chains=num_chains)\n",
        "        self.run_bool = False\n",
        "\n",
        "        self.prior_predictive = None\n",
        "        self.posterior_predictive = None\n",
        "        self.posterior_samples = None\n",
        "\n",
        "\n",
        "    @classmethod\n",
        "    def mix_weights(cls, beta):\n",
        "        beta1m_cumprod = (1 - beta).cumprod(-1)\n",
        "        return jnp.pad(beta, ((0, 0), (0, 1)), constant_values=1) * jnp.pad(beta1m_cumprod, ((0, 0), (1, 0)), constant_values=1)\n",
        "\n",
        "    def model(self, x=None):\n",
        "        \"\"\"\n",
        "        Pyro joint distribution.\n",
        "        \n",
        "        Parameter:\n",
        "        \n",
        "        x: observations as returned by self.prepare or None. \n",
        "            If None, the 'obs' node of the graphical model will be resampled.\n",
        "        \"\"\"\n",
        "\n",
        "        N, G = self.N, self.G\n",
        "        T = self.T\n",
        "\n",
        "        with numpyro.plate(\"components\", T):  \n",
        "            # construct the components\n",
        "            # [T]\n",
        "            lamb = numpyro.sample(\"lambda\", dist.Gamma(self.gamma_shape[0], self.gamma_shape[1]))   \n",
        "            rate = numpyro.deterministic(\"rate\", jnp.cumsum(lamb))  # we could use jnp.sort, but cumsum is simpler \n",
        "\n",
        "        # Sample mixing weights    \n",
        "        with numpyro.plate(\"DPs\", G):\n",
        "            # [G, T-1]\n",
        "            beta = numpyro.sample(\n",
        "                \"beta\", \n",
        "                dist.Beta(\n",
        "                    np.ones(1), \n",
        "                    np.ones(1) * self.DP_alpha\n",
        "                ).expand((T-1,)).to_event(1)\n",
        "            )\n",
        "        # [G, T]\n",
        "        omega = numpyro.deterministic(\"omega\", self.mix_weights(beta))\n",
        "        \n",
        "        with numpyro.plate(\"observations\", N):\n",
        "            # [N]\n",
        "            z = numpyro.sample(\"z\", dist.Categorical(probs=omega[self.g])) \n",
        "\n",
        "            # [N]\n",
        "            rate_z = numpyro.deterministic(\"rate_z\", rate[z])\n",
        "            # [N]\n",
        "            # Construct the likelihood function            \n",
        "            return numpyro.sample(\"obs\", dist.Poisson(rate_z), obs=x)\n",
        "\n",
        "    def run(self):\n",
        "        self.mcmc.run(self.rng_key, x=self.x)\n",
        "        self.mcmc.print_summary()\n",
        "        self.posterior_samples = self.mcmc.get_samples(group_by_chain=False)\n",
        "        print(\"posterior samples shapes:\")\n",
        "        for k, v in self.posterior_samples.items():\n",
        "            print(k, v.shape)\n",
        "\n",
        "    def make_prior_predictive(self, num_prior_samples=100):        \n",
        "        if self.prior_predictive is None:\n",
        "            self.prior_predictive = Predictive(self.model, num_samples=num_prior_samples)\n",
        "\n",
        "    def draw_prior_predictions(self):\n",
        "        if self.prior_predictive is None:\n",
        "            self.make_prior_predictive()\n",
        "        rng_key, rng_key_ = random.split(self.rng_key)        \n",
        "        return self.prior_predictive(rng_key_, x=None)[\"obs\"]\n",
        "\n",
        "    def make_posterior_predictive(self):\n",
        "        if self.posterior_samples is None:\n",
        "            raise RuntimeError(\"You need to run the sampler first\")        \n",
        "        if self.posterior_predictive is None:\n",
        "            self.posterior_predictive = Predictive(self.model, self.posterior_samples)        \n",
        "\n",
        "    def draw_posterior_predictions(self, plot=False):\n",
        "        if self.posterior_predictive is None:\n",
        "            self.make_posterior_predictive()        \n",
        "        rng_key, rng_key_ = random.split(self.rng_key)\n",
        "        return self.posterior_predictive(rng_key_, x=None)[\"obs\"]        \n",
        "\n",
        "    def plot_predictions(self, samples):\n",
        "        fig, ax = plt.subplots(model.G, 2, sharex=True, figsize=(10, 5))\n",
        "        for k in range(model.G):\n",
        "            \n",
        "            xk = self.x[self.g==k]\n",
        "            xk_ = samples[:,self.g==k]\n",
        "\n",
        "            _ = ax[k, 0].hist(xk, bins=50)\n",
        "            _ = ax[k, 0].set_xlabel(f'obs: {self.group_names[k]}')\n",
        "            _ = ax[k, 1].hist(xk_.flatten(), bins=50)\n",
        "            _ = ax[k, 1].set_xlabel(f'prior predictive: {self.group_names[k]}')\n",
        "\n",
        "        fig.tight_layout(h_pad=2, w_pad=2)\n",
        "        fig.show()\n",
        "\n",
        "    def plot_checks(self, samples):\n",
        "        fig, ax = plt.subplots(model.G, 4, sharex=False, figsize=(15, 5))\n",
        "        for k in range(model.G):\n",
        "            xk = self.x[self.g==k]\n",
        "            xk_ = samples[:,self.g==k]\n",
        "            \n",
        "            _ = ax[k, 0].hist(np.mean(xk_, 1), label='pred' if k == 0 else None)\n",
        "            _ = ax[k, 0].axvline(np.mean(xk), color='orange', linestyle='--', label='obs' if k == 0 else None)    \n",
        "            _ = ax[k, 0].set_xlabel(f'E[X{k}]')\n",
        "            \n",
        "            _ = ax[k, 1].hist(np.std(xk_, 1))    \n",
        "            _ = ax[k, 1].axvline(np.std(xk), color='orange', linestyle='--')\n",
        "            _ = ax[k, 1].set_xlabel(f'std[X{k}]')\n",
        "\n",
        "            _ = ax[k, 2].hist(np.median(xk_, 1))    \n",
        "            _ = ax[k, 2].axvline(np.median(xk), color='orange', linestyle='--')\n",
        "            _ = ax[k, 2].set_xlabel(f'median[X{k}]')\n",
        "\n",
        "            pvalues = np.mean(xk_ > xk, 1)\n",
        "            _ = ax[k, 3].hist(pvalues)\n",
        "            _ = ax[k, 3].set_xlabel(f'Pr(X{k} > obs{k})')\n",
        "            _ = ax[k, 3].axvline(np.median(pvalues), color='white', linestyle='--', label='median' if k==0 else None)\n",
        "\n",
        "        _ = fig.legend(loc='upper center', ncol=3)\n",
        "        fig.tight_layout(h_pad=2, w_pad=2)\n",
        "        fig.show()\n"
      ],
      "execution_count": 6,
      "outputs": []
    },
    {
      "cell_type": "markdown",
      "metadata": {
        "id": "1fa2GrmeJ38z"
      },
      "source": [
        "# MCMC \n",
        "\n",
        "I won't really implement MCMC, I'm going to count on Numpyro for that."
      ]
    },
    {
      "cell_type": "code",
      "metadata": {
        "id": "IvIDsJU1g_T_"
      },
      "source": [
        "model = NumpyroMM(\n",
        "    ['main', 'findings'], [y_m, y_f], \n",
        "    gamma_shape=[1., 0.1], DP_alpha=0.1, \n",
        "    num_chains=NUM_CHAINS, num_warmup=2000, num_samples=5000)"
      ],
      "execution_count": 7,
      "outputs": []
    },
    {
      "cell_type": "markdown",
      "metadata": {
        "id": "EglW0hpTKCBI"
      },
      "source": [
        "## Prior predictive\n",
        "\n",
        "Plotting samples from the prior predictive distribution (i.e., sampling from the generative story without conditioning on any observations) is a good way to check whether our prior is reasonable. \n",
        "\n",
        "We want to see a predictive curve that could easily include any of our groups."
      ]
    },
    {
      "cell_type": "code",
      "metadata": {
        "colab": {
          "base_uri": "https://localhost:8080/"
        },
        "id": "y4jn5OxTqcIW",
        "outputId": "dd78df91-136a-4501-b87e-c018a47b4e02"
      },
      "source": [
        "prior_samples = model.draw_prior_predictions()\n",
        "prior_samples.shape"
      ],
      "execution_count": 8,
      "outputs": [
        {
          "output_type": "execute_result",
          "data": {
            "text/plain": [
              "(100, 1198)"
            ]
          },
          "metadata": {},
          "execution_count": 8
        }
      ]
    },
    {
      "cell_type": "code",
      "metadata": {
        "colab": {
          "base_uri": "https://localhost:8080/",
          "height": 365
        },
        "id": "Ns3C9QHEtrXY",
        "outputId": "edc96637-39b0-4d55-d434-e1ee4ff6858c"
      },
      "source": [
        "_ = model.plot_predictions(prior_samples)"
      ],
      "execution_count": 9,
      "outputs": [
        {
          "output_type": "display_data",
          "data": {
            "image/png": "[encoded data removed]",
            "text/plain": [
              "<Figure size 720x360 with 4 Axes>"
            ]
          },
          "metadata": {}
        }
      ]
    },
    {
      "cell_type": "markdown",
      "metadata": {
        "id": "C6MdnGXDKRov"
      },
      "source": [
        "We can also plot some statistics just to see whether indeed our prior is not excluding plausible observations."
      ]
    },
    {
      "cell_type": "code",
      "metadata": {
        "colab": {
          "base_uri": "https://localhost:8080/",
          "height": 341
        },
        "id": "Oh3nRh6rtf-f",
        "outputId": "7e3a74cc-f4d0-43fd-841e-166729a1a714"
      },
      "source": [
        "_ = model.plot_checks(prior_samples)"
      ],
      "execution_count": 10,
      "outputs": [
        {
          "output_type": "display_data",
          "data": {
            "image/png": "[encoded data removed]",
            "text/plain": [
              "<Figure size 1080x360 with 8 Axes>"
            ]
          },
          "metadata": {}
        }
      ]
    },
    {
      "cell_type": "markdown",
      "metadata": {
        "id": "rBzvjW13KfN3"
      },
      "source": [
        "## Posterior\n",
        "\n",
        "Time to run our sampler. Numpyro is fast!"
      ]
    },
    {
      "cell_type": "code",
      "metadata": {
        "colab": {
          "base_uri": "https://localhost:8080/",
          "height": 536,
          "referenced_widgets": [
            "ba96ec876aed41f8895573e1a70df26c",
            "6851b4f34aa04da3bf2a2e3976ecdbf2",
            "56740f63573c41cea7cd89ce61e37b8d",
            "d9427b64bc174d2984daadcb2be13e73",
            "9409837b0f26491cbfcc7eb710d93a4f",
            "068c552f00544efd844531e26a45ca72",
            "ea6f0505c7ad4a6ab2d560d4ade409d7",
            "a4bc81bb396946a1a8a5c41301c32019",
            "e870b76cf93c4c19ba3aa47c6ce4f7fe",
            "33c95f90487841de805fdbbde78c7388",
            "7507ae5acfa54886813ca0ab892319e9",
            "7d84ba3c74554ccdafac3bff9cfe3b09",
            "48e3d3a94199461380ade1d028bc9006",
            "65980422ed4944599a7a2c88e0347309",
            "e6a06c6763bd4a108453a36f4a55e4e1",
            "208783f25ce944138875090da1cfa2cc",
            "ffe4f7ffdf1643a294378922d84c7112",
            "a6d87d24d7b74c9698d4a50298c49761",
            "c8f77874b75b421f8d675f43b2d376b0",
            "c5fb8009a79a4593886f30ba84007809",
            "1b39f13b68944f069cd0440025c45dc9",
            "a506e59f574f4ed2a0fc3685a46a770a",
            "07a82759d8c8425f8886e7355831545e",
            "11d5e6784b204d88bfc23992ab09b1f9",
            "4d190983d6cd45b6a2e8a8b9b93a3d26",
            "3a6c77d1239d4d388fc396ec09980110",
            "269b14c475aa4a6dac536a7996ba06e0",
            "31bf25928240441a88f5f1ca5a799fa0",
            "571e9138be814098bca1cd90abf272d1",
            "8c4e40648dab4b6ab58e2400e1bddc8a",
            "76f5335a5aa140e8926294e2bb9aba25",
            "5be13ad55bb540fe8f84ffd4892b5c5a",
            "8c2d9ef312074791a108813705b23d5f",
            "cdb24674754d4b9bbd689a1ac6027c42",
            "b55e26487ec7479698218379da1ea000",
            "2eb43e7aaad948f6b705081e160b0eea",
            "d07fa33e2aea4f51b720955474ed4f49",
            "c3fe541ffb224822abab474e5f4effdf",
            "00c94bc06db34205bf979b7d15a39f89",
            "bc4f186497214c6ab708b9bd086baa84",
            "42c30801903147978092c6ca9cf441e6",
            "0e847f74c3da4685a95c5f953b7a7649",
            "3b831b1cdb30411c93c207b48a1fa94a",
            "bf1c2c44b07e453c8827e735423002c5"
          ]
        },
        "id": "IAaiI7QAhMxd",
        "outputId": "b8207ddc-497c-4258-a64b-1bce4fe10ef6"
      },
      "source": [
        "model.run()"
      ],
      "execution_count": 11,
      "outputs": [
        {
          "output_type": "display_data",
          "data": {
            "application/vnd.jupyter.widget-view+json": {
              "model_id": "ba96ec876aed41f8895573e1a70df26c",
              "version_minor": 0,
              "version_major": 2
            },
            "text/plain": [
              "  0%|          | 0/7000 [00:00<?, ?it/s]"
            ]
          },
          "metadata": {}
        },
        {
          "output_type": "display_data",
          "data": {
            "application/vnd.jupyter.widget-view+json": {
              "model_id": "7d84ba3c74554ccdafac3bff9cfe3b09",
              "version_minor": 0,
              "version_major": 2
            },
            "text/plain": [
              "  0%|          | 0/7000 [00:00<?, ?it/s]"
            ]
          },
          "metadata": {}
        },
        {
          "output_type": "display_data",
          "data": {
            "application/vnd.jupyter.widget-view+json": {
              "model_id": "07a82759d8c8425f8886e7355831545e",
              "version_minor": 0,
              "version_major": 2
            },
            "text/plain": [
              "  0%|          | 0/7000 [00:00<?, ?it/s]"
            ]
          },
          "metadata": {}
        },
        {
          "output_type": "display_data",
          "data": {
            "application/vnd.jupyter.widget-view+json": {
              "model_id": "cdb24674754d4b9bbd689a1ac6027c42",
              "version_minor": 0,
              "version_major": 2
            },
            "text/plain": [
              "  0%|          | 0/7000 [00:00<?, ?it/s]"
            ]
          },
          "metadata": {}
        },
        {
          "output_type": "stream",
          "name": "stdout",
          "text": [
            "\n",
            "                mean       std    median      5.0%     95.0%     n_eff     r_hat\n",
            " beta[0,0]      0.45      0.02      0.45      0.42      0.49  26597.10      1.00\n",
            " beta[0,1]      0.77      0.02      0.77      0.74      0.81  32967.16      1.00\n",
            " beta[0,2]      0.77      0.04      0.77      0.70      0.85  36346.02      1.00\n",
            " beta[0,3]      0.95      0.05      0.96      0.89      1.00  32054.34      1.00\n",
            " beta[1,0]      0.66      0.03      0.66      0.62      0.70  29142.67      1.00\n",
            " beta[1,1]      0.75      0.04      0.75      0.69      0.81  38824.59      1.00\n",
            " beta[1,2]      0.69      0.08      0.69      0.56      0.81  40248.37      1.00\n",
            " beta[1,3]      0.92      0.07      0.94      0.81      1.00  33515.55      1.00\n",
            " lambda[0]      2.43      0.09      2.43      2.28      2.58  26190.07      1.00\n",
            " lambda[1]      8.49      0.25      8.49      8.07      8.90  25170.30      1.00\n",
            " lambda[2]     21.38      0.93     21.36     19.85     22.87  26973.67      1.00\n",
            " lambda[3]     52.28      2.02     52.27     48.98     55.57  21205.00      1.00\n",
            " lambda[4]    269.43     13.69    269.42    246.88    291.38  12410.85      1.00\n",
            "\n",
            "Number of divergences: 0\n",
            "posterior samples shapes:\n",
            "beta (20000, 2, 4)\n",
            "lambda (20000, 5)\n",
            "omega (20000, 2, 5)\n",
            "rate (20000, 5)\n",
            "rate_z (20000, 1198)\n"
          ]
        }
      ]
    },
    {
      "cell_type": "markdown",
      "metadata": {
        "id": "3zKFmgE2KjgC"
      },
      "source": [
        "## Posterior predictive\n",
        "\n",
        "Before any analysis, let's see whether we can trust this model. It's good to plot samples from the posterior predictive distribution (i.e., sample from the generative story *after* conditioning on observations). These can be thought of as replications."
      ]
    },
    {
      "cell_type": "code",
      "metadata": {
        "colab": {
          "base_uri": "https://localhost:8080/"
        },
        "id": "S2S6owDVqOyh",
        "outputId": "c65e2a0a-924f-4021-aafe-ece555953d8e"
      },
      "source": [
        "posterior_samples = model.draw_posterior_predictions()\n",
        "posterior_samples.shape"
      ],
      "execution_count": 12,
      "outputs": [
        {
          "output_type": "execute_result",
          "data": {
            "text/plain": [
              "(20000, 1198)"
            ]
          },
          "metadata": {},
          "execution_count": 12
        }
      ]
    },
    {
      "cell_type": "code",
      "metadata": {
        "colab": {
          "base_uri": "https://localhost:8080/",
          "height": 365
        },
        "id": "8eUOHGsAw3dt",
        "outputId": "743ce72d-d0f1-4bae-db29-96c611aaaab1"
      },
      "source": [
        "_ = model.plot_predictions(posterior_samples)"
      ],
      "execution_count": 13,
      "outputs": [
        {
          "output_type": "display_data",
          "data": {
            "image/png": "[encoded data removed]",
            "text/plain": [
              "<Figure size 720x360 with 4 Axes>"
            ]
          },
          "metadata": {}
        }
      ]
    },
    {
      "cell_type": "markdown",
      "metadata": {
        "id": "V9Uf6RRsK3c4"
      },
      "source": [
        "And again, we can check whether our posterior predictive generates datasets with statistics that give support to our observed data."
      ]
    },
    {
      "cell_type": "code",
      "metadata": {
        "colab": {
          "base_uri": "https://localhost:8080/",
          "height": 340
        },
        "id": "gXkRxe0Vw6nJ",
        "outputId": "2de3869b-9dcd-45cf-bbe5-176ff126f7d4"
      },
      "source": [
        "_ = model.plot_checks(posterior_samples)"
      ],
      "execution_count": 14,
      "outputs": [
        {
          "output_type": "display_data",
          "data": {
            "image/png": "[encoded data removed]",
            "text/plain": [
              "<Figure size 1080x360 with 8 Axes>"
            ]
          },
          "metadata": {}
        }
      ]
    },
    {
      "cell_type": "code",
      "metadata": {
        "colab": {
          "base_uri": "https://localhost:8080/"
        },
        "id": "uF7Krt6MyRut",
        "outputId": "b952785c-dd6d-4a44-cc8e-fc7e9de6a11f"
      },
      "source": [
        "print(tabulate([(k, v.shape) for k, v in model.posterior_samples.items()], headers=['rv', 'shape']))"
      ],
      "execution_count": 15,
      "outputs": [
        {
          "output_type": "stream",
          "name": "stdout",
          "text": [
            "rv      shape\n",
            "------  -------------\n",
            "beta    (20000, 2, 4)\n",
            "lambda  (20000, 5)\n",
            "omega   (20000, 2, 5)\n",
            "rate    (20000, 5)\n",
            "rate_z  (20000, 1198)\n"
          ]
        }
      ]
    },
    {
      "cell_type": "markdown",
      "metadata": {
        "id": "49ydDKDxLAS-"
      },
      "source": [
        "## Analysis of results\n",
        "\n",
        "\n",
        "Now we get to interpret the latent parameters of the model, that is, we get to inspect what *patterns* (i.e., what Poisson components) are probable given the data and our assumptions and how the different groups can be explained using these patterns (i.e., mixing coefficients)."
      ]
    },
    {
      "cell_type": "markdown",
      "metadata": {
        "id": "t8NbkDt0LcHF"
      },
      "source": [
        "Let's start with an overview of the mixing coefficients.\n",
        "\n",
        "See that some components are barely relevant. Mostly we only need the first 2, perhaps the first 3."
      ]
    },
    {
      "cell_type": "code",
      "metadata": {
        "colab": {
          "base_uri": "https://localhost:8080/",
          "height": 365
        },
        "id": "N5kaVqMs5EEB",
        "outputId": "e8200e62-464a-444b-bb67-4d3aa4bcc993"
      },
      "source": [
        "fig, ax = plt.subplots(1, model.G, sharex=True, sharey=True, figsize=(10, 5))\n",
        "for g in range(model.G):\n",
        "    _ = ax[g].boxplot(model.posterior_samples['omega'][:,g,:].transpose())\n",
        "    _ = ax[g].set_xticklabels(np.arange(model.T))\n",
        "    _ = ax[g].set_title(model.group_names[g])\n",
        "    _ = ax[g].set_xlabel('k')\n",
        "    _ = ax[g].set_ylabel(r'$\\omega_{g,k}$')\n",
        "fig.tight_layout(h_pad=2, w_pad=2)"
      ],
      "execution_count": 16,
      "outputs": [
        {
          "output_type": "display_data",
          "data": {
            "image/png": "[encoded data removed]",
            "text/plain": [
              "<Figure size 720x360 with 2 Axes>"
            ]
          },
          "metadata": {}
        }
      ]
    },
    {
      "cell_type": "markdown",
      "metadata": {
        "id": "fai6laXPLl7O"
      },
      "source": [
        "Now, here's the best part.\n",
        "\n",
        "I'm going to plot $T$ rows, each row concerns a component and will contain\n",
        "* a histogram of the probable rates for that component, think of it as how many citations papers explained by that component get on average;\n",
        "* boxplots showing the distribution of that component's weight for the different groups\n",
        "* and because boxplots can be misleading when distributions are not unimodal and symmetric, I also plot histograms for the coefficients."
      ]
    },
    {
      "cell_type": "code",
      "metadata": {
        "colab": {
          "base_uri": "https://localhost:8080/",
          "height": 1000
        },
        "id": "BxHpChKe01hh",
        "outputId": "621cffb0-8b89-4512-f370-c7b7342bfd3f"
      },
      "source": [
        "hatches = ['o', '/']\n",
        "fig, ax = plt.subplots(model.T, 3, figsize=(12, 15))\n",
        "for t in range(model.T):\n",
        "    _ = ax[t, 0].hist(model.posterior_samples['rate'][:, t], bins='auto')\n",
        "    _ = ax[t, 0].set_xlabel(r'$\\lambda_{%d}$' % t)\n",
        "    _ = ax[t, 1].boxplot([model.posterior_samples['omega'][:,g,t].transpose() for g in range(model.G)])\n",
        "    _ = ax[t, 1].set_xticklabels(model.group_names)\n",
        "    _ = ax[t, 1].set_ylabel(r'$\\omega_{g,%d}$' % t)    \n",
        "    for g in range(model.G):\n",
        "       _ = ax[t, 2].hist(model.posterior_samples['omega'][:,g,t], alpha=0.5, hatch=hatches[g], bins=50, label=model.group_names[g] if t==0 else None)\n",
        "       _ = ax[t, 2].set_xlabel(r'$\\omega_{g,%d}$' % t)\n",
        "fig.legend()\n",
        "fig.tight_layout(h_pad=2, w_pad=2)"
      ],
      "execution_count": 29,
      "outputs": [
        {
          "output_type": "display_data",
          "data": {
            "image/png": "[encoded data removed]",
            "text/plain": [
              "<Figure size 864x1080 with 15 Axes>"
            ]
          },
          "metadata": {}
        }
      ]
    },
    {
      "cell_type": "code",
      "metadata": {
        "id": "vfv-dz4_1hBn"
      },
      "source": [
        ""
      ],
      "execution_count": 17,
      "outputs": []
    }
  ]
}