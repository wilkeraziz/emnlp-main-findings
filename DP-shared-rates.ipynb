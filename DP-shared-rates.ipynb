{
  "nbformat": 4,
  "nbformat_minor": 0,
  "metadata": {
    "colab": {
      "name": "EMNLP-Findings-DP",
      "provenance": [],
      "collapsed_sections": [],
      "toc_visible": true,
      "authorship_tag": "ABX9TyM7otEJN75OS4FfY0aoPWvq",
      "include_colab_link": true
    },
    "kernelspec": {
      "name": "python3",
      "display_name": "Python 3"
    },
    "language_info": {
      "name": "python"
    },
    "widgets": {
      "application/vnd.jupyter.widget-state+json": {
        "e8541cfeb38d44ba85e909a9af09c7f3": {
          "model_module": "@jupyter-widgets/controls",
          "model_name": "HBoxModel",
          "model_module_version": "1.5.0",
          "state": {
            "_view_name": "HBoxView",
            "_dom_classes": [],
            "_model_name": "HBoxModel",
            "_view_module": "@jupyter-widgets/controls",
            "_model_module_version": "1.5.0",
            "_view_count": null,
            "_view_module_version": "1.5.0",
            "box_style": "",
            "layout": "IPY_MODEL_ffcec5008d2c4ef29d5ec90c0055a3f5",
            "_model_module": "@jupyter-widgets/controls",
            "children": [
              "IPY_MODEL_c2918508f40a45d89db88ca3e5b6e430",
              "IPY_MODEL_909e6a420d7949ecb33277af7d0e1a30",
              "IPY_MODEL_957c2c389e1b4a029cae1a297dab8f9b"
            ]
          }
        },
        "ffcec5008d2c4ef29d5ec90c0055a3f5": {
          "model_module": "@jupyter-widgets/base",
          "model_name": "LayoutModel",
          "model_module_version": "1.2.0",
          "state": {
            "_view_name": "LayoutView",
            "grid_template_rows": null,
            "right": null,
            "justify_content": null,
            "_view_module": "@jupyter-widgets/base",
            "overflow": null,
            "_model_module_version": "1.2.0",
            "_view_count": null,
            "flex_flow": null,
            "width": null,
            "min_width": null,
            "border": null,
            "align_items": null,
            "bottom": null,
            "_model_module": "@jupyter-widgets/base",
            "top": null,
            "grid_column": null,
            "overflow_y": null,
            "overflow_x": null,
            "grid_auto_flow": null,
            "grid_area": null,
            "grid_template_columns": null,
            "flex": null,
            "_model_name": "LayoutModel",
            "justify_items": null,
            "grid_row": null,
            "max_height": null,
            "align_content": null,
            "visibility": null,
            "align_self": null,
            "height": null,
            "min_height": null,
            "padding": null,
            "grid_auto_rows": null,
            "grid_gap": null,
            "max_width": null,
            "order": null,
            "_view_module_version": "1.2.0",
            "grid_template_areas": null,
            "object_position": null,
            "object_fit": null,
            "grid_auto_columns": null,
            "margin": null,
            "display": null,
            "left": null
          }
        },
        "c2918508f40a45d89db88ca3e5b6e430": {
          "model_module": "@jupyter-widgets/controls",
          "model_name": "HTMLModel",
          "model_module_version": "1.5.0",
          "state": {
            "_view_name": "HTMLView",
            "style": "IPY_MODEL_46df9922b83b44c7838389037311bb7c",
            "_dom_classes": [],
            "description": "",
            "_model_name": "HTMLModel",
            "placeholder": "​",
            "_view_module": "@jupyter-widgets/controls",
            "_model_module_version": "1.5.0",
            "value": "Running chain 0: 100%",
            "_view_count": null,
            "_view_module_version": "1.5.0",
            "description_tooltip": null,
            "_model_module": "@jupyter-widgets/controls",
            "layout": "IPY_MODEL_e8f6ef7ddbbb4f09b6388582431efa73"
          }
        },
        "909e6a420d7949ecb33277af7d0e1a30": {
          "model_module": "@jupyter-widgets/controls",
          "model_name": "FloatProgressModel",
          "model_module_version": "1.5.0",
          "state": {
            "_view_name": "ProgressView",
            "style": "IPY_MODEL_9ab1c8a9894f4126b8fb817303409d1d",
            "_dom_classes": [],
            "description": "",
            "_model_name": "FloatProgressModel",
            "bar_style": "success",
            "max": 7000,
            "_view_module": "@jupyter-widgets/controls",
            "_model_module_version": "1.5.0",
            "value": 7000,
            "_view_count": null,
            "_view_module_version": "1.5.0",
            "orientation": "horizontal",
            "min": 0,
            "description_tooltip": null,
            "_model_module": "@jupyter-widgets/controls",
            "layout": "IPY_MODEL_84ae200cd8c14194aaa7b2c19d470967"
          }
        },
        "957c2c389e1b4a029cae1a297dab8f9b": {
          "model_module": "@jupyter-widgets/controls",
          "model_name": "HTMLModel",
          "model_module_version": "1.5.0",
          "state": {
            "_view_name": "HTMLView",
            "style": "IPY_MODEL_325f6e0ed1eb4dee94bc133bc1402d8f",
            "_dom_classes": [],
            "description": "",
            "_model_name": "HTMLModel",
            "placeholder": "​",
            "_view_module": "@jupyter-widgets/controls",
            "_model_module_version": "1.5.0",
            "value": " 7000/7000 [00:46&lt;00:00, 252.99it/s]",
            "_view_count": null,
            "_view_module_version": "1.5.0",
            "description_tooltip": null,
            "_model_module": "@jupyter-widgets/controls",
            "layout": "IPY_MODEL_4773496fdda84f30888459bc44e60996"
          }
        },
        "46df9922b83b44c7838389037311bb7c": {
          "model_module": "@jupyter-widgets/controls",
          "model_name": "DescriptionStyleModel",
          "model_module_version": "1.5.0",
          "state": {
            "_view_name": "StyleView",
            "_model_name": "DescriptionStyleModel",
            "description_width": "",
            "_view_module": "@jupyter-widgets/base",
            "_model_module_version": "1.5.0",
            "_view_count": null,
            "_view_module_version": "1.2.0",
            "_model_module": "@jupyter-widgets/controls"
          }
        },
        "e8f6ef7ddbbb4f09b6388582431efa73": {
          "model_module": "@jupyter-widgets/base",
          "model_name": "LayoutModel",
          "model_module_version": "1.2.0",
          "state": {
            "_view_name": "LayoutView",
            "grid_template_rows": null,
            "right": null,
            "justify_content": null,
            "_view_module": "@jupyter-widgets/base",
            "overflow": null,
            "_model_module_version": "1.2.0",
            "_view_count": null,
            "flex_flow": null,
            "width": null,
            "min_width": null,
            "border": null,
            "align_items": null,
            "bottom": null,
            "_model_module": "@jupyter-widgets/base",
            "top": null,
            "grid_column": null,
            "overflow_y": null,
            "overflow_x": null,
            "grid_auto_flow": null,
            "grid_area": null,
            "grid_template_columns": null,
            "flex": null,
            "_model_name": "LayoutModel",
            "justify_items": null,
            "grid_row": null,
            "max_height": null,
            "align_content": null,
            "visibility": null,
            "align_self": null,
            "height": null,
            "min_height": null,
            "padding": null,
            "grid_auto_rows": null,
            "grid_gap": null,
            "max_width": null,
            "order": null,
            "_view_module_version": "1.2.0",
            "grid_template_areas": null,
            "object_position": null,
            "object_fit": null,
            "grid_auto_columns": null,
            "margin": null,
            "display": null,
            "left": null
          }
        },
        "9ab1c8a9894f4126b8fb817303409d1d": {
          "model_module": "@jupyter-widgets/controls",
          "model_name": "ProgressStyleModel",
          "model_module_version": "1.5.0",
          "state": {
            "_view_name": "StyleView",
            "_model_name": "ProgressStyleModel",
            "description_width": "",
            "_view_module": "@jupyter-widgets/base",
            "_model_module_version": "1.5.0",
            "_view_count": null,
            "_view_module_version": "1.2.0",
            "bar_color": null,
            "_model_module": "@jupyter-widgets/controls"
          }
        },
        "84ae200cd8c14194aaa7b2c19d470967": {
          "model_module": "@jupyter-widgets/base",
          "model_name": "LayoutModel",
          "model_module_version": "1.2.0",
          "state": {
            "_view_name": "LayoutView",
            "grid_template_rows": null,
            "right": null,
            "justify_content": null,
            "_view_module": "@jupyter-widgets/base",
            "overflow": null,
            "_model_module_version": "1.2.0",
            "_view_count": null,
            "flex_flow": null,
            "width": null,
            "min_width": null,
            "border": null,
            "align_items": null,
            "bottom": null,
            "_model_module": "@jupyter-widgets/base",
            "top": null,
            "grid_column": null,
            "overflow_y": null,
            "overflow_x": null,
            "grid_auto_flow": null,
            "grid_area": null,
            "grid_template_columns": null,
            "flex": null,
            "_model_name": "LayoutModel",
            "justify_items": null,
            "grid_row": null,
            "max_height": null,
            "align_content": null,
            "visibility": null,
            "align_self": null,
            "height": null,
            "min_height": null,
            "padding": null,
            "grid_auto_rows": null,
            "grid_gap": null,
            "max_width": null,
            "order": null,
            "_view_module_version": "1.2.0",
            "grid_template_areas": null,
            "object_position": null,
            "object_fit": null,
            "grid_auto_columns": null,
            "margin": null,
            "display": null,
            "left": null
          }
        },
        "325f6e0ed1eb4dee94bc133bc1402d8f": {
          "model_module": "@jupyter-widgets/controls",
          "model_name": "DescriptionStyleModel",
          "model_module_version": "1.5.0",
          "state": {
            "_view_name": "StyleView",
            "_model_name": "DescriptionStyleModel",
            "description_width": "",
            "_view_module": "@jupyter-widgets/base",
            "_model_module_version": "1.5.0",
            "_view_count": null,
            "_view_module_version": "1.2.0",
            "_model_module": "@jupyter-widgets/controls"
          }
        },
        "4773496fdda84f30888459bc44e60996": {
          "model_module": "@jupyter-widgets/base",
          "model_name": "LayoutModel",
          "model_module_version": "1.2.0",
          "state": {
            "_view_name": "LayoutView",
            "grid_template_rows": null,
            "right": null,
            "justify_content": null,
            "_view_module": "@jupyter-widgets/base",
            "overflow": null,
            "_model_module_version": "1.2.0",
            "_view_count": null,
            "flex_flow": null,
            "width": null,
            "min_width": null,
            "border": null,
            "align_items": null,
            "bottom": null,
            "_model_module": "@jupyter-widgets/base",
            "top": null,
            "grid_column": null,
            "overflow_y": null,
            "overflow_x": null,
            "grid_auto_flow": null,
            "grid_area": null,
            "grid_template_columns": null,
            "flex": null,
            "_model_name": "LayoutModel",
            "justify_items": null,
            "grid_row": null,
            "max_height": null,
            "align_content": null,
            "visibility": null,
            "align_self": null,
            "height": null,
            "min_height": null,
            "padding": null,
            "grid_auto_rows": null,
            "grid_gap": null,
            "max_width": null,
            "order": null,
            "_view_module_version": "1.2.0",
            "grid_template_areas": null,
            "object_position": null,
            "object_fit": null,
            "grid_auto_columns": null,
            "margin": null,
            "display": null,
            "left": null
          }
        },
        "ce113fc8f0774556bcc7b2a1c9ff70fd": {
          "model_module": "@jupyter-widgets/controls",
          "model_name": "HBoxModel",
          "model_module_version": "1.5.0",
          "state": {
            "_view_name": "HBoxView",
            "_dom_classes": [],
            "_model_name": "HBoxModel",
            "_view_module": "@jupyter-widgets/controls",
            "_model_module_version": "1.5.0",
            "_view_count": null,
            "_view_module_version": "1.5.0",
            "box_style": "",
            "layout": "IPY_MODEL_90f4a742c41f42e5a9a847ba569787d3",
            "_model_module": "@jupyter-widgets/controls",
            "children": [
              "IPY_MODEL_85f443425b75498eac9620df958665f8",
              "IPY_MODEL_3566684988e84c9095ec3d61b0fca21a",
              "IPY_MODEL_693876b743b247418ce03af4ca15eb50"
            ]
          }
        },
        "90f4a742c41f42e5a9a847ba569787d3": {
          "model_module": "@jupyter-widgets/base",
          "model_name": "LayoutModel",
          "model_module_version": "1.2.0",
          "state": {
            "_view_name": "LayoutView",
            "grid_template_rows": null,
            "right": null,
            "justify_content": null,
            "_view_module": "@jupyter-widgets/base",
            "overflow": null,
            "_model_module_version": "1.2.0",
            "_view_count": null,
            "flex_flow": null,
            "width": null,
            "min_width": null,
            "border": null,
            "align_items": null,
            "bottom": null,
            "_model_module": "@jupyter-widgets/base",
            "top": null,
            "grid_column": null,
            "overflow_y": null,
            "overflow_x": null,
            "grid_auto_flow": null,
            "grid_area": null,
            "grid_template_columns": null,
            "flex": null,
            "_model_name": "LayoutModel",
            "justify_items": null,
            "grid_row": null,
            "max_height": null,
            "align_content": null,
            "visibility": null,
            "align_self": null,
            "height": null,
            "min_height": null,
            "padding": null,
            "grid_auto_rows": null,
            "grid_gap": null,
            "max_width": null,
            "order": null,
            "_view_module_version": "1.2.0",
            "grid_template_areas": null,
            "object_position": null,
            "object_fit": null,
            "grid_auto_columns": null,
            "margin": null,
            "display": null,
            "left": null
          }
        },
        "85f443425b75498eac9620df958665f8": {
          "model_module": "@jupyter-widgets/controls",
          "model_name": "HTMLModel",
          "model_module_version": "1.5.0",
          "state": {
            "_view_name": "HTMLView",
            "style": "IPY_MODEL_cdd00320c1df4a8ab9beacbf7f7dc3b7",
            "_dom_classes": [],
            "description": "",
            "_model_name": "HTMLModel",
            "placeholder": "​",
            "_view_module": "@jupyter-widgets/controls",
            "_model_module_version": "1.5.0",
            "value": "Running chain 1: 100%",
            "_view_count": null,
            "_view_module_version": "1.5.0",
            "description_tooltip": null,
            "_model_module": "@jupyter-widgets/controls",
            "layout": "IPY_MODEL_52ceabdcea054ea194d65339752cee8b"
          }
        },
        "3566684988e84c9095ec3d61b0fca21a": {
          "model_module": "@jupyter-widgets/controls",
          "model_name": "FloatProgressModel",
          "model_module_version": "1.5.0",
          "state": {
            "_view_name": "ProgressView",
            "style": "IPY_MODEL_6db0cd5268f24ce38a97be08ded5e3ed",
            "_dom_classes": [],
            "description": "",
            "_model_name": "FloatProgressModel",
            "bar_style": "success",
            "max": 7000,
            "_view_module": "@jupyter-widgets/controls",
            "_model_module_version": "1.5.0",
            "value": 7000,
            "_view_count": null,
            "_view_module_version": "1.5.0",
            "orientation": "horizontal",
            "min": 0,
            "description_tooltip": null,
            "_model_module": "@jupyter-widgets/controls",
            "layout": "IPY_MODEL_6f9c03d1c47e47edba533a3de4088aa9"
          }
        },
        "693876b743b247418ce03af4ca15eb50": {
          "model_module": "@jupyter-widgets/controls",
          "model_name": "HTMLModel",
          "model_module_version": "1.5.0",
          "state": {
            "_view_name": "HTMLView",
            "style": "IPY_MODEL_7ba4d5a7e4fc4a6199eb0bba516ce788",
            "_dom_classes": [],
            "description": "",
            "_model_name": "HTMLModel",
            "placeholder": "​",
            "_view_module": "@jupyter-widgets/controls",
            "_model_module_version": "1.5.0",
            "value": " 7000/7000 [00:46&lt;00:00, 235.66it/s]",
            "_view_count": null,
            "_view_module_version": "1.5.0",
            "description_tooltip": null,
            "_model_module": "@jupyter-widgets/controls",
            "layout": "IPY_MODEL_37572da60acd434aac5b01807f98b84f"
          }
        },
        "cdd00320c1df4a8ab9beacbf7f7dc3b7": {
          "model_module": "@jupyter-widgets/controls",
          "model_name": "DescriptionStyleModel",
          "model_module_version": "1.5.0",
          "state": {
            "_view_name": "StyleView",
            "_model_name": "DescriptionStyleModel",
            "description_width": "",
            "_view_module": "@jupyter-widgets/base",
            "_model_module_version": "1.5.0",
            "_view_count": null,
            "_view_module_version": "1.2.0",
            "_model_module": "@jupyter-widgets/controls"
          }
        },
        "52ceabdcea054ea194d65339752cee8b": {
          "model_module": "@jupyter-widgets/base",
          "model_name": "LayoutModel",
          "model_module_version": "1.2.0",
          "state": {
            "_view_name": "LayoutView",
            "grid_template_rows": null,
            "right": null,
            "justify_content": null,
            "_view_module": "@jupyter-widgets/base",
            "overflow": null,
            "_model_module_version": "1.2.0",
            "_view_count": null,
            "flex_flow": null,
            "width": null,
            "min_width": null,
            "border": null,
            "align_items": null,
            "bottom": null,
            "_model_module": "@jupyter-widgets/base",
            "top": null,
            "grid_column": null,
            "overflow_y": null,
            "overflow_x": null,
            "grid_auto_flow": null,
            "grid_area": null,
            "grid_template_columns": null,
            "flex": null,
            "_model_name": "LayoutModel",
            "justify_items": null,
            "grid_row": null,
            "max_height": null,
            "align_content": null,
            "visibility": null,
            "align_self": null,
            "height": null,
            "min_height": null,
            "padding": null,
            "grid_auto_rows": null,
            "grid_gap": null,
            "max_width": null,
            "order": null,
            "_view_module_version": "1.2.0",
            "grid_template_areas": null,
            "object_position": null,
            "object_fit": null,
            "grid_auto_columns": null,
            "margin": null,
            "display": null,
            "left": null
          }
        },
        "6db0cd5268f24ce38a97be08ded5e3ed": {
          "model_module": "@jupyter-widgets/controls",
          "model_name": "ProgressStyleModel",
          "model_module_version": "1.5.0",
          "state": {
            "_view_name": "StyleView",
            "_model_name": "ProgressStyleModel",
            "description_width": "",
            "_view_module": "@jupyter-widgets/base",
            "_model_module_version": "1.5.0",
            "_view_count": null,
            "_view_module_version": "1.2.0",
            "bar_color": null,
            "_model_module": "@jupyter-widgets/controls"
          }
        },
        "6f9c03d1c47e47edba533a3de4088aa9": {
          "model_module": "@jupyter-widgets/base",
          "model_name": "LayoutModel",
          "model_module_version": "1.2.0",
          "state": {
            "_view_name": "LayoutView",
            "grid_template_rows": null,
            "right": null,
            "justify_content": null,
            "_view_module": "@jupyter-widgets/base",
            "overflow": null,
            "_model_module_version": "1.2.0",
            "_view_count": null,
            "flex_flow": null,
            "width": null,
            "min_width": null,
            "border": null,
            "align_items": null,
            "bottom": null,
            "_model_module": "@jupyter-widgets/base",
            "top": null,
            "grid_column": null,
            "overflow_y": null,
            "overflow_x": null,
            "grid_auto_flow": null,
            "grid_area": null,
            "grid_template_columns": null,
            "flex": null,
            "_model_name": "LayoutModel",
            "justify_items": null,
            "grid_row": null,
            "max_height": null,
            "align_content": null,
            "visibility": null,
            "align_self": null,
            "height": null,
            "min_height": null,
            "padding": null,
            "grid_auto_rows": null,
            "grid_gap": null,
            "max_width": null,
            "order": null,
            "_view_module_version": "1.2.0",
            "grid_template_areas": null,
            "object_position": null,
            "object_fit": null,
            "grid_auto_columns": null,
            "margin": null,
            "display": null,
            "left": null
          }
        },
        "7ba4d5a7e4fc4a6199eb0bba516ce788": {
          "model_module": "@jupyter-widgets/controls",
          "model_name": "DescriptionStyleModel",
          "model_module_version": "1.5.0",
          "state": {
            "_view_name": "StyleView",
            "_model_name": "DescriptionStyleModel",
            "description_width": "",
            "_view_module": "@jupyter-widgets/base",
            "_model_module_version": "1.5.0",
            "_view_count": null,
            "_view_module_version": "1.2.0",
            "_model_module": "@jupyter-widgets/controls"
          }
        },
        "37572da60acd434aac5b01807f98b84f": {
          "model_module": "@jupyter-widgets/base",
          "model_name": "LayoutModel",
          "model_module_version": "1.2.0",
          "state": {
            "_view_name": "LayoutView",
            "grid_template_rows": null,
            "right": null,
            "justify_content": null,
            "_view_module": "@jupyter-widgets/base",
            "overflow": null,
            "_model_module_version": "1.2.0",
            "_view_count": null,
            "flex_flow": null,
            "width": null,
            "min_width": null,
            "border": null,
            "align_items": null,
            "bottom": null,
            "_model_module": "@jupyter-widgets/base",
            "top": null,
            "grid_column": null,
            "overflow_y": null,
            "overflow_x": null,
            "grid_auto_flow": null,
            "grid_area": null,
            "grid_template_columns": null,
            "flex": null,
            "_model_name": "LayoutModel",
            "justify_items": null,
            "grid_row": null,
            "max_height": null,
            "align_content": null,
            "visibility": null,
            "align_self": null,
            "height": null,
            "min_height": null,
            "padding": null,
            "grid_auto_rows": null,
            "grid_gap": null,
            "max_width": null,
            "order": null,
            "_view_module_version": "1.2.0",
            "grid_template_areas": null,
            "object_position": null,
            "object_fit": null,
            "grid_auto_columns": null,
            "margin": null,
            "display": null,
            "left": null
          }
        },
        "063aab43eaa14a62a47d3d4c2c8f8c7f": {
          "model_module": "@jupyter-widgets/controls",
          "model_name": "HBoxModel",
          "model_module_version": "1.5.0",
          "state": {
            "_view_name": "HBoxView",
            "_dom_classes": [],
            "_model_name": "HBoxModel",
            "_view_module": "@jupyter-widgets/controls",
            "_model_module_version": "1.5.0",
            "_view_count": null,
            "_view_module_version": "1.5.0",
            "box_style": "",
            "layout": "IPY_MODEL_edb8f8a56b334150be9c8414db8d35d8",
            "_model_module": "@jupyter-widgets/controls",
            "children": [
              "IPY_MODEL_75bc4fcfbadb46a3a70ac98f55949f5b",
              "IPY_MODEL_4e3122913a3446f983b74a341b1f898c",
              "IPY_MODEL_c2b265aeda4b453090c494e17ec8035d"
            ]
          }
        },
        "edb8f8a56b334150be9c8414db8d35d8": {
          "model_module": "@jupyter-widgets/base",
          "model_name": "LayoutModel",
          "model_module_version": "1.2.0",
          "state": {
            "_view_name": "LayoutView",
            "grid_template_rows": null,
            "right": null,
            "justify_content": null,
            "_view_module": "@jupyter-widgets/base",
            "overflow": null,
            "_model_module_version": "1.2.0",
            "_view_count": null,
            "flex_flow": null,
            "width": null,
            "min_width": null,
            "border": null,
            "align_items": null,
            "bottom": null,
            "_model_module": "@jupyter-widgets/base",
            "top": null,
            "grid_column": null,
            "overflow_y": null,
            "overflow_x": null,
            "grid_auto_flow": null,
            "grid_area": null,
            "grid_template_columns": null,
            "flex": null,
            "_model_name": "LayoutModel",
            "justify_items": null,
            "grid_row": null,
            "max_height": null,
            "align_content": null,
            "visibility": null,
            "align_self": null,
            "height": null,
            "min_height": null,
            "padding": null,
            "grid_auto_rows": null,
            "grid_gap": null,
            "max_width": null,
            "order": null,
            "_view_module_version": "1.2.0",
            "grid_template_areas": null,
            "object_position": null,
            "object_fit": null,
            "grid_auto_columns": null,
            "margin": null,
            "display": null,
            "left": null
          }
        },
        "75bc4fcfbadb46a3a70ac98f55949f5b": {
          "model_module": "@jupyter-widgets/controls",
          "model_name": "HTMLModel",
          "model_module_version": "1.5.0",
          "state": {
            "_view_name": "HTMLView",
            "style": "IPY_MODEL_78041eb78c01485191dee6e01512b6d2",
            "_dom_classes": [],
            "description": "",
            "_model_name": "HTMLModel",
            "placeholder": "​",
            "_view_module": "@jupyter-widgets/controls",
            "_model_module_version": "1.5.0",
            "value": "Running chain 2: 100%",
            "_view_count": null,
            "_view_module_version": "1.5.0",
            "description_tooltip": null,
            "_model_module": "@jupyter-widgets/controls",
            "layout": "IPY_MODEL_38e8cea7771e4cdd9d1cf9b6b68527c0"
          }
        },
        "4e3122913a3446f983b74a341b1f898c": {
          "model_module": "@jupyter-widgets/controls",
          "model_name": "FloatProgressModel",
          "model_module_version": "1.5.0",
          "state": {
            "_view_name": "ProgressView",
            "style": "IPY_MODEL_b2d55a03cc2a4add8bb17288de9b1abd",
            "_dom_classes": [],
            "description": "",
            "_model_name": "FloatProgressModel",
            "bar_style": "success",
            "max": 7000,
            "_view_module": "@jupyter-widgets/controls",
            "_model_module_version": "1.5.0",
            "value": 7000,
            "_view_count": null,
            "_view_module_version": "1.5.0",
            "orientation": "horizontal",
            "min": 0,
            "description_tooltip": null,
            "_model_module": "@jupyter-widgets/controls",
            "layout": "IPY_MODEL_17311d1a873247fb84efbfcb706632f9"
          }
        },
        "c2b265aeda4b453090c494e17ec8035d": {
          "model_module": "@jupyter-widgets/controls",
          "model_name": "HTMLModel",
          "model_module_version": "1.5.0",
          "state": {
            "_view_name": "HTMLView",
            "style": "IPY_MODEL_39b25a4b21ee4c3685bb4fdfa22307e5",
            "_dom_classes": [],
            "description": "",
            "_model_name": "HTMLModel",
            "placeholder": "​",
            "_view_module": "@jupyter-widgets/controls",
            "_model_module_version": "1.5.0",
            "value": " 7000/7000 [00:46&lt;00:00, 235.81it/s]",
            "_view_count": null,
            "_view_module_version": "1.5.0",
            "description_tooltip": null,
            "_model_module": "@jupyter-widgets/controls",
            "layout": "IPY_MODEL_d973d1cf93774a18a770c41e28c6b1b5"
          }
        },
        "78041eb78c01485191dee6e01512b6d2": {
          "model_module": "@jupyter-widgets/controls",
          "model_name": "DescriptionStyleModel",
          "model_module_version": "1.5.0",
          "state": {
            "_view_name": "StyleView",
            "_model_name": "DescriptionStyleModel",
            "description_width": "",
            "_view_module": "@jupyter-widgets/base",
            "_model_module_version": "1.5.0",
            "_view_count": null,
            "_view_module_version": "1.2.0",
            "_model_module": "@jupyter-widgets/controls"
          }
        },
        "38e8cea7771e4cdd9d1cf9b6b68527c0": {
          "model_module": "@jupyter-widgets/base",
          "model_name": "LayoutModel",
          "model_module_version": "1.2.0",
          "state": {
            "_view_name": "LayoutView",
            "grid_template_rows": null,
            "right": null,
            "justify_content": null,
            "_view_module": "@jupyter-widgets/base",
            "overflow": null,
            "_model_module_version": "1.2.0",
            "_view_count": null,
            "flex_flow": null,
            "width": null,
            "min_width": null,
            "border": null,
            "align_items": null,
            "bottom": null,
            "_model_module": "@jupyter-widgets/base",
            "top": null,
            "grid_column": null,
            "overflow_y": null,
            "overflow_x": null,
            "grid_auto_flow": null,
            "grid_area": null,
            "grid_template_columns": null,
            "flex": null,
            "_model_name": "LayoutModel",
            "justify_items": null,
            "grid_row": null,
            "max_height": null,
            "align_content": null,
            "visibility": null,
            "align_self": null,
            "height": null,
            "min_height": null,
            "padding": null,
            "grid_auto_rows": null,
            "grid_gap": null,
            "max_width": null,
            "order": null,
            "_view_module_version": "1.2.0",
            "grid_template_areas": null,
            "object_position": null,
            "object_fit": null,
            "grid_auto_columns": null,
            "margin": null,
            "display": null,
            "left": null
          }
        },
        "b2d55a03cc2a4add8bb17288de9b1abd": {
          "model_module": "@jupyter-widgets/controls",
          "model_name": "ProgressStyleModel",
          "model_module_version": "1.5.0",
          "state": {
            "_view_name": "StyleView",
            "_model_name": "ProgressStyleModel",
            "description_width": "",
            "_view_module": "@jupyter-widgets/base",
            "_model_module_version": "1.5.0",
            "_view_count": null,
            "_view_module_version": "1.2.0",
            "bar_color": null,
            "_model_module": "@jupyter-widgets/controls"
          }
        },
        "17311d1a873247fb84efbfcb706632f9": {
          "model_module": "@jupyter-widgets/base",
          "model_name": "LayoutModel",
          "model_module_version": "1.2.0",
          "state": {
            "_view_name": "LayoutView",
            "grid_template_rows": null,
            "right": null,
            "justify_content": null,
            "_view_module": "@jupyter-widgets/base",
            "overflow": null,
            "_model_module_version": "1.2.0",
            "_view_count": null,
            "flex_flow": null,
            "width": null,
            "min_width": null,
            "border": null,
            "align_items": null,
            "bottom": null,
            "_model_module": "@jupyter-widgets/base",
            "top": null,
            "grid_column": null,
            "overflow_y": null,
            "overflow_x": null,
            "grid_auto_flow": null,
            "grid_area": null,
            "grid_template_columns": null,
            "flex": null,
            "_model_name": "LayoutModel",
            "justify_items": null,
            "grid_row": null,
            "max_height": null,
            "align_content": null,
            "visibility": null,
            "align_self": null,
            "height": null,
            "min_height": null,
            "padding": null,
            "grid_auto_rows": null,
            "grid_gap": null,
            "max_width": null,
            "order": null,
            "_view_module_version": "1.2.0",
            "grid_template_areas": null,
            "object_position": null,
            "object_fit": null,
            "grid_auto_columns": null,
            "margin": null,
            "display": null,
            "left": null
          }
        },
        "39b25a4b21ee4c3685bb4fdfa22307e5": {
          "model_module": "@jupyter-widgets/controls",
          "model_name": "DescriptionStyleModel",
          "model_module_version": "1.5.0",
          "state": {
            "_view_name": "StyleView",
            "_model_name": "DescriptionStyleModel",
            "description_width": "",
            "_view_module": "@jupyter-widgets/base",
            "_model_module_version": "1.5.0",
            "_view_count": null,
            "_view_module_version": "1.2.0",
            "_model_module": "@jupyter-widgets/controls"
          }
        },
        "d973d1cf93774a18a770c41e28c6b1b5": {
          "model_module": "@jupyter-widgets/base",
          "model_name": "LayoutModel",
          "model_module_version": "1.2.0",
          "state": {
            "_view_name": "LayoutView",
            "grid_template_rows": null,
            "right": null,
            "justify_content": null,
            "_view_module": "@jupyter-widgets/base",
            "overflow": null,
            "_model_module_version": "1.2.0",
            "_view_count": null,
            "flex_flow": null,
            "width": null,
            "min_width": null,
            "border": null,
            "align_items": null,
            "bottom": null,
            "_model_module": "@jupyter-widgets/base",
            "top": null,
            "grid_column": null,
            "overflow_y": null,
            "overflow_x": null,
            "grid_auto_flow": null,
            "grid_area": null,
            "grid_template_columns": null,
            "flex": null,
            "_model_name": "LayoutModel",
            "justify_items": null,
            "grid_row": null,
            "max_height": null,
            "align_content": null,
            "visibility": null,
            "align_self": null,
            "height": null,
            "min_height": null,
            "padding": null,
            "grid_auto_rows": null,
            "grid_gap": null,
            "max_width": null,
            "order": null,
            "_view_module_version": "1.2.0",
            "grid_template_areas": null,
            "object_position": null,
            "object_fit": null,
            "grid_auto_columns": null,
            "margin": null,
            "display": null,
            "left": null
          }
        },
        "d1051c18f27d488d9d70088fe392840d": {
          "model_module": "@jupyter-widgets/controls",
          "model_name": "HBoxModel",
          "model_module_version": "1.5.0",
          "state": {
            "_view_name": "HBoxView",
            "_dom_classes": [],
            "_model_name": "HBoxModel",
            "_view_module": "@jupyter-widgets/controls",
            "_model_module_version": "1.5.0",
            "_view_count": null,
            "_view_module_version": "1.5.0",
            "box_style": "",
            "layout": "IPY_MODEL_32b3d7fe83f34a36aa028a9fe2bfab7c",
            "_model_module": "@jupyter-widgets/controls",
            "children": [
              "IPY_MODEL_85004c6674764b31aebc214c2fbe2008",
              "IPY_MODEL_adba0766bbab4a1fa246566c633f1a71",
              "IPY_MODEL_10dc75fae00341bdb8fbabba425317d3"
            ]
          }
        },
        "32b3d7fe83f34a36aa028a9fe2bfab7c": {
          "model_module": "@jupyter-widgets/base",
          "model_name": "LayoutModel",
          "model_module_version": "1.2.0",
          "state": {
            "_view_name": "LayoutView",
            "grid_template_rows": null,
            "right": null,
            "justify_content": null,
            "_view_module": "@jupyter-widgets/base",
            "overflow": null,
            "_model_module_version": "1.2.0",
            "_view_count": null,
            "flex_flow": null,
            "width": null,
            "min_width": null,
            "border": null,
            "align_items": null,
            "bottom": null,
            "_model_module": "@jupyter-widgets/base",
            "top": null,
            "grid_column": null,
            "overflow_y": null,
            "overflow_x": null,
            "grid_auto_flow": null,
            "grid_area": null,
            "grid_template_columns": null,
            "flex": null,
            "_model_name": "LayoutModel",
            "justify_items": null,
            "grid_row": null,
            "max_height": null,
            "align_content": null,
            "visibility": null,
            "align_self": null,
            "height": null,
            "min_height": null,
            "padding": null,
            "grid_auto_rows": null,
            "grid_gap": null,
            "max_width": null,
            "order": null,
            "_view_module_version": "1.2.0",
            "grid_template_areas": null,
            "object_position": null,
            "object_fit": null,
            "grid_auto_columns": null,
            "margin": null,
            "display": null,
            "left": null
          }
        },
        "85004c6674764b31aebc214c2fbe2008": {
          "model_module": "@jupyter-widgets/controls",
          "model_name": "HTMLModel",
          "model_module_version": "1.5.0",
          "state": {
            "_view_name": "HTMLView",
            "style": "IPY_MODEL_0c4bb395af96477ca84a3cad1248eec3",
            "_dom_classes": [],
            "description": "",
            "_model_name": "HTMLModel",
            "placeholder": "​",
            "_view_module": "@jupyter-widgets/controls",
            "_model_module_version": "1.5.0",
            "value": "Running chain 3: 100%",
            "_view_count": null,
            "_view_module_version": "1.5.0",
            "description_tooltip": null,
            "_model_module": "@jupyter-widgets/controls",
            "layout": "IPY_MODEL_e996fd4d385446a5b67b4b9c6f9f0568"
          }
        },
        "adba0766bbab4a1fa246566c633f1a71": {
          "model_module": "@jupyter-widgets/controls",
          "model_name": "FloatProgressModel",
          "model_module_version": "1.5.0",
          "state": {
            "_view_name": "ProgressView",
            "style": "IPY_MODEL_8e800a969301482aa6b70be393ad7241",
            "_dom_classes": [],
            "description": "",
            "_model_name": "FloatProgressModel",
            "bar_style": "success",
            "max": 7000,
            "_view_module": "@jupyter-widgets/controls",
            "_model_module_version": "1.5.0",
            "value": 7000,
            "_view_count": null,
            "_view_module_version": "1.5.0",
            "orientation": "horizontal",
            "min": 0,
            "description_tooltip": null,
            "_model_module": "@jupyter-widgets/controls",
            "layout": "IPY_MODEL_941849ca49f8403684167cd6e71923c8"
          }
        },
        "10dc75fae00341bdb8fbabba425317d3": {
          "model_module": "@jupyter-widgets/controls",
          "model_name": "HTMLModel",
          "model_module_version": "1.5.0",
          "state": {
            "_view_name": "HTMLView",
            "style": "IPY_MODEL_7cfaa621e79f4047b2dc687e3bf713a6",
            "_dom_classes": [],
            "description": "",
            "_model_name": "HTMLModel",
            "placeholder": "​",
            "_view_module": "@jupyter-widgets/controls",
            "_model_module_version": "1.5.0",
            "value": " 7000/7000 [00:45&lt;00:00, 231.47it/s]",
            "_view_count": null,
            "_view_module_version": "1.5.0",
            "description_tooltip": null,
            "_model_module": "@jupyter-widgets/controls",
            "layout": "IPY_MODEL_7ed954044cf440c9bdadeefab108b64f"
          }
        },
        "0c4bb395af96477ca84a3cad1248eec3": {
          "model_module": "@jupyter-widgets/controls",
          "model_name": "DescriptionStyleModel",
          "model_module_version": "1.5.0",
          "state": {
            "_view_name": "StyleView",
            "_model_name": "DescriptionStyleModel",
            "description_width": "",
            "_view_module": "@jupyter-widgets/base",
            "_model_module_version": "1.5.0",
            "_view_count": null,
            "_view_module_version": "1.2.0",
            "_model_module": "@jupyter-widgets/controls"
          }
        },
        "e996fd4d385446a5b67b4b9c6f9f0568": {
          "model_module": "@jupyter-widgets/base",
          "model_name": "LayoutModel",
          "model_module_version": "1.2.0",
          "state": {
            "_view_name": "LayoutView",
            "grid_template_rows": null,
            "right": null,
            "justify_content": null,
            "_view_module": "@jupyter-widgets/base",
            "overflow": null,
            "_model_module_version": "1.2.0",
            "_view_count": null,
            "flex_flow": null,
            "width": null,
            "min_width": null,
            "border": null,
            "align_items": null,
            "bottom": null,
            "_model_module": "@jupyter-widgets/base",
            "top": null,
            "grid_column": null,
            "overflow_y": null,
            "overflow_x": null,
            "grid_auto_flow": null,
            "grid_area": null,
            "grid_template_columns": null,
            "flex": null,
            "_model_name": "LayoutModel",
            "justify_items": null,
            "grid_row": null,
            "max_height": null,
            "align_content": null,
            "visibility": null,
            "align_self": null,
            "height": null,
            "min_height": null,
            "padding": null,
            "grid_auto_rows": null,
            "grid_gap": null,
            "max_width": null,
            "order": null,
            "_view_module_version": "1.2.0",
            "grid_template_areas": null,
            "object_position": null,
            "object_fit": null,
            "grid_auto_columns": null,
            "margin": null,
            "display": null,
            "left": null
          }
        },
        "8e800a969301482aa6b70be393ad7241": {
          "model_module": "@jupyter-widgets/controls",
          "model_name": "ProgressStyleModel",
          "model_module_version": "1.5.0",
          "state": {
            "_view_name": "StyleView",
            "_model_name": "ProgressStyleModel",
            "description_width": "",
            "_view_module": "@jupyter-widgets/base",
            "_model_module_version": "1.5.0",
            "_view_count": null,
            "_view_module_version": "1.2.0",
            "bar_color": null,
            "_model_module": "@jupyter-widgets/controls"
          }
        },
        "941849ca49f8403684167cd6e71923c8": {
          "model_module": "@jupyter-widgets/base",
          "model_name": "LayoutModel",
          "model_module_version": "1.2.0",
          "state": {
            "_view_name": "LayoutView",
            "grid_template_rows": null,
            "right": null,
            "justify_content": null,
            "_view_module": "@jupyter-widgets/base",
            "overflow": null,
            "_model_module_version": "1.2.0",
            "_view_count": null,
            "flex_flow": null,
            "width": null,
            "min_width": null,
            "border": null,
            "align_items": null,
            "bottom": null,
            "_model_module": "@jupyter-widgets/base",
            "top": null,
            "grid_column": null,
            "overflow_y": null,
            "overflow_x": null,
            "grid_auto_flow": null,
            "grid_area": null,
            "grid_template_columns": null,
            "flex": null,
            "_model_name": "LayoutModel",
            "justify_items": null,
            "grid_row": null,
            "max_height": null,
            "align_content": null,
            "visibility": null,
            "align_self": null,
            "height": null,
            "min_height": null,
            "padding": null,
            "grid_auto_rows": null,
            "grid_gap": null,
            "max_width": null,
            "order": null,
            "_view_module_version": "1.2.0",
            "grid_template_areas": null,
            "object_position": null,
            "object_fit": null,
            "grid_auto_columns": null,
            "margin": null,
            "display": null,
            "left": null
          }
        },
        "7cfaa621e79f4047b2dc687e3bf713a6": {
          "model_module": "@jupyter-widgets/controls",
          "model_name": "DescriptionStyleModel",
          "model_module_version": "1.5.0",
          "state": {
            "_view_name": "StyleView",
            "_model_name": "DescriptionStyleModel",
            "description_width": "",
            "_view_module": "@jupyter-widgets/base",
            "_model_module_version": "1.5.0",
            "_view_count": null,
            "_view_module_version": "1.2.0",
            "_model_module": "@jupyter-widgets/controls"
          }
        },
        "7ed954044cf440c9bdadeefab108b64f": {
          "model_module": "@jupyter-widgets/base",
          "model_name": "LayoutModel",
          "model_module_version": "1.2.0",
          "state": {
            "_view_name": "LayoutView",
            "grid_template_rows": null,
            "right": null,
            "justify_content": null,
            "_view_module": "@jupyter-widgets/base",
            "overflow": null,
            "_model_module_version": "1.2.0",
            "_view_count": null,
            "flex_flow": null,
            "width": null,
            "min_width": null,
            "border": null,
            "align_items": null,
            "bottom": null,
            "_model_module": "@jupyter-widgets/base",
            "top": null,
            "grid_column": null,
            "overflow_y": null,
            "overflow_x": null,
            "grid_auto_flow": null,
            "grid_area": null,
            "grid_template_columns": null,
            "flex": null,
            "_model_name": "LayoutModel",
            "justify_items": null,
            "grid_row": null,
            "max_height": null,
            "align_content": null,
            "visibility": null,
            "align_self": null,
            "height": null,
            "min_height": null,
            "padding": null,
            "grid_auto_rows": null,
            "grid_gap": null,
            "max_width": null,
            "order": null,
            "_view_module_version": "1.2.0",
            "grid_template_areas": null,
            "object_position": null,
            "object_fit": null,
            "grid_auto_columns": null,
            "margin": null,
            "display": null,
            "left": null
          }
        }
      }
    }
  },
  "cells": [
    {
      "cell_type": "markdown",
      "metadata": {
        "id": "view-in-github",
        "colab_type": "text"
      },
      "source": [
        "<a href=\"https://colab.research.google.com/github/wilkeraziz/emnlp-main-findings/blob/main/DP-shared-rates.ipynb\" target=\"_parent\"><img src=\"https://colab.research.google.com/assets/colab-badge.svg\" alt=\"Open In Colab\"/></a>"
      ]
    },
    {
      "cell_type": "markdown",
      "metadata": {
        "id": "B5tNGYy9C2SD"
      },
      "source": [
        "# Set up numpyro"
      ]
    },
    {
      "cell_type": "code",
      "metadata": {
        "colab": {
          "base_uri": "https://localhost:8080/"
        },
        "id": "U6q5fUMBoJA7",
        "outputId": "857282b8-eafa-4853-acc9-1637ff2c6899"
      },
      "source": [
        "!pip install numpyro funsor"
      ],
      "execution_count": 1,
      "outputs": [
        {
          "output_type": "stream",
          "name": "stdout",
          "text": [
            "Collecting numpyro\n",
            "  Downloading numpyro-0.8.0-py3-none-any.whl (264 kB)\n",
            "\u001b[?25l\r\u001b[K     |█▎                              | 10 kB 26.6 MB/s eta 0:00:01\r\u001b[K     |██▌                             | 20 kB 30.0 MB/s eta 0:00:01\r\u001b[K     |███▊                            | 30 kB 12.0 MB/s eta 0:00:01\r\u001b[K     |█████                           | 40 kB 9.4 MB/s eta 0:00:01\r\u001b[K     |██████▏                         | 51 kB 5.4 MB/s eta 0:00:01\r\u001b[K     |███████▍                        | 61 kB 6.0 MB/s eta 0:00:01\r\u001b[K     |████████▊                       | 71 kB 5.7 MB/s eta 0:00:01\r\u001b[K     |██████████                      | 81 kB 6.4 MB/s eta 0:00:01\r\u001b[K     |███████████▏                    | 92 kB 4.9 MB/s eta 0:00:01\r\u001b[K     |████████████▍                   | 102 kB 5.3 MB/s eta 0:00:01\r\u001b[K     |█████████████▋                  | 112 kB 5.3 MB/s eta 0:00:01\r\u001b[K     |██████████████▉                 | 122 kB 5.3 MB/s eta 0:00:01\r\u001b[K     |████████████████▏               | 133 kB 5.3 MB/s eta 0:00:01\r\u001b[K     |█████████████████▍              | 143 kB 5.3 MB/s eta 0:00:01\r\u001b[K     |██████████████████▋             | 153 kB 5.3 MB/s eta 0:00:01\r\u001b[K     |███████████████████▉            | 163 kB 5.3 MB/s eta 0:00:01\r\u001b[K     |█████████████████████           | 174 kB 5.3 MB/s eta 0:00:01\r\u001b[K     |██████████████████████▎         | 184 kB 5.3 MB/s eta 0:00:01\r\u001b[K     |███████████████████████▋        | 194 kB 5.3 MB/s eta 0:00:01\r\u001b[K     |████████████████████████▉       | 204 kB 5.3 MB/s eta 0:00:01\r\u001b[K     |██████████████████████████      | 215 kB 5.3 MB/s eta 0:00:01\r\u001b[K     |███████████████████████████▎    | 225 kB 5.3 MB/s eta 0:00:01\r\u001b[K     |████████████████████████████▌   | 235 kB 5.3 MB/s eta 0:00:01\r\u001b[K     |█████████████████████████████▊  | 245 kB 5.3 MB/s eta 0:00:01\r\u001b[K     |███████████████████████████████ | 256 kB 5.3 MB/s eta 0:00:01\r\u001b[K     |████████████████████████████████| 264 kB 5.3 MB/s \n",
            "\u001b[?25hCollecting funsor\n",
            "  Downloading funsor-0.4.1-py3-none-any.whl (154 kB)\n",
            "\u001b[?25l\r\u001b[K     |██▏                             | 10 kB 17.4 MB/s eta 0:00:01\r\u001b[K     |████▎                           | 20 kB 25.3 MB/s eta 0:00:01\r\u001b[K     |██████▍                         | 30 kB 31.7 MB/s eta 0:00:01\r\u001b[K     |████████▌                       | 40 kB 30.5 MB/s eta 0:00:01\r\u001b[K     |██████████▋                     | 51 kB 33.0 MB/s eta 0:00:01\r\u001b[K     |████████████▊                   | 61 kB 35.6 MB/s eta 0:00:01\r\u001b[K     |██████████████▉                 | 71 kB 37.5 MB/s eta 0:00:01\r\u001b[K     |█████████████████               | 81 kB 38.6 MB/s eta 0:00:01\r\u001b[K     |███████████████████             | 92 kB 40.3 MB/s eta 0:00:01\r\u001b[K     |█████████████████████▏          | 102 kB 42.6 MB/s eta 0:00:01\r\u001b[K     |███████████████████████▎        | 112 kB 42.6 MB/s eta 0:00:01\r\u001b[K     |█████████████████████████▍      | 122 kB 42.6 MB/s eta 0:00:01\r\u001b[K     |███████████████████████████▌    | 133 kB 42.6 MB/s eta 0:00:01\r\u001b[K     |█████████████████████████████▋  | 143 kB 42.6 MB/s eta 0:00:01\r\u001b[K     |███████████████████████████████▊| 153 kB 42.6 MB/s eta 0:00:01\r\u001b[K     |████████████████████████████████| 154 kB 42.6 MB/s \n",
            "\u001b[?25hRequirement already satisfied: jax>=0.2.13 in /usr/local/lib/python3.7/dist-packages (from numpyro) (0.2.21)\n",
            "Requirement already satisfied: tqdm in /usr/local/lib/python3.7/dist-packages (from numpyro) (4.62.3)\n",
            "Requirement already satisfied: jaxlib>=0.1.65 in /usr/local/lib/python3.7/dist-packages (from numpyro) (0.1.71+cuda111)\n",
            "Requirement already satisfied: absl-py in /usr/local/lib/python3.7/dist-packages (from jax>=0.2.13->numpyro) (0.12.0)\n",
            "Requirement already satisfied: opt-einsum in /usr/local/lib/python3.7/dist-packages (from jax>=0.2.13->numpyro) (3.3.0)\n",
            "Requirement already satisfied: numpy>=1.18 in /usr/local/lib/python3.7/dist-packages (from jax>=0.2.13->numpyro) (1.19.5)\n",
            "Requirement already satisfied: scipy>=1.2.1 in /usr/local/lib/python3.7/dist-packages (from jax>=0.2.13->numpyro) (1.4.1)\n",
            "Requirement already satisfied: flatbuffers<3.0,>=1.12 in /usr/local/lib/python3.7/dist-packages (from jaxlib>=0.1.65->numpyro) (1.12)\n",
            "Requirement already satisfied: typing-extensions in /usr/local/lib/python3.7/dist-packages (from funsor) (3.7.4.3)\n",
            "Collecting multipledispatch\n",
            "  Downloading multipledispatch-0.6.0-py3-none-any.whl (11 kB)\n",
            "Collecting makefun\n",
            "  Downloading makefun-1.12.1-py2.py3-none-any.whl (21 kB)\n",
            "Requirement already satisfied: six in /usr/local/lib/python3.7/dist-packages (from absl-py->jax>=0.2.13->numpyro) (1.15.0)\n",
            "Installing collected packages: multipledispatch, makefun, numpyro, funsor\n",
            "Successfully installed funsor-0.4.1 makefun-1.12.1 multipledispatch-0.6.0 numpyro-0.8.0\n"
          ]
        }
      ]
    },
    {
      "cell_type": "markdown",
      "metadata": {
        "id": "6GacwPkNC6i3"
      },
      "source": [
        "# Data\n",
        "\n",
        "I'm using the counts Ryan shared:"
      ]
    },
    {
      "cell_type": "code",
      "metadata": {
        "colab": {
          "base_uri": "https://localhost:8080/"
        },
        "id": "PJqRtqd8AtcA",
        "outputId": "9f780938-5297-44d6-892b-d7f08fed246f"
      },
      "source": [
        "!git clone https://github.com/ryancotterell/emnlp2020-analysis.git"
      ],
      "execution_count": 2,
      "outputs": [
        {
          "output_type": "stream",
          "name": "stdout",
          "text": [
            "Cloning into 'emnlp2020-analysis'...\n",
            "remote: Enumerating objects: 33, done.\u001b[K\n",
            "remote: Counting objects: 100% (33/33), done.\u001b[K\n",
            "remote: Compressing objects: 100% (22/22), done.\u001b[K\n",
            "remote: Total 33 (delta 7), reused 29 (delta 6), pack-reused 0\u001b[K\n",
            "Unpacking objects: 100% (33/33), done.\n"
          ]
        }
      ]
    },
    {
      "cell_type": "code",
      "metadata": {
        "id": "Fgy8kKknBIcL"
      },
      "source": [
        "def read(fname):\n",
        "\tlst = []\n",
        "\twith open(fname, 'r') as f:\n",
        "\t\tfor i, line in enumerate(f):\n",
        "\t\t\tif i == 0:\n",
        "\t\t\t\tcontinue\n",
        "\t\t\tsplit = line.strip().split(\"\\t\")\n",
        "\t\t\tlst.append(int(split[1]))\n",
        "\treturn lst"
      ],
      "execution_count": 3,
      "outputs": []
    },
    {
      "cell_type": "code",
      "metadata": {
        "id": "c72vK0eHBJlE"
      },
      "source": [
        "y_m = read('emnlp2020-analysis/data/main.tsv')\n",
        "y_f = read('emnlp2020-analysis/data/findings.tsv')"
      ],
      "execution_count": 4,
      "outputs": []
    },
    {
      "cell_type": "markdown",
      "metadata": {
        "id": "ZDaet7KuCwhc"
      },
      "source": [
        "Let's visualise it"
      ]
    },
    {
      "cell_type": "code",
      "metadata": {
        "id": "Ps5w9WSRCt5H"
      },
      "source": [
        "import matplotlib.pyplot as plt\n",
        "import seaborn as sns; sns.set()\n",
        "import arviz as az\n",
        "\n",
        "from tabulate import tabulate\n",
        "import numpy as np\n",
        "from collections import OrderedDict\n",
        "from itertools import cycle"
      ],
      "execution_count": 5,
      "outputs": []
    },
    {
      "cell_type": "code",
      "metadata": {
        "id": "SUaMlrcZCy0l"
      },
      "source": [
        "palette = cycle(sns.color_palette())\n",
        "color_m = next(palette)\n",
        "color_f = next(palette)"
      ],
      "execution_count": 6,
      "outputs": []
    },
    {
      "cell_type": "code",
      "metadata": {
        "colab": {
          "base_uri": "https://localhost:8080/",
          "height": 228
        },
        "id": "l04OXvb-C4b8",
        "outputId": "e71d5fd7-e9e1-48d4-82e0-b8787bc9b947"
      },
      "source": [
        "fig, ax = plt.subplots(1, 2, sharex=True, sharey=True, figsize=(8, 3))\n",
        "bins = np.histogram_bin_edges(np.concatenate([y_m, y_f]), bins=30)\n",
        "ax[0].hist(y_m, bins=bins, color=color_m, label='main')\n",
        "ax[1].hist(y_f, bins=bins, color=color_f, label='findings')\n",
        "ax[0].set_xlabel('Citation count')\n",
        "ax[0].set_ylabel('Number of papers')\n",
        "ax[1].set_xlabel('Citation count')\n",
        "fig.tight_layout(h_pad=2, w_pad=2)\n",
        "_ = fig.legend()"
      ],
      "execution_count": 7,
      "outputs": [
        {
          "output_type": "display_data",
          "data": {
            "image/png": "[encoded data removed]",
            "text/plain": [
              "<Figure size 576x216 with 2 Axes>"
            ]
          },
          "metadata": {}
        }
      ]
    },
    {
      "cell_type": "markdown",
      "metadata": {
        "id": "6kzom9zvC3fx"
      },
      "source": [
        "\n",
        "Let's get some descriptive statistics"
      ]
    },
    {
      "cell_type": "code",
      "metadata": {
        "colab": {
          "base_uri": "https://localhost:8080/"
        },
        "id": "CUsAg_nAC-gI",
        "outputId": "c3428385-1dc6-4d87-ec60-f83d857fbe81"
      },
      "source": [
        "headers = ['Main', 'Findings']\n",
        "rows = [\n",
        "    ['samples', len(y_m), len(y_f)],\n",
        "    ['mean', np.mean(y_m), np.mean(y_f)],\n",
        "    ['std', np.std(y_m), np.std(y_f)],\n",
        "    ['median', np.median(y_m), np.median(y_f)],\n",
        "    ['min', np.min(y_m), np.min(y_f)],\n",
        "    ['max', np.max(y_m), np.max(y_f)],\n",
        "]\n",
        "print(tabulate(rows, headers=headers, floatfmt='.2f'))"
      ],
      "execution_count": 8,
      "outputs": [
        {
          "output_type": "stream",
          "name": "stdout",
          "text": [
            "           Main    Findings\n",
            "-------  ------  ----------\n",
            "samples  751.00      447.00\n",
            "mean      11.60        9.19\n",
            "std       20.20       23.95\n",
            "median     7.00        4.00\n",
            "min        0.00        0.00\n",
            "max      355.00      388.00\n"
          ]
        }
      ]
    },
    {
      "cell_type": "markdown",
      "metadata": {
        "id": "hzZ1Sn3mDHEI"
      },
      "source": [
        "# Model\n",
        "\n",
        "\n",
        "I would like to discover a number of Poisson distributions that help me explain the two groups, each group under a mixture model.\n",
        "\n",
        "I would like the Poisson distributions to be shared across groups, so that I can interpret the mixture components as patterns (e.g., 'low-cited papers', 'average-cited papers', 'highly-citated papers'), but the mixing coefficients to be group-specific, so that I can interpret them as the extent to which each pattern is relevant for a group.\n",
        "\n",
        "Clearly, I have no clue which Poisson components will explain my data, so I will draw components from a Gamma prior that gives me a good spread of possible rates. I also have no cluse how many components I will need, but I don't expect too many. So I will employ a DP prior that discourages using too many components and truncate it at some small value (e.g., 5 or 10).\n",
        "\n",
        "**Generative story**\n",
        "\n",
        "The analysis model is a mixed membership model. \n",
        "Each group (i.e., main or findings) is drawn from a Dirichlet process (DP) mixture of Poisson components.\n",
        "\n",
        "I use $[N]$ to denote the set $\\{1, \\ldots, N\\}$. $G$ is the number of groups (we have 2), $T$ is the maximum number of components (as I will truncate the DP prior).\n",
        "\n",
        "I used a DP prior \n",
        "\\begin{align}\n",
        "(\\omega_1, \\ldots, \\omega_G), \\lambda &\\sim \\mathrm{DP}(\\mathrm{Gamma}(a, b), \\alpha)\n",
        "\\end{align}\n",
        "with a shared Gamma base distribution from which we draw Poisson rates.\n",
        "\n",
        "I truncate the DP prior and draw samples using the stick-breaking representation \n",
        "\\begin{align}\n",
        "\\beta_{g,t} &\\sim \\mathrm{Beta}(1, \\alpha) & \\text{for } (g,t) \\in [G]\\times [T-1]\\\\\n",
        "\\omega_{g, t}&=\\beta_{g,t}\\prod_{k<t} (1-\\beta_{g,k}) & \\text{for }(g,t) \\in [G]\\times[T]\\\\\n",
        "\\lambda_t &\\sim \\mathrm{Gamma}(a, b) & \\text{for }t \\in [T]\\\\\n",
        "\\end{align}\n",
        "the smaller the $\\alpha$ the fewer components will be used. I adjust $a$ and $b$ to make sure the prior covers reasonable citation counts.\n",
        "\n",
        "Once we have the mixing coefficients $w_{g,t}$, for every group $g \\in [G]$ and component $t \\in [T]$, we can draw each one of our $N$ observations.\n",
        "The $n$th observation $y_n$ belongs to group $x_n$, it is the citation count for a paper in that group.\n",
        "\n",
        "\\begin{align}\n",
        "Z_n|x_n &\\sim \\mathrm{Cat}(\\omega_{x_n}) & \\text{for } n \\in [N] \\\\\n",
        "Y_n|z_n &\\sim \\mathrm{Poisson}(\\lambda_{z_n})\n",
        "\\end{align}\n",
        "\n",
        "Mixture models are non-identifiable: because the DP prior is exchangeable, we can permute the components around and the marginal $Y|X=x$ won't change. This is problematic when we intend to interpret component assignments, which we do in this case. To break this common strategies involve using a prior that yields ordered parameters for the components. To induce order in $\\lambda$ we can, for example, sort it, or use a cumulative sum. In the implementation, I opt for the latter for its faster. Note this is not an approximation, it is simply changing the prior to one where in a draw of $T$ components, the $t$th component has rate higher than any of the components $k < t$. "
      ]
    },
    {
      "cell_type": "code",
      "metadata": {
        "colab": {
          "base_uri": "https://localhost:8080/"
        },
        "id": "azMvpCo6AKU2",
        "outputId": "998c7a4d-9ecc-4b57-c111-c148fb5cf68e"
      },
      "source": [
        "import matplotlib.pyplot as plt\n",
        "import seaborn as sns; sns.set()\n",
        "import arviz as az\n",
        "\n",
        "from tabulate import tabulate\n",
        "import numpy as np\n",
        "\n",
        "import numpyro\n",
        "from numpyro.infer import MCMC, NUTS, Predictive\n",
        "import numpyro.distributions as dist\n",
        "from jax import random\n",
        "import jax.numpy as jnp\n",
        "\n",
        "NUM_CHAINS = 4\n",
        "numpyro.set_host_device_count(NUM_CHAINS)\n",
        "\n",
        "print(f\"Running on NumPryo v{numpyro.__version__}\")"
      ],
      "execution_count": 12,
      "outputs": [
        {
          "output_type": "stream",
          "name": "stdout",
          "text": [
            "Running on NumPryo v0.8.0\n"
          ]
        }
      ]
    },
    {
      "cell_type": "code",
      "metadata": {
        "id": "wftqgDgmxOQr"
      },
      "source": [
        "class DPMixture:\n",
        "    def __init__(self, group_names: list, observations: list, \n",
        "                 gamma_shape=[1., 1.], DP_alpha=1., num_comps=5,\n",
        "                 num_samples=1000, num_chains=1, num_warmup=100):\n",
        "\n",
        "        self.gamma_shape = gamma_shape\n",
        "        self.DP_alpha = DP_alpha\n",
        "        self.T = num_comps\n",
        "\n",
        "        self.group_names = group_names\n",
        "        self.G = len(group_names)\n",
        "        \n",
        "        self.N = sum(len(y) for y in observations)\n",
        "        # [N]\n",
        "        self.x = np.concatenate([[g] * len(y) for g, y in enumerate(observations)])\n",
        "        self.y = np.concatenate(observations)\n",
        "\n",
        "        self.num_samples = num_samples\n",
        "        self.num_chains = num_chains\n",
        "        self.num_warmup = num_warmup\n",
        "\n",
        "        self.rng_key = random.PRNGKey(0)\n",
        "\n",
        "        nuts_kernel = NUTS(self.model)\n",
        "        self.mcmc = MCMC(nuts_kernel, num_samples=num_samples, num_warmup=num_warmup, num_chains=num_chains)\n",
        "\n",
        "        self.prior_predictive = None\n",
        "        self.posterior_predictive = None\n",
        "        self.posterior_samples = None\n",
        "\n",
        "    @classmethod\n",
        "    def mix_weights(cls, beta):\n",
        "        beta1m_cumprod = (1 - beta).cumprod(-1)\n",
        "        return jnp.pad(beta, ((0, 0), (0, 1)), constant_values=1) * jnp.pad(beta1m_cumprod, ((0, 0), (1, 0)), constant_values=1)\n",
        "\n",
        "    def model(self, y=None):\n",
        "        \"\"\"\n",
        "        Pyro joint distribution.\n",
        "        \n",
        "        Parameter:\n",
        "        \n",
        "        y: observations as returned by self.prepare or None. \n",
        "            If None, the 'obs' node of the graphical model will be resampled.\n",
        "        \"\"\"\n",
        "\n",
        "        N, G = self.N, self.G\n",
        "        T = self.T\n",
        "\n",
        "        with numpyro.plate(\"components\", T):  \n",
        "            # construct the components\n",
        "            # [T]\n",
        "            lamb = numpyro.sample(\"lambda\", dist.Gamma(self.gamma_shape[0], self.gamma_shape[1]))   \n",
        "            rate = numpyro.deterministic(\"rate\", jnp.cumsum(lamb))  # we could use jnp.sort, but cumsum is simpler \n",
        "\n",
        "        # Sample mixing weights    \n",
        "        with numpyro.plate(\"DPs\", G):\n",
        "            # [G, T-1]\n",
        "            beta = numpyro.sample(\n",
        "                \"beta\", \n",
        "                dist.Beta(\n",
        "                    np.ones(1), \n",
        "                    np.ones(1) * self.DP_alpha\n",
        "                ).expand((T-1,)).to_event(1)\n",
        "            )\n",
        "        # [G, T]\n",
        "        omega = numpyro.deterministic(\"omega\", self.mix_weights(beta))\n",
        "        \n",
        "        with numpyro.plate(\"observations\", N):\n",
        "            # [N]\n",
        "            z = numpyro.sample(\"z\", dist.Categorical(probs=omega[self.x])) \n",
        "\n",
        "            # [N]\n",
        "            rate_z = numpyro.deterministic(\"rate_z\", rate[z])\n",
        "            # [N]\n",
        "            # Construct the likelihood function            \n",
        "            return numpyro.sample(\"y\", dist.Poisson(rate_z), obs=y)\n",
        "\n",
        "    def run(self):\n",
        "        self.mcmc.run(self.rng_key, y=self.y)\n",
        "        self.mcmc.print_summary()\n",
        "        self.posterior_samples = self.mcmc.get_samples(group_by_chain=False)\n",
        "        print(\"posterior samples shapes:\")\n",
        "        for k, v in self.posterior_samples.items():\n",
        "            print(k, v.shape)\n",
        "\n",
        "    def make_prior_predictive(self, num_prior_samples=100):        \n",
        "        if self.prior_predictive is None:\n",
        "            self.prior_predictive = Predictive(self.model, num_samples=num_prior_samples)\n",
        "\n",
        "    def draw_prior_predictions(self):\n",
        "        if self.prior_predictive is None:\n",
        "            self.make_prior_predictive()\n",
        "        rng_key, rng_key_ = random.split(self.rng_key)        \n",
        "        return self.prior_predictive(rng_key_, y=None)[\"y\"]\n",
        "\n",
        "    def make_posterior_predictive(self):\n",
        "        if self.posterior_samples is None:\n",
        "            raise RuntimeError(\"You need to run the sampler first\")        \n",
        "        if self.posterior_predictive is None:\n",
        "            self.posterior_predictive = Predictive(self.model, self.posterior_samples)        \n",
        "\n",
        "    def draw_posterior_predictions(self, plot=False):\n",
        "        if self.posterior_predictive is None:\n",
        "            self.make_posterior_predictive()        \n",
        "        rng_key, rng_key_ = random.split(self.rng_key)\n",
        "        return self.posterior_predictive(rng_key_, y=None)[\"y\"]        "
      ],
      "execution_count": 9,
      "outputs": []
    },
    {
      "cell_type": "markdown",
      "metadata": {
        "id": "rec_sEGrD2E1"
      },
      "source": [
        "These helper functions will help us analyse our prior and posterior samples.\n",
        "\n",
        "The first one plots data samples side by side with model samples using approximate density plots.\n",
        "\n",
        "The second one plots the distribution of certain statistics of model samples against the observed value of that statistic (e.g., mean, std, median).  "
      ]
    },
    {
      "cell_type": "code",
      "metadata": {
        "id": "f9jCRNzLDz9d"
      },
      "source": [
        "def plot_predictions(model, samples, bins=[20, 100], density=[True, True], sharex=True, sharey=True):\n",
        "    fig, ax = plt.subplots(model.G, 2, sharex=sharex, sharey=sharey, figsize=(10, 5))\n",
        "    pal = cycle(sns.color_palette())\n",
        "    for k in range(model.G):\n",
        "        \n",
        "        yk = model.y[model.x==k]\n",
        "        yk_ = samples[:,model.x==k]\n",
        "        c = next(pal)\n",
        "        _ = ax[k, 0].hist(yk, bins=bins[0], color=c, density=density[0])\n",
        "        _ = ax[k, 0].set_xlabel(f'obs: {model.group_names[k]}')\n",
        "        _ = ax[k, 1].hist(yk_.flatten(), bins=bins[1], color=c, density=density[1])\n",
        "        _ = ax[k, 1].set_xlabel(f'predictive: {model.group_names[k]}')\n",
        "\n",
        "    fig.tight_layout(h_pad=2, w_pad=2)\n",
        "    fig.show()\n",
        "\n",
        "def plot_checks(model, samples, bins=30):\n",
        "    fig, ax = plt.subplots(model.G, 4, sharex=False, figsize=(15, 5))\n",
        "    pal = cycle(sns.color_palette())\n",
        "    for k in range(model.G):\n",
        "        c = next(pal)\n",
        "        yk = model.y[model.x==k]\n",
        "        yk_ = samples[:,model.x==k]\n",
        "        \n",
        "        _ = ax[k, 0].hist(np.mean(yk_, 1), bins=bins, color=c, label='pred' if k == 0 else None)\n",
        "        _ = ax[k, 0].axvline(np.mean(yk), color='black', linestyle='--', label='obs' if k == 0 else None)    \n",
        "        _ = ax[k, 0].set_xlabel(f'E[Y{k}]')\n",
        "        \n",
        "        _ = ax[k, 1].hist(np.std(yk_, 1), color=c, bins=bins)    \n",
        "        _ = ax[k, 1].axvline(np.std(yk), color='black', linestyle='--')\n",
        "        _ = ax[k, 1].set_xlabel(f'std[Y{k}]')\n",
        "\n",
        "        _ = ax[k, 2].hist(np.median(yk_, 1), color=c, bins=bins)    \n",
        "        _ = ax[k, 2].axvline(np.median(yk), color='black', linestyle='--')\n",
        "        _ = ax[k, 2].set_xlabel(f'median[Y{k}]')\n",
        "\n",
        "        pvalues = np.mean(yk_ > yk, 1)\n",
        "        _ = ax[k, 3].hist(pvalues, bins=bins)\n",
        "        _ = ax[k, 3].set_xlabel(f'Pr(Y{k} > obs{k})')\n",
        "        _ = ax[k, 3].axvline(np.median(pvalues), color='black', linestyle=':', label='median' if k==0 else None)\n",
        "\n",
        "    _ = fig.legend(loc='upper center', ncol=3)\n",
        "    fig.tight_layout(h_pad=2, w_pad=2)\n",
        "    fig.show()\n"
      ],
      "execution_count": 10,
      "outputs": []
    },
    {
      "cell_type": "markdown",
      "metadata": {
        "id": "1fa2GrmeJ38z"
      },
      "source": [
        "# MCMC \n",
        "\n",
        "I won't really implement MCMC, I'm going to count on Numpyro for that."
      ]
    },
    {
      "cell_type": "code",
      "metadata": {
        "id": "IvIDsJU1g_T_"
      },
      "source": [
        "model = DPMixture(\n",
        "    ['main', 'findings'], \n",
        "    [y_m, y_f], \n",
        "    gamma_shape=[1., 0.1], \n",
        "    DP_alpha=0.1, \n",
        "    num_chains=NUM_CHAINS, num_warmup=2000, num_samples=5000)"
      ],
      "execution_count": 13,
      "outputs": []
    },
    {
      "cell_type": "markdown",
      "metadata": {
        "id": "EglW0hpTKCBI"
      },
      "source": [
        "## Prior predictive\n",
        "\n",
        "Plotting samples from the prior predictive distribution (i.e., sampling from the generative story without conditioning on any observations) is a good way to check whether our prior is reasonable. \n",
        "\n",
        "We want to see a predictive curve that could easily include any of our groups."
      ]
    },
    {
      "cell_type": "code",
      "metadata": {
        "colab": {
          "base_uri": "https://localhost:8080/"
        },
        "id": "y4jn5OxTqcIW",
        "outputId": "8010a3c4-f49d-4fd8-dd7e-39f9d6b535a8"
      },
      "source": [
        "prior_samples = model.draw_prior_predictions()\n",
        "prior_samples.shape"
      ],
      "execution_count": 14,
      "outputs": [
        {
          "output_type": "execute_result",
          "data": {
            "text/plain": [
              "(100, 1198)"
            ]
          },
          "metadata": {},
          "execution_count": 14
        }
      ]
    },
    {
      "cell_type": "code",
      "metadata": {
        "colab": {
          "base_uri": "https://localhost:8080/",
          "height": 365
        },
        "id": "Ns3C9QHEtrXY",
        "outputId": "ce3c3c18-7e24-445b-c7c4-cdaa8d4a1494"
      },
      "source": [
        "_ = plot_predictions(model, prior_samples, bins=[30, 30])"
      ],
      "execution_count": 17,
      "outputs": [
        {
          "output_type": "display_data",
          "data": {
            "image/png": "[encoded data removed]",
            "text/plain": [
              "<Figure size 720x360 with 4 Axes>"
            ]
          },
          "metadata": {}
        }
      ]
    },
    {
      "cell_type": "markdown",
      "metadata": {
        "id": "C6MdnGXDKRov"
      },
      "source": [
        "We can also plot some statistics just to see whether indeed our prior is not excluding plausible observations."
      ]
    },
    {
      "cell_type": "code",
      "metadata": {
        "colab": {
          "base_uri": "https://localhost:8080/",
          "height": 341
        },
        "id": "Oh3nRh6rtf-f",
        "outputId": "7013dcf8-28f4-47f6-a30d-7b673ed7b177"
      },
      "source": [
        "_ = plot_checks(model, prior_samples)"
      ],
      "execution_count": 18,
      "outputs": [
        {
          "output_type": "display_data",
          "data": {
            "image/png": "[encoded data removed]",
            "text/plain": [
              "<Figure size 1080x360 with 8 Axes>"
            ]
          },
          "metadata": {}
        }
      ]
    },
    {
      "cell_type": "markdown",
      "metadata": {
        "id": "rBzvjW13KfN3"
      },
      "source": [
        "## Posterior\n",
        "\n",
        "Time to run our sampler. Numpyro is fast!"
      ]
    },
    {
      "cell_type": "code",
      "metadata": {
        "colab": {
          "base_uri": "https://localhost:8080/",
          "height": 536,
          "referenced_widgets": [
            "e8541cfeb38d44ba85e909a9af09c7f3",
            "ffcec5008d2c4ef29d5ec90c0055a3f5",
            "c2918508f40a45d89db88ca3e5b6e430",
            "909e6a420d7949ecb33277af7d0e1a30",
            "957c2c389e1b4a029cae1a297dab8f9b",
            "46df9922b83b44c7838389037311bb7c",
            "e8f6ef7ddbbb4f09b6388582431efa73",
            "9ab1c8a9894f4126b8fb817303409d1d",
            "84ae200cd8c14194aaa7b2c19d470967",
            "325f6e0ed1eb4dee94bc133bc1402d8f",
            "4773496fdda84f30888459bc44e60996",
            "ce113fc8f0774556bcc7b2a1c9ff70fd",
            "90f4a742c41f42e5a9a847ba569787d3",
            "85f443425b75498eac9620df958665f8",
            "3566684988e84c9095ec3d61b0fca21a",
            "693876b743b247418ce03af4ca15eb50",
            "cdd00320c1df4a8ab9beacbf7f7dc3b7",
            "52ceabdcea054ea194d65339752cee8b",
            "6db0cd5268f24ce38a97be08ded5e3ed",
            "6f9c03d1c47e47edba533a3de4088aa9",
            "7ba4d5a7e4fc4a6199eb0bba516ce788",
            "37572da60acd434aac5b01807f98b84f",
            "063aab43eaa14a62a47d3d4c2c8f8c7f",
            "edb8f8a56b334150be9c8414db8d35d8",
            "75bc4fcfbadb46a3a70ac98f55949f5b",
            "4e3122913a3446f983b74a341b1f898c",
            "c2b265aeda4b453090c494e17ec8035d",
            "78041eb78c01485191dee6e01512b6d2",
            "38e8cea7771e4cdd9d1cf9b6b68527c0",
            "b2d55a03cc2a4add8bb17288de9b1abd",
            "17311d1a873247fb84efbfcb706632f9",
            "39b25a4b21ee4c3685bb4fdfa22307e5",
            "d973d1cf93774a18a770c41e28c6b1b5",
            "d1051c18f27d488d9d70088fe392840d",
            "32b3d7fe83f34a36aa028a9fe2bfab7c",
            "85004c6674764b31aebc214c2fbe2008",
            "adba0766bbab4a1fa246566c633f1a71",
            "10dc75fae00341bdb8fbabba425317d3",
            "0c4bb395af96477ca84a3cad1248eec3",
            "e996fd4d385446a5b67b4b9c6f9f0568",
            "8e800a969301482aa6b70be393ad7241",
            "941849ca49f8403684167cd6e71923c8",
            "7cfaa621e79f4047b2dc687e3bf713a6",
            "7ed954044cf440c9bdadeefab108b64f"
          ]
        },
        "id": "IAaiI7QAhMxd",
        "outputId": "ea23e999-4e7f-4de8-848b-1305d85b1f3e"
      },
      "source": [
        "model.run()"
      ],
      "execution_count": 19,
      "outputs": [
        {
          "output_type": "display_data",
          "data": {
            "application/vnd.jupyter.widget-view+json": {
              "model_id": "e8541cfeb38d44ba85e909a9af09c7f3",
              "version_minor": 0,
              "version_major": 2
            },
            "text/plain": [
              "  0%|          | 0/7000 [00:00<?, ?it/s]"
            ]
          },
          "metadata": {}
        },
        {
          "output_type": "display_data",
          "data": {
            "application/vnd.jupyter.widget-view+json": {
              "model_id": "ce113fc8f0774556bcc7b2a1c9ff70fd",
              "version_minor": 0,
              "version_major": 2
            },
            "text/plain": [
              "  0%|          | 0/7000 [00:00<?, ?it/s]"
            ]
          },
          "metadata": {}
        },
        {
          "output_type": "display_data",
          "data": {
            "application/vnd.jupyter.widget-view+json": {
              "model_id": "063aab43eaa14a62a47d3d4c2c8f8c7f",
              "version_minor": 0,
              "version_major": 2
            },
            "text/plain": [
              "  0%|          | 0/7000 [00:00<?, ?it/s]"
            ]
          },
          "metadata": {}
        },
        {
          "output_type": "display_data",
          "data": {
            "application/vnd.jupyter.widget-view+json": {
              "model_id": "d1051c18f27d488d9d70088fe392840d",
              "version_minor": 0,
              "version_major": 2
            },
            "text/plain": [
              "  0%|          | 0/7000 [00:00<?, ?it/s]"
            ]
          },
          "metadata": {}
        },
        {
          "output_type": "stream",
          "name": "stdout",
          "text": [
            "\n",
            "                mean       std    median      5.0%     95.0%     n_eff     r_hat\n",
            " beta[0,0]      0.45      0.02      0.45      0.42      0.49  26597.10      1.00\n",
            " beta[0,1]      0.77      0.02      0.77      0.74      0.81  32967.16      1.00\n",
            " beta[0,2]      0.77      0.04      0.77      0.70      0.85  36346.02      1.00\n",
            " beta[0,3]      0.95      0.05      0.96      0.89      1.00  32054.34      1.00\n",
            " beta[1,0]      0.66      0.03      0.66      0.62      0.70  29142.67      1.00\n",
            " beta[1,1]      0.75      0.04      0.75      0.69      0.81  38824.59      1.00\n",
            " beta[1,2]      0.69      0.08      0.69      0.56      0.81  40248.37      1.00\n",
            " beta[1,3]      0.92      0.07      0.94      0.81      1.00  33515.55      1.00\n",
            " lambda[0]      2.43      0.09      2.43      2.28      2.58  26190.07      1.00\n",
            " lambda[1]      8.49      0.25      8.49      8.07      8.90  25170.30      1.00\n",
            " lambda[2]     21.38      0.93     21.36     19.85     22.87  26973.67      1.00\n",
            " lambda[3]     52.28      2.02     52.27     48.98     55.57  21205.00      1.00\n",
            " lambda[4]    269.43     13.69    269.42    246.88    291.38  12410.85      1.00\n",
            "\n",
            "Number of divergences: 0\n",
            "posterior samples shapes:\n",
            "beta (20000, 2, 4)\n",
            "lambda (20000, 5)\n",
            "omega (20000, 2, 5)\n",
            "rate (20000, 5)\n",
            "rate_z (20000, 1198)\n"
          ]
        }
      ]
    },
    {
      "cell_type": "markdown",
      "metadata": {
        "id": "3zKFmgE2KjgC"
      },
      "source": [
        "## Posterior predictive\n",
        "\n",
        "Before any analysis, let's see whether we can trust this model. It's good to plot samples from the posterior predictive distribution (i.e., sample from the generative story *after* conditioning on observations). These can be thought of as replications."
      ]
    },
    {
      "cell_type": "code",
      "metadata": {
        "colab": {
          "base_uri": "https://localhost:8080/"
        },
        "id": "S2S6owDVqOyh",
        "outputId": "17f92d2a-0aec-4822-edc0-00d4666b6984"
      },
      "source": [
        "posterior_samples = model.draw_posterior_predictions()\n",
        "posterior_samples.shape"
      ],
      "execution_count": 20,
      "outputs": [
        {
          "output_type": "execute_result",
          "data": {
            "text/plain": [
              "(20000, 1198)"
            ]
          },
          "metadata": {},
          "execution_count": 20
        }
      ]
    },
    {
      "cell_type": "code",
      "metadata": {
        "colab": {
          "base_uri": "https://localhost:8080/",
          "height": 365
        },
        "id": "8eUOHGsAw3dt",
        "outputId": "5bee8e5a-f67e-4195-9b2a-ad3c64010d5b"
      },
      "source": [
        "_ = plot_predictions(model, posterior_samples, bins=[50, 50], sharex='col', sharey='col')"
      ],
      "execution_count": 23,
      "outputs": [
        {
          "output_type": "display_data",
          "data": {
            "image/png": "[encoded data removed]",
            "text/plain": [
              "<Figure size 720x360 with 4 Axes>"
            ]
          },
          "metadata": {}
        }
      ]
    },
    {
      "cell_type": "markdown",
      "metadata": {
        "id": "V9Uf6RRsK3c4"
      },
      "source": [
        "And again, we can check whether our posterior predictive generates datasets with statistics that give support to our observed data."
      ]
    },
    {
      "cell_type": "code",
      "metadata": {
        "colab": {
          "base_uri": "https://localhost:8080/",
          "height": 340
        },
        "id": "gXkRxe0Vw6nJ",
        "outputId": "86e8b82e-041d-4825-ce53-2c818272c917"
      },
      "source": [
        "_ = plot_checks(model, posterior_samples)"
      ],
      "execution_count": 24,
      "outputs": [
        {
          "output_type": "display_data",
          "data": {
            "image/png": "[encoded data removed]",
            "text/plain": [
              "<Figure size 1080x360 with 8 Axes>"
            ]
          },
          "metadata": {}
        }
      ]
    },
    {
      "cell_type": "code",
      "metadata": {
        "colab": {
          "base_uri": "https://localhost:8080/"
        },
        "id": "uF7Krt6MyRut",
        "outputId": "340d6a77-f1a6-483d-8a89-8853b73343c3"
      },
      "source": [
        "print(tabulate([(k, v.shape) for k, v in model.posterior_samples.items()], headers=['rv', 'shape']))"
      ],
      "execution_count": 25,
      "outputs": [
        {
          "output_type": "stream",
          "name": "stdout",
          "text": [
            "rv      shape\n",
            "------  -------------\n",
            "beta    (20000, 2, 4)\n",
            "lambda  (20000, 5)\n",
            "omega   (20000, 2, 5)\n",
            "rate    (20000, 5)\n",
            "rate_z  (20000, 1198)\n"
          ]
        }
      ]
    },
    {
      "cell_type": "markdown",
      "metadata": {
        "id": "49ydDKDxLAS-"
      },
      "source": [
        "## Analysis of results\n",
        "\n",
        "\n",
        "Now we get to interpret the latent parameters of the model, that is, we get to inspect what *patterns* (i.e., what Poisson components) are probable given the data and our assumptions and how the different groups can be explained using these patterns (i.e., mixing coefficients)."
      ]
    },
    {
      "cell_type": "markdown",
      "metadata": {
        "id": "t8NbkDt0LcHF"
      },
      "source": [
        "Let's start with an overview of the mixing coefficients.\n",
        "\n",
        "See that some components are barely relevant. Mostly we only need the first 2, perhaps the first 3."
      ]
    },
    {
      "cell_type": "code",
      "metadata": {
        "colab": {
          "base_uri": "https://localhost:8080/",
          "height": 365
        },
        "id": "N5kaVqMs5EEB",
        "outputId": "9fe90d15-f897-4984-ffbf-e0e7ca346c15"
      },
      "source": [
        "fig, ax = plt.subplots(1, model.G, sharex=True, sharey=True, figsize=(10, 5))\n",
        "for g in range(model.G):\n",
        "    _ = ax[g].boxplot(model.posterior_samples['omega'][:,g,:].transpose())\n",
        "    _ = ax[g].set_xticklabels(np.arange(model.T))\n",
        "    _ = ax[g].set_title(model.group_names[g])\n",
        "    _ = ax[g].set_xlabel('k')\n",
        "    _ = ax[g].set_ylabel(r'$\\omega_{g,k}$')\n",
        "fig.tight_layout(h_pad=2, w_pad=2)"
      ],
      "execution_count": 26,
      "outputs": [
        {
          "output_type": "display_data",
          "data": {
            "image/png": "[encoded data removed]",
            "text/plain": [
              "<Figure size 720x360 with 2 Axes>"
            ]
          },
          "metadata": {}
        }
      ]
    },
    {
      "cell_type": "markdown",
      "metadata": {
        "id": "fai6laXPLl7O"
      },
      "source": [
        "Now, here's the best part.\n",
        "\n",
        "I'm going to plot $T$ rows, each row concerns a component and will contain\n",
        "* a histogram of the probable rates for that component, think of it as how many citations papers explained by that component get on average;\n",
        "* boxplots showing the distribution of that component's weight for the different groups\n",
        "* and because boxplots can be misleading when distributions are not unimodal and symmetric, I also plot histograms for the coefficients."
      ]
    },
    {
      "cell_type": "code",
      "metadata": {
        "colab": {
          "base_uri": "https://localhost:8080/",
          "height": 1000
        },
        "id": "BxHpChKe01hh",
        "outputId": "3983c9b8-f63b-432d-f012-d9c9038ad4fd"
      },
      "source": [
        "hatches = ['o', '/']\n",
        "fig, ax = plt.subplots(model.T, 3, figsize=(12, 15))\n",
        "for t in range(model.T):\n",
        "    _ = ax[t, 0].hist(model.posterior_samples['rate'][:, t], color='gray', bins='auto')\n",
        "    _ = ax[t, 0].set_xlabel(r'$\\lambda_{%d}$' % t)\n",
        "    _ = ax[t, 1].boxplot([model.posterior_samples['omega'][:,g,t].transpose() for g in range(model.G)])\n",
        "    _ = ax[t, 1].set_xticklabels(model.group_names)\n",
        "    _ = ax[t, 1].set_ylabel(r'$\\omega_{g,%d}$' % t)    \n",
        "    pal = cycle(sns.color_palette())\n",
        "    for g in range(model.G):\n",
        "       _ = ax[t, 2].hist(model.posterior_samples['omega'][:,g,t], alpha=0.5, color=next(pal), hatch=hatches[g], bins=50, label=model.group_names[g] if t==0 else None)\n",
        "       _ = ax[t, 2].set_xlabel(r'$\\omega_{g,%d}$' % t)\n",
        "fig.legend()\n",
        "fig.tight_layout(h_pad=2, w_pad=2)"
      ],
      "execution_count": 29,
      "outputs": [
        {
          "output_type": "display_data",
          "data": {
            "image/png": "[encoded data removed]",
            "text/plain": [
              "<Figure size 864x1080 with 15 Axes>"
            ]
          },
          "metadata": {}
        }
      ]
    },
    {
      "cell_type": "markdown",
      "metadata": {
        "id": "zRovWZUyFixE"
      },
      "source": [
        "The two groups differ more with regards to papers expected to be cited 30-something times or less (first 3 rows), these are also the clusters that account for most of the posterior mass (largest mixing coefficients).\n",
        "\n",
        "The last cluster does not account for a lot of papers, that's less than 1\\%, the two distributions overlap a lot there, but there's a bit of a higher spread for Findings."
      ]
    },
    {
      "cell_type": "code",
      "metadata": {
        "id": "vfv-dz4_1hBn"
      },
      "source": [
        ""
      ],
      "execution_count": null,
      "outputs": []
    }
  ]
}