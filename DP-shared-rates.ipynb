{
  "nbformat": 4,
  "nbformat_minor": 0,
  "metadata": {
    "colab": {
      "name": "EMNLP-Findings",
      "provenance": [],
      "collapsed_sections": [],
      "toc_visible": true,
      "authorship_tag": "ABX9TyM7dKyCcV6j6ZNZgxVyBb7H",
      "include_colab_link": true
    },
    "kernelspec": {
      "name": "python3",
      "display_name": "Python 3"
    },
    "language_info": {
      "name": "python"
    },
    "widgets": {
      "application/vnd.jupyter.widget-state+json": {
        "b4e85f7c8b88426a90a250dddd3024e2": {
          "model_module": "@jupyter-widgets/controls",
          "model_name": "HBoxModel",
          "model_module_version": "1.5.0",
          "state": {
            "_view_name": "HBoxView",
            "_dom_classes": [],
            "_model_name": "HBoxModel",
            "_view_module": "@jupyter-widgets/controls",
            "_model_module_version": "1.5.0",
            "_view_count": null,
            "_view_module_version": "1.5.0",
            "box_style": "",
            "layout": "IPY_MODEL_396175a5d3b84220b7596134c3347036",
            "_model_module": "@jupyter-widgets/controls",
            "children": [
              "IPY_MODEL_f9c0cb72ba004ad2add65c433f91a084",
              "IPY_MODEL_cdfecef926144b68a84673a441aab954",
              "IPY_MODEL_bc0a54747249463095b920ccf0b1bffd"
            ]
          }
        },
        "396175a5d3b84220b7596134c3347036": {
          "model_module": "@jupyter-widgets/base",
          "model_name": "LayoutModel",
          "model_module_version": "1.2.0",
          "state": {
            "_view_name": "LayoutView",
            "grid_template_rows": null,
            "right": null,
            "justify_content": null,
            "_view_module": "@jupyter-widgets/base",
            "overflow": null,
            "_model_module_version": "1.2.0",
            "_view_count": null,
            "flex_flow": null,
            "width": null,
            "min_width": null,
            "border": null,
            "align_items": null,
            "bottom": null,
            "_model_module": "@jupyter-widgets/base",
            "top": null,
            "grid_column": null,
            "overflow_y": null,
            "overflow_x": null,
            "grid_auto_flow": null,
            "grid_area": null,
            "grid_template_columns": null,
            "flex": null,
            "_model_name": "LayoutModel",
            "justify_items": null,
            "grid_row": null,
            "max_height": null,
            "align_content": null,
            "visibility": null,
            "align_self": null,
            "height": null,
            "min_height": null,
            "padding": null,
            "grid_auto_rows": null,
            "grid_gap": null,
            "max_width": null,
            "order": null,
            "_view_module_version": "1.2.0",
            "grid_template_areas": null,
            "object_position": null,
            "object_fit": null,
            "grid_auto_columns": null,
            "margin": null,
            "display": null,
            "left": null
          }
        },
        "f9c0cb72ba004ad2add65c433f91a084": {
          "model_module": "@jupyter-widgets/controls",
          "model_name": "HTMLModel",
          "model_module_version": "1.5.0",
          "state": {
            "_view_name": "HTMLView",
            "style": "IPY_MODEL_1c6480bac1d7418581036eacaae56ea6",
            "_dom_classes": [],
            "description": "",
            "_model_name": "HTMLModel",
            "placeholder": "​",
            "_view_module": "@jupyter-widgets/controls",
            "_model_module_version": "1.5.0",
            "value": "Running chain 0: 100%",
            "_view_count": null,
            "_view_module_version": "1.5.0",
            "description_tooltip": null,
            "_model_module": "@jupyter-widgets/controls",
            "layout": "IPY_MODEL_90078915f3964a3abf0b7349bd1f8d78"
          }
        },
        "cdfecef926144b68a84673a441aab954": {
          "model_module": "@jupyter-widgets/controls",
          "model_name": "FloatProgressModel",
          "model_module_version": "1.5.0",
          "state": {
            "_view_name": "ProgressView",
            "style": "IPY_MODEL_4a41af3d5d814b379e83717d07798c33",
            "_dom_classes": [],
            "description": "",
            "_model_name": "FloatProgressModel",
            "bar_style": "success",
            "max": 7000,
            "_view_module": "@jupyter-widgets/controls",
            "_model_module_version": "1.5.0",
            "value": 7000,
            "_view_count": null,
            "_view_module_version": "1.5.0",
            "orientation": "horizontal",
            "min": 0,
            "description_tooltip": null,
            "_model_module": "@jupyter-widgets/controls",
            "layout": "IPY_MODEL_cd0a803953334d79988124f3ed9c94b0"
          }
        },
        "bc0a54747249463095b920ccf0b1bffd": {
          "model_module": "@jupyter-widgets/controls",
          "model_name": "HTMLModel",
          "model_module_version": "1.5.0",
          "state": {
            "_view_name": "HTMLView",
            "style": "IPY_MODEL_872760caba5846a3b00d420b2c292313",
            "_dom_classes": [],
            "description": "",
            "_model_name": "HTMLModel",
            "placeholder": "​",
            "_view_module": "@jupyter-widgets/controls",
            "_model_module_version": "1.5.0",
            "value": " 7000/7000 [00:45&lt;00:00, 265.30it/s]",
            "_view_count": null,
            "_view_module_version": "1.5.0",
            "description_tooltip": null,
            "_model_module": "@jupyter-widgets/controls",
            "layout": "IPY_MODEL_9a19cd2ccb734f1d81e0f42df8e5ab97"
          }
        },
        "1c6480bac1d7418581036eacaae56ea6": {
          "model_module": "@jupyter-widgets/controls",
          "model_name": "DescriptionStyleModel",
          "model_module_version": "1.5.0",
          "state": {
            "_view_name": "StyleView",
            "_model_name": "DescriptionStyleModel",
            "description_width": "",
            "_view_module": "@jupyter-widgets/base",
            "_model_module_version": "1.5.0",
            "_view_count": null,
            "_view_module_version": "1.2.0",
            "_model_module": "@jupyter-widgets/controls"
          }
        },
        "90078915f3964a3abf0b7349bd1f8d78": {
          "model_module": "@jupyter-widgets/base",
          "model_name": "LayoutModel",
          "model_module_version": "1.2.0",
          "state": {
            "_view_name": "LayoutView",
            "grid_template_rows": null,
            "right": null,
            "justify_content": null,
            "_view_module": "@jupyter-widgets/base",
            "overflow": null,
            "_model_module_version": "1.2.0",
            "_view_count": null,
            "flex_flow": null,
            "width": null,
            "min_width": null,
            "border": null,
            "align_items": null,
            "bottom": null,
            "_model_module": "@jupyter-widgets/base",
            "top": null,
            "grid_column": null,
            "overflow_y": null,
            "overflow_x": null,
            "grid_auto_flow": null,
            "grid_area": null,
            "grid_template_columns": null,
            "flex": null,
            "_model_name": "LayoutModel",
            "justify_items": null,
            "grid_row": null,
            "max_height": null,
            "align_content": null,
            "visibility": null,
            "align_self": null,
            "height": null,
            "min_height": null,
            "padding": null,
            "grid_auto_rows": null,
            "grid_gap": null,
            "max_width": null,
            "order": null,
            "_view_module_version": "1.2.0",
            "grid_template_areas": null,
            "object_position": null,
            "object_fit": null,
            "grid_auto_columns": null,
            "margin": null,
            "display": null,
            "left": null
          }
        },
        "4a41af3d5d814b379e83717d07798c33": {
          "model_module": "@jupyter-widgets/controls",
          "model_name": "ProgressStyleModel",
          "model_module_version": "1.5.0",
          "state": {
            "_view_name": "StyleView",
            "_model_name": "ProgressStyleModel",
            "description_width": "",
            "_view_module": "@jupyter-widgets/base",
            "_model_module_version": "1.5.0",
            "_view_count": null,
            "_view_module_version": "1.2.0",
            "bar_color": null,
            "_model_module": "@jupyter-widgets/controls"
          }
        },
        "cd0a803953334d79988124f3ed9c94b0": {
          "model_module": "@jupyter-widgets/base",
          "model_name": "LayoutModel",
          "model_module_version": "1.2.0",
          "state": {
            "_view_name": "LayoutView",
            "grid_template_rows": null,
            "right": null,
            "justify_content": null,
            "_view_module": "@jupyter-widgets/base",
            "overflow": null,
            "_model_module_version": "1.2.0",
            "_view_count": null,
            "flex_flow": null,
            "width": null,
            "min_width": null,
            "border": null,
            "align_items": null,
            "bottom": null,
            "_model_module": "@jupyter-widgets/base",
            "top": null,
            "grid_column": null,
            "overflow_y": null,
            "overflow_x": null,
            "grid_auto_flow": null,
            "grid_area": null,
            "grid_template_columns": null,
            "flex": null,
            "_model_name": "LayoutModel",
            "justify_items": null,
            "grid_row": null,
            "max_height": null,
            "align_content": null,
            "visibility": null,
            "align_self": null,
            "height": null,
            "min_height": null,
            "padding": null,
            "grid_auto_rows": null,
            "grid_gap": null,
            "max_width": null,
            "order": null,
            "_view_module_version": "1.2.0",
            "grid_template_areas": null,
            "object_position": null,
            "object_fit": null,
            "grid_auto_columns": null,
            "margin": null,
            "display": null,
            "left": null
          }
        },
        "872760caba5846a3b00d420b2c292313": {
          "model_module": "@jupyter-widgets/controls",
          "model_name": "DescriptionStyleModel",
          "model_module_version": "1.5.0",
          "state": {
            "_view_name": "StyleView",
            "_model_name": "DescriptionStyleModel",
            "description_width": "",
            "_view_module": "@jupyter-widgets/base",
            "_model_module_version": "1.5.0",
            "_view_count": null,
            "_view_module_version": "1.2.0",
            "_model_module": "@jupyter-widgets/controls"
          }
        },
        "9a19cd2ccb734f1d81e0f42df8e5ab97": {
          "model_module": "@jupyter-widgets/base",
          "model_name": "LayoutModel",
          "model_module_version": "1.2.0",
          "state": {
            "_view_name": "LayoutView",
            "grid_template_rows": null,
            "right": null,
            "justify_content": null,
            "_view_module": "@jupyter-widgets/base",
            "overflow": null,
            "_model_module_version": "1.2.0",
            "_view_count": null,
            "flex_flow": null,
            "width": null,
            "min_width": null,
            "border": null,
            "align_items": null,
            "bottom": null,
            "_model_module": "@jupyter-widgets/base",
            "top": null,
            "grid_column": null,
            "overflow_y": null,
            "overflow_x": null,
            "grid_auto_flow": null,
            "grid_area": null,
            "grid_template_columns": null,
            "flex": null,
            "_model_name": "LayoutModel",
            "justify_items": null,
            "grid_row": null,
            "max_height": null,
            "align_content": null,
            "visibility": null,
            "align_self": null,
            "height": null,
            "min_height": null,
            "padding": null,
            "grid_auto_rows": null,
            "grid_gap": null,
            "max_width": null,
            "order": null,
            "_view_module_version": "1.2.0",
            "grid_template_areas": null,
            "object_position": null,
            "object_fit": null,
            "grid_auto_columns": null,
            "margin": null,
            "display": null,
            "left": null
          }
        },
        "0ed06e07ce334ed6bb77172c6748f9f0": {
          "model_module": "@jupyter-widgets/controls",
          "model_name": "HBoxModel",
          "model_module_version": "1.5.0",
          "state": {
            "_view_name": "HBoxView",
            "_dom_classes": [],
            "_model_name": "HBoxModel",
            "_view_module": "@jupyter-widgets/controls",
            "_model_module_version": "1.5.0",
            "_view_count": null,
            "_view_module_version": "1.5.0",
            "box_style": "",
            "layout": "IPY_MODEL_8198d5f402a0425786e848062367f61f",
            "_model_module": "@jupyter-widgets/controls",
            "children": [
              "IPY_MODEL_af2e0f32688a47328abf3be9c0ded519",
              "IPY_MODEL_0ff477b5e2c34687b8a90de005ca6d53",
              "IPY_MODEL_01ee0f2838124356876f089b9538a7a6"
            ]
          }
        },
        "8198d5f402a0425786e848062367f61f": {
          "model_module": "@jupyter-widgets/base",
          "model_name": "LayoutModel",
          "model_module_version": "1.2.0",
          "state": {
            "_view_name": "LayoutView",
            "grid_template_rows": null,
            "right": null,
            "justify_content": null,
            "_view_module": "@jupyter-widgets/base",
            "overflow": null,
            "_model_module_version": "1.2.0",
            "_view_count": null,
            "flex_flow": null,
            "width": null,
            "min_width": null,
            "border": null,
            "align_items": null,
            "bottom": null,
            "_model_module": "@jupyter-widgets/base",
            "top": null,
            "grid_column": null,
            "overflow_y": null,
            "overflow_x": null,
            "grid_auto_flow": null,
            "grid_area": null,
            "grid_template_columns": null,
            "flex": null,
            "_model_name": "LayoutModel",
            "justify_items": null,
            "grid_row": null,
            "max_height": null,
            "align_content": null,
            "visibility": null,
            "align_self": null,
            "height": null,
            "min_height": null,
            "padding": null,
            "grid_auto_rows": null,
            "grid_gap": null,
            "max_width": null,
            "order": null,
            "_view_module_version": "1.2.0",
            "grid_template_areas": null,
            "object_position": null,
            "object_fit": null,
            "grid_auto_columns": null,
            "margin": null,
            "display": null,
            "left": null
          }
        },
        "af2e0f32688a47328abf3be9c0ded519": {
          "model_module": "@jupyter-widgets/controls",
          "model_name": "HTMLModel",
          "model_module_version": "1.5.0",
          "state": {
            "_view_name": "HTMLView",
            "style": "IPY_MODEL_e5670ad0c01a421a914e78584a06d37d",
            "_dom_classes": [],
            "description": "",
            "_model_name": "HTMLModel",
            "placeholder": "​",
            "_view_module": "@jupyter-widgets/controls",
            "_model_module_version": "1.5.0",
            "value": "Running chain 1: 100%",
            "_view_count": null,
            "_view_module_version": "1.5.0",
            "description_tooltip": null,
            "_model_module": "@jupyter-widgets/controls",
            "layout": "IPY_MODEL_efa1ca34e7b94554a131f62683abf389"
          }
        },
        "0ff477b5e2c34687b8a90de005ca6d53": {
          "model_module": "@jupyter-widgets/controls",
          "model_name": "FloatProgressModel",
          "model_module_version": "1.5.0",
          "state": {
            "_view_name": "ProgressView",
            "style": "IPY_MODEL_dcafe14a77124cb383394fe5633bb08d",
            "_dom_classes": [],
            "description": "",
            "_model_name": "FloatProgressModel",
            "bar_style": "success",
            "max": 7000,
            "_view_module": "@jupyter-widgets/controls",
            "_model_module_version": "1.5.0",
            "value": 7000,
            "_view_count": null,
            "_view_module_version": "1.5.0",
            "orientation": "horizontal",
            "min": 0,
            "description_tooltip": null,
            "_model_module": "@jupyter-widgets/controls",
            "layout": "IPY_MODEL_657375da13fe4d4092d3bfcd3cb6b0b0"
          }
        },
        "01ee0f2838124356876f089b9538a7a6": {
          "model_module": "@jupyter-widgets/controls",
          "model_name": "HTMLModel",
          "model_module_version": "1.5.0",
          "state": {
            "_view_name": "HTMLView",
            "style": "IPY_MODEL_312ae8ed646d4b92b04b70097e2ebb31",
            "_dom_classes": [],
            "description": "",
            "_model_name": "HTMLModel",
            "placeholder": "​",
            "_view_module": "@jupyter-widgets/controls",
            "_model_module_version": "1.5.0",
            "value": " 7000/7000 [00:45&lt;00:00, 234.10it/s]",
            "_view_count": null,
            "_view_module_version": "1.5.0",
            "description_tooltip": null,
            "_model_module": "@jupyter-widgets/controls",
            "layout": "IPY_MODEL_8bc011facd2f440081b231636e9734a3"
          }
        },
        "e5670ad0c01a421a914e78584a06d37d": {
          "model_module": "@jupyter-widgets/controls",
          "model_name": "DescriptionStyleModel",
          "model_module_version": "1.5.0",
          "state": {
            "_view_name": "StyleView",
            "_model_name": "DescriptionStyleModel",
            "description_width": "",
            "_view_module": "@jupyter-widgets/base",
            "_model_module_version": "1.5.0",
            "_view_count": null,
            "_view_module_version": "1.2.0",
            "_model_module": "@jupyter-widgets/controls"
          }
        },
        "efa1ca34e7b94554a131f62683abf389": {
          "model_module": "@jupyter-widgets/base",
          "model_name": "LayoutModel",
          "model_module_version": "1.2.0",
          "state": {
            "_view_name": "LayoutView",
            "grid_template_rows": null,
            "right": null,
            "justify_content": null,
            "_view_module": "@jupyter-widgets/base",
            "overflow": null,
            "_model_module_version": "1.2.0",
            "_view_count": null,
            "flex_flow": null,
            "width": null,
            "min_width": null,
            "border": null,
            "align_items": null,
            "bottom": null,
            "_model_module": "@jupyter-widgets/base",
            "top": null,
            "grid_column": null,
            "overflow_y": null,
            "overflow_x": null,
            "grid_auto_flow": null,
            "grid_area": null,
            "grid_template_columns": null,
            "flex": null,
            "_model_name": "LayoutModel",
            "justify_items": null,
            "grid_row": null,
            "max_height": null,
            "align_content": null,
            "visibility": null,
            "align_self": null,
            "height": null,
            "min_height": null,
            "padding": null,
            "grid_auto_rows": null,
            "grid_gap": null,
            "max_width": null,
            "order": null,
            "_view_module_version": "1.2.0",
            "grid_template_areas": null,
            "object_position": null,
            "object_fit": null,
            "grid_auto_columns": null,
            "margin": null,
            "display": null,
            "left": null
          }
        },
        "dcafe14a77124cb383394fe5633bb08d": {
          "model_module": "@jupyter-widgets/controls",
          "model_name": "ProgressStyleModel",
          "model_module_version": "1.5.0",
          "state": {
            "_view_name": "StyleView",
            "_model_name": "ProgressStyleModel",
            "description_width": "",
            "_view_module": "@jupyter-widgets/base",
            "_model_module_version": "1.5.0",
            "_view_count": null,
            "_view_module_version": "1.2.0",
            "bar_color": null,
            "_model_module": "@jupyter-widgets/controls"
          }
        },
        "657375da13fe4d4092d3bfcd3cb6b0b0": {
          "model_module": "@jupyter-widgets/base",
          "model_name": "LayoutModel",
          "model_module_version": "1.2.0",
          "state": {
            "_view_name": "LayoutView",
            "grid_template_rows": null,
            "right": null,
            "justify_content": null,
            "_view_module": "@jupyter-widgets/base",
            "overflow": null,
            "_model_module_version": "1.2.0",
            "_view_count": null,
            "flex_flow": null,
            "width": null,
            "min_width": null,
            "border": null,
            "align_items": null,
            "bottom": null,
            "_model_module": "@jupyter-widgets/base",
            "top": null,
            "grid_column": null,
            "overflow_y": null,
            "overflow_x": null,
            "grid_auto_flow": null,
            "grid_area": null,
            "grid_template_columns": null,
            "flex": null,
            "_model_name": "LayoutModel",
            "justify_items": null,
            "grid_row": null,
            "max_height": null,
            "align_content": null,
            "visibility": null,
            "align_self": null,
            "height": null,
            "min_height": null,
            "padding": null,
            "grid_auto_rows": null,
            "grid_gap": null,
            "max_width": null,
            "order": null,
            "_view_module_version": "1.2.0",
            "grid_template_areas": null,
            "object_position": null,
            "object_fit": null,
            "grid_auto_columns": null,
            "margin": null,
            "display": null,
            "left": null
          }
        },
        "312ae8ed646d4b92b04b70097e2ebb31": {
          "model_module": "@jupyter-widgets/controls",
          "model_name": "DescriptionStyleModel",
          "model_module_version": "1.5.0",
          "state": {
            "_view_name": "StyleView",
            "_model_name": "DescriptionStyleModel",
            "description_width": "",
            "_view_module": "@jupyter-widgets/base",
            "_model_module_version": "1.5.0",
            "_view_count": null,
            "_view_module_version": "1.2.0",
            "_model_module": "@jupyter-widgets/controls"
          }
        },
        "8bc011facd2f440081b231636e9734a3": {
          "model_module": "@jupyter-widgets/base",
          "model_name": "LayoutModel",
          "model_module_version": "1.2.0",
          "state": {
            "_view_name": "LayoutView",
            "grid_template_rows": null,
            "right": null,
            "justify_content": null,
            "_view_module": "@jupyter-widgets/base",
            "overflow": null,
            "_model_module_version": "1.2.0",
            "_view_count": null,
            "flex_flow": null,
            "width": null,
            "min_width": null,
            "border": null,
            "align_items": null,
            "bottom": null,
            "_model_module": "@jupyter-widgets/base",
            "top": null,
            "grid_column": null,
            "overflow_y": null,
            "overflow_x": null,
            "grid_auto_flow": null,
            "grid_area": null,
            "grid_template_columns": null,
            "flex": null,
            "_model_name": "LayoutModel",
            "justify_items": null,
            "grid_row": null,
            "max_height": null,
            "align_content": null,
            "visibility": null,
            "align_self": null,
            "height": null,
            "min_height": null,
            "padding": null,
            "grid_auto_rows": null,
            "grid_gap": null,
            "max_width": null,
            "order": null,
            "_view_module_version": "1.2.0",
            "grid_template_areas": null,
            "object_position": null,
            "object_fit": null,
            "grid_auto_columns": null,
            "margin": null,
            "display": null,
            "left": null
          }
        },
        "0070d5aa447843c4b7a61050fc70f1fa": {
          "model_module": "@jupyter-widgets/controls",
          "model_name": "HBoxModel",
          "model_module_version": "1.5.0",
          "state": {
            "_view_name": "HBoxView",
            "_dom_classes": [],
            "_model_name": "HBoxModel",
            "_view_module": "@jupyter-widgets/controls",
            "_model_module_version": "1.5.0",
            "_view_count": null,
            "_view_module_version": "1.5.0",
            "box_style": "",
            "layout": "IPY_MODEL_a790b97bb9f648a8bb0a5e20b8d945dc",
            "_model_module": "@jupyter-widgets/controls",
            "children": [
              "IPY_MODEL_6300da8397fe4a388e85cf3eb9f448ac",
              "IPY_MODEL_6e74f20663f1492bbd0fa1ef12da6466",
              "IPY_MODEL_67987a972e7c47f6ab5378e7056e19aa"
            ]
          }
        },
        "a790b97bb9f648a8bb0a5e20b8d945dc": {
          "model_module": "@jupyter-widgets/base",
          "model_name": "LayoutModel",
          "model_module_version": "1.2.0",
          "state": {
            "_view_name": "LayoutView",
            "grid_template_rows": null,
            "right": null,
            "justify_content": null,
            "_view_module": "@jupyter-widgets/base",
            "overflow": null,
            "_model_module_version": "1.2.0",
            "_view_count": null,
            "flex_flow": null,
            "width": null,
            "min_width": null,
            "border": null,
            "align_items": null,
            "bottom": null,
            "_model_module": "@jupyter-widgets/base",
            "top": null,
            "grid_column": null,
            "overflow_y": null,
            "overflow_x": null,
            "grid_auto_flow": null,
            "grid_area": null,
            "grid_template_columns": null,
            "flex": null,
            "_model_name": "LayoutModel",
            "justify_items": null,
            "grid_row": null,
            "max_height": null,
            "align_content": null,
            "visibility": null,
            "align_self": null,
            "height": null,
            "min_height": null,
            "padding": null,
            "grid_auto_rows": null,
            "grid_gap": null,
            "max_width": null,
            "order": null,
            "_view_module_version": "1.2.0",
            "grid_template_areas": null,
            "object_position": null,
            "object_fit": null,
            "grid_auto_columns": null,
            "margin": null,
            "display": null,
            "left": null
          }
        },
        "6300da8397fe4a388e85cf3eb9f448ac": {
          "model_module": "@jupyter-widgets/controls",
          "model_name": "HTMLModel",
          "model_module_version": "1.5.0",
          "state": {
            "_view_name": "HTMLView",
            "style": "IPY_MODEL_e96a9ba320734dfe9628fd3c8c8ea572",
            "_dom_classes": [],
            "description": "",
            "_model_name": "HTMLModel",
            "placeholder": "​",
            "_view_module": "@jupyter-widgets/controls",
            "_model_module_version": "1.5.0",
            "value": "Running chain 2: 100%",
            "_view_count": null,
            "_view_module_version": "1.5.0",
            "description_tooltip": null,
            "_model_module": "@jupyter-widgets/controls",
            "layout": "IPY_MODEL_4c3decee356e45ce9db3343d0753a1c1"
          }
        },
        "6e74f20663f1492bbd0fa1ef12da6466": {
          "model_module": "@jupyter-widgets/controls",
          "model_name": "FloatProgressModel",
          "model_module_version": "1.5.0",
          "state": {
            "_view_name": "ProgressView",
            "style": "IPY_MODEL_8b706f1c4689429b8e9b8cba109513fc",
            "_dom_classes": [],
            "description": "",
            "_model_name": "FloatProgressModel",
            "bar_style": "success",
            "max": 7000,
            "_view_module": "@jupyter-widgets/controls",
            "_model_module_version": "1.5.0",
            "value": 7000,
            "_view_count": null,
            "_view_module_version": "1.5.0",
            "orientation": "horizontal",
            "min": 0,
            "description_tooltip": null,
            "_model_module": "@jupyter-widgets/controls",
            "layout": "IPY_MODEL_7e97c72a8fe3458487e8ef1c73c72b83"
          }
        },
        "67987a972e7c47f6ab5378e7056e19aa": {
          "model_module": "@jupyter-widgets/controls",
          "model_name": "HTMLModel",
          "model_module_version": "1.5.0",
          "state": {
            "_view_name": "HTMLView",
            "style": "IPY_MODEL_424b840241204e328c33aef8cdfce6ee",
            "_dom_classes": [],
            "description": "",
            "_model_name": "HTMLModel",
            "placeholder": "​",
            "_view_module": "@jupyter-widgets/controls",
            "_model_module_version": "1.5.0",
            "value": " 7000/7000 [00:45&lt;00:00, 233.93it/s]",
            "_view_count": null,
            "_view_module_version": "1.5.0",
            "description_tooltip": null,
            "_model_module": "@jupyter-widgets/controls",
            "layout": "IPY_MODEL_97dfec76f7294aca8d624f8e93ea03f6"
          }
        },
        "e96a9ba320734dfe9628fd3c8c8ea572": {
          "model_module": "@jupyter-widgets/controls",
          "model_name": "DescriptionStyleModel",
          "model_module_version": "1.5.0",
          "state": {
            "_view_name": "StyleView",
            "_model_name": "DescriptionStyleModel",
            "description_width": "",
            "_view_module": "@jupyter-widgets/base",
            "_model_module_version": "1.5.0",
            "_view_count": null,
            "_view_module_version": "1.2.0",
            "_model_module": "@jupyter-widgets/controls"
          }
        },
        "4c3decee356e45ce9db3343d0753a1c1": {
          "model_module": "@jupyter-widgets/base",
          "model_name": "LayoutModel",
          "model_module_version": "1.2.0",
          "state": {
            "_view_name": "LayoutView",
            "grid_template_rows": null,
            "right": null,
            "justify_content": null,
            "_view_module": "@jupyter-widgets/base",
            "overflow": null,
            "_model_module_version": "1.2.0",
            "_view_count": null,
            "flex_flow": null,
            "width": null,
            "min_width": null,
            "border": null,
            "align_items": null,
            "bottom": null,
            "_model_module": "@jupyter-widgets/base",
            "top": null,
            "grid_column": null,
            "overflow_y": null,
            "overflow_x": null,
            "grid_auto_flow": null,
            "grid_area": null,
            "grid_template_columns": null,
            "flex": null,
            "_model_name": "LayoutModel",
            "justify_items": null,
            "grid_row": null,
            "max_height": null,
            "align_content": null,
            "visibility": null,
            "align_self": null,
            "height": null,
            "min_height": null,
            "padding": null,
            "grid_auto_rows": null,
            "grid_gap": null,
            "max_width": null,
            "order": null,
            "_view_module_version": "1.2.0",
            "grid_template_areas": null,
            "object_position": null,
            "object_fit": null,
            "grid_auto_columns": null,
            "margin": null,
            "display": null,
            "left": null
          }
        },
        "8b706f1c4689429b8e9b8cba109513fc": {
          "model_module": "@jupyter-widgets/controls",
          "model_name": "ProgressStyleModel",
          "model_module_version": "1.5.0",
          "state": {
            "_view_name": "StyleView",
            "_model_name": "ProgressStyleModel",
            "description_width": "",
            "_view_module": "@jupyter-widgets/base",
            "_model_module_version": "1.5.0",
            "_view_count": null,
            "_view_module_version": "1.2.0",
            "bar_color": null,
            "_model_module": "@jupyter-widgets/controls"
          }
        },
        "7e97c72a8fe3458487e8ef1c73c72b83": {
          "model_module": "@jupyter-widgets/base",
          "model_name": "LayoutModel",
          "model_module_version": "1.2.0",
          "state": {
            "_view_name": "LayoutView",
            "grid_template_rows": null,
            "right": null,
            "justify_content": null,
            "_view_module": "@jupyter-widgets/base",
            "overflow": null,
            "_model_module_version": "1.2.0",
            "_view_count": null,
            "flex_flow": null,
            "width": null,
            "min_width": null,
            "border": null,
            "align_items": null,
            "bottom": null,
            "_model_module": "@jupyter-widgets/base",
            "top": null,
            "grid_column": null,
            "overflow_y": null,
            "overflow_x": null,
            "grid_auto_flow": null,
            "grid_area": null,
            "grid_template_columns": null,
            "flex": null,
            "_model_name": "LayoutModel",
            "justify_items": null,
            "grid_row": null,
            "max_height": null,
            "align_content": null,
            "visibility": null,
            "align_self": null,
            "height": null,
            "min_height": null,
            "padding": null,
            "grid_auto_rows": null,
            "grid_gap": null,
            "max_width": null,
            "order": null,
            "_view_module_version": "1.2.0",
            "grid_template_areas": null,
            "object_position": null,
            "object_fit": null,
            "grid_auto_columns": null,
            "margin": null,
            "display": null,
            "left": null
          }
        },
        "424b840241204e328c33aef8cdfce6ee": {
          "model_module": "@jupyter-widgets/controls",
          "model_name": "DescriptionStyleModel",
          "model_module_version": "1.5.0",
          "state": {
            "_view_name": "StyleView",
            "_model_name": "DescriptionStyleModel",
            "description_width": "",
            "_view_module": "@jupyter-widgets/base",
            "_model_module_version": "1.5.0",
            "_view_count": null,
            "_view_module_version": "1.2.0",
            "_model_module": "@jupyter-widgets/controls"
          }
        },
        "97dfec76f7294aca8d624f8e93ea03f6": {
          "model_module": "@jupyter-widgets/base",
          "model_name": "LayoutModel",
          "model_module_version": "1.2.0",
          "state": {
            "_view_name": "LayoutView",
            "grid_template_rows": null,
            "right": null,
            "justify_content": null,
            "_view_module": "@jupyter-widgets/base",
            "overflow": null,
            "_model_module_version": "1.2.0",
            "_view_count": null,
            "flex_flow": null,
            "width": null,
            "min_width": null,
            "border": null,
            "align_items": null,
            "bottom": null,
            "_model_module": "@jupyter-widgets/base",
            "top": null,
            "grid_column": null,
            "overflow_y": null,
            "overflow_x": null,
            "grid_auto_flow": null,
            "grid_area": null,
            "grid_template_columns": null,
            "flex": null,
            "_model_name": "LayoutModel",
            "justify_items": null,
            "grid_row": null,
            "max_height": null,
            "align_content": null,
            "visibility": null,
            "align_self": null,
            "height": null,
            "min_height": null,
            "padding": null,
            "grid_auto_rows": null,
            "grid_gap": null,
            "max_width": null,
            "order": null,
            "_view_module_version": "1.2.0",
            "grid_template_areas": null,
            "object_position": null,
            "object_fit": null,
            "grid_auto_columns": null,
            "margin": null,
            "display": null,
            "left": null
          }
        },
        "3bab989d85244d9ea99b75c28f1e6c63": {
          "model_module": "@jupyter-widgets/controls",
          "model_name": "HBoxModel",
          "model_module_version": "1.5.0",
          "state": {
            "_view_name": "HBoxView",
            "_dom_classes": [],
            "_model_name": "HBoxModel",
            "_view_module": "@jupyter-widgets/controls",
            "_model_module_version": "1.5.0",
            "_view_count": null,
            "_view_module_version": "1.5.0",
            "box_style": "",
            "layout": "IPY_MODEL_9fb08286935342b5973bb0a813cc5b2b",
            "_model_module": "@jupyter-widgets/controls",
            "children": [
              "IPY_MODEL_e4e396baef5747b9b8752d223c5cd0af",
              "IPY_MODEL_0feb9cb23e9846e2a9904177ae0d8597",
              "IPY_MODEL_c77a24d993b04c35b85429b3fab399ef"
            ]
          }
        },
        "9fb08286935342b5973bb0a813cc5b2b": {
          "model_module": "@jupyter-widgets/base",
          "model_name": "LayoutModel",
          "model_module_version": "1.2.0",
          "state": {
            "_view_name": "LayoutView",
            "grid_template_rows": null,
            "right": null,
            "justify_content": null,
            "_view_module": "@jupyter-widgets/base",
            "overflow": null,
            "_model_module_version": "1.2.0",
            "_view_count": null,
            "flex_flow": null,
            "width": null,
            "min_width": null,
            "border": null,
            "align_items": null,
            "bottom": null,
            "_model_module": "@jupyter-widgets/base",
            "top": null,
            "grid_column": null,
            "overflow_y": null,
            "overflow_x": null,
            "grid_auto_flow": null,
            "grid_area": null,
            "grid_template_columns": null,
            "flex": null,
            "_model_name": "LayoutModel",
            "justify_items": null,
            "grid_row": null,
            "max_height": null,
            "align_content": null,
            "visibility": null,
            "align_self": null,
            "height": null,
            "min_height": null,
            "padding": null,
            "grid_auto_rows": null,
            "grid_gap": null,
            "max_width": null,
            "order": null,
            "_view_module_version": "1.2.0",
            "grid_template_areas": null,
            "object_position": null,
            "object_fit": null,
            "grid_auto_columns": null,
            "margin": null,
            "display": null,
            "left": null
          }
        },
        "e4e396baef5747b9b8752d223c5cd0af": {
          "model_module": "@jupyter-widgets/controls",
          "model_name": "HTMLModel",
          "model_module_version": "1.5.0",
          "state": {
            "_view_name": "HTMLView",
            "style": "IPY_MODEL_2bde134cc36242febd15892f2e11eb51",
            "_dom_classes": [],
            "description": "",
            "_model_name": "HTMLModel",
            "placeholder": "​",
            "_view_module": "@jupyter-widgets/controls",
            "_model_module_version": "1.5.0",
            "value": "Running chain 3: 100%",
            "_view_count": null,
            "_view_module_version": "1.5.0",
            "description_tooltip": null,
            "_model_module": "@jupyter-widgets/controls",
            "layout": "IPY_MODEL_e0ded686249440f18c8a7433f63db80e"
          }
        },
        "0feb9cb23e9846e2a9904177ae0d8597": {
          "model_module": "@jupyter-widgets/controls",
          "model_name": "FloatProgressModel",
          "model_module_version": "1.5.0",
          "state": {
            "_view_name": "ProgressView",
            "style": "IPY_MODEL_79b0660c330a40bba1c892a0046a9477",
            "_dom_classes": [],
            "description": "",
            "_model_name": "FloatProgressModel",
            "bar_style": "success",
            "max": 7000,
            "_view_module": "@jupyter-widgets/controls",
            "_model_module_version": "1.5.0",
            "value": 7000,
            "_view_count": null,
            "_view_module_version": "1.5.0",
            "orientation": "horizontal",
            "min": 0,
            "description_tooltip": null,
            "_model_module": "@jupyter-widgets/controls",
            "layout": "IPY_MODEL_983e2d9bee7d4f29bdf70864a8138c78"
          }
        },
        "c77a24d993b04c35b85429b3fab399ef": {
          "model_module": "@jupyter-widgets/controls",
          "model_name": "HTMLModel",
          "model_module_version": "1.5.0",
          "state": {
            "_view_name": "HTMLView",
            "style": "IPY_MODEL_4da9b3cbd9424bf69b66abc7a2368d8a",
            "_dom_classes": [],
            "description": "",
            "_model_name": "HTMLModel",
            "placeholder": "​",
            "_view_module": "@jupyter-widgets/controls",
            "_model_module_version": "1.5.0",
            "value": " 7000/7000 [00:45&lt;00:00, 253.57it/s]",
            "_view_count": null,
            "_view_module_version": "1.5.0",
            "description_tooltip": null,
            "_model_module": "@jupyter-widgets/controls",
            "layout": "IPY_MODEL_455981ca77a4439286d21172a9201ea2"
          }
        },
        "2bde134cc36242febd15892f2e11eb51": {
          "model_module": "@jupyter-widgets/controls",
          "model_name": "DescriptionStyleModel",
          "model_module_version": "1.5.0",
          "state": {
            "_view_name": "StyleView",
            "_model_name": "DescriptionStyleModel",
            "description_width": "",
            "_view_module": "@jupyter-widgets/base",
            "_model_module_version": "1.5.0",
            "_view_count": null,
            "_view_module_version": "1.2.0",
            "_model_module": "@jupyter-widgets/controls"
          }
        },
        "e0ded686249440f18c8a7433f63db80e": {
          "model_module": "@jupyter-widgets/base",
          "model_name": "LayoutModel",
          "model_module_version": "1.2.0",
          "state": {
            "_view_name": "LayoutView",
            "grid_template_rows": null,
            "right": null,
            "justify_content": null,
            "_view_module": "@jupyter-widgets/base",
            "overflow": null,
            "_model_module_version": "1.2.0",
            "_view_count": null,
            "flex_flow": null,
            "width": null,
            "min_width": null,
            "border": null,
            "align_items": null,
            "bottom": null,
            "_model_module": "@jupyter-widgets/base",
            "top": null,
            "grid_column": null,
            "overflow_y": null,
            "overflow_x": null,
            "grid_auto_flow": null,
            "grid_area": null,
            "grid_template_columns": null,
            "flex": null,
            "_model_name": "LayoutModel",
            "justify_items": null,
            "grid_row": null,
            "max_height": null,
            "align_content": null,
            "visibility": null,
            "align_self": null,
            "height": null,
            "min_height": null,
            "padding": null,
            "grid_auto_rows": null,
            "grid_gap": null,
            "max_width": null,
            "order": null,
            "_view_module_version": "1.2.0",
            "grid_template_areas": null,
            "object_position": null,
            "object_fit": null,
            "grid_auto_columns": null,
            "margin": null,
            "display": null,
            "left": null
          }
        },
        "79b0660c330a40bba1c892a0046a9477": {
          "model_module": "@jupyter-widgets/controls",
          "model_name": "ProgressStyleModel",
          "model_module_version": "1.5.0",
          "state": {
            "_view_name": "StyleView",
            "_model_name": "ProgressStyleModel",
            "description_width": "",
            "_view_module": "@jupyter-widgets/base",
            "_model_module_version": "1.5.0",
            "_view_count": null,
            "_view_module_version": "1.2.0",
            "bar_color": null,
            "_model_module": "@jupyter-widgets/controls"
          }
        },
        "983e2d9bee7d4f29bdf70864a8138c78": {
          "model_module": "@jupyter-widgets/base",
          "model_name": "LayoutModel",
          "model_module_version": "1.2.0",
          "state": {
            "_view_name": "LayoutView",
            "grid_template_rows": null,
            "right": null,
            "justify_content": null,
            "_view_module": "@jupyter-widgets/base",
            "overflow": null,
            "_model_module_version": "1.2.0",
            "_view_count": null,
            "flex_flow": null,
            "width": null,
            "min_width": null,
            "border": null,
            "align_items": null,
            "bottom": null,
            "_model_module": "@jupyter-widgets/base",
            "top": null,
            "grid_column": null,
            "overflow_y": null,
            "overflow_x": null,
            "grid_auto_flow": null,
            "grid_area": null,
            "grid_template_columns": null,
            "flex": null,
            "_model_name": "LayoutModel",
            "justify_items": null,
            "grid_row": null,
            "max_height": null,
            "align_content": null,
            "visibility": null,
            "align_self": null,
            "height": null,
            "min_height": null,
            "padding": null,
            "grid_auto_rows": null,
            "grid_gap": null,
            "max_width": null,
            "order": null,
            "_view_module_version": "1.2.0",
            "grid_template_areas": null,
            "object_position": null,
            "object_fit": null,
            "grid_auto_columns": null,
            "margin": null,
            "display": null,
            "left": null
          }
        },
        "4da9b3cbd9424bf69b66abc7a2368d8a": {
          "model_module": "@jupyter-widgets/controls",
          "model_name": "DescriptionStyleModel",
          "model_module_version": "1.5.0",
          "state": {
            "_view_name": "StyleView",
            "_model_name": "DescriptionStyleModel",
            "description_width": "",
            "_view_module": "@jupyter-widgets/base",
            "_model_module_version": "1.5.0",
            "_view_count": null,
            "_view_module_version": "1.2.0",
            "_model_module": "@jupyter-widgets/controls"
          }
        },
        "455981ca77a4439286d21172a9201ea2": {
          "model_module": "@jupyter-widgets/base",
          "model_name": "LayoutModel",
          "model_module_version": "1.2.0",
          "state": {
            "_view_name": "LayoutView",
            "grid_template_rows": null,
            "right": null,
            "justify_content": null,
            "_view_module": "@jupyter-widgets/base",
            "overflow": null,
            "_model_module_version": "1.2.0",
            "_view_count": null,
            "flex_flow": null,
            "width": null,
            "min_width": null,
            "border": null,
            "align_items": null,
            "bottom": null,
            "_model_module": "@jupyter-widgets/base",
            "top": null,
            "grid_column": null,
            "overflow_y": null,
            "overflow_x": null,
            "grid_auto_flow": null,
            "grid_area": null,
            "grid_template_columns": null,
            "flex": null,
            "_model_name": "LayoutModel",
            "justify_items": null,
            "grid_row": null,
            "max_height": null,
            "align_content": null,
            "visibility": null,
            "align_self": null,
            "height": null,
            "min_height": null,
            "padding": null,
            "grid_auto_rows": null,
            "grid_gap": null,
            "max_width": null,
            "order": null,
            "_view_module_version": "1.2.0",
            "grid_template_areas": null,
            "object_position": null,
            "object_fit": null,
            "grid_auto_columns": null,
            "margin": null,
            "display": null,
            "left": null
          }
        }
      }
    }
  },
  "cells": [
    {
      "cell_type": "markdown",
      "metadata": {
        "id": "view-in-github",
        "colab_type": "text"
      },
      "source": [
        "<a href=\"https://colab.research.google.com/github/wilkeraziz/emnlp-main-findings/blob/main/DP-shared-rates.ipynb\" target=\"_parent\"><img src=\"https://colab.research.google.com/assets/colab-badge.svg\" alt=\"Open In Colab\"/></a>"
      ]
    },
    {
      "cell_type": "markdown",
      "metadata": {
        "id": "B5tNGYy9C2SD"
      },
      "source": [
        "# Set up numpyro"
      ]
    },
    {
      "cell_type": "code",
      "metadata": {
        "colab": {
          "base_uri": "https://localhost:8080/"
        },
        "id": "U6q5fUMBoJA7",
        "outputId": "76aca328-7589-4714-d895-2777099885ee"
      },
      "source": [
        "!pip install numpyro funsor"
      ],
      "execution_count": null,
      "outputs": [
        {
          "output_type": "stream",
          "name": "stdout",
          "text": [
            "Requirement already satisfied: numpyro in /usr/local/lib/python3.7/dist-packages (0.8.0)\n",
            "Requirement already satisfied: funsor in /usr/local/lib/python3.7/dist-packages (0.4.1)\n",
            "Requirement already satisfied: tqdm in /usr/local/lib/python3.7/dist-packages (from numpyro) (4.62.3)\n",
            "Requirement already satisfied: jaxlib>=0.1.65 in /usr/local/lib/python3.7/dist-packages (from numpyro) (0.1.71+cuda111)\n",
            "Requirement already satisfied: jax>=0.2.13 in /usr/local/lib/python3.7/dist-packages (from numpyro) (0.2.21)\n",
            "Requirement already satisfied: scipy>=1.2.1 in /usr/local/lib/python3.7/dist-packages (from jax>=0.2.13->numpyro) (1.4.1)\n",
            "Requirement already satisfied: numpy>=1.18 in /usr/local/lib/python3.7/dist-packages (from jax>=0.2.13->numpyro) (1.19.5)\n",
            "Requirement already satisfied: opt-einsum in /usr/local/lib/python3.7/dist-packages (from jax>=0.2.13->numpyro) (3.3.0)\n",
            "Requirement already satisfied: absl-py in /usr/local/lib/python3.7/dist-packages (from jax>=0.2.13->numpyro) (0.12.0)\n",
            "Requirement already satisfied: flatbuffers<3.0,>=1.12 in /usr/local/lib/python3.7/dist-packages (from jaxlib>=0.1.65->numpyro) (1.12)\n",
            "Requirement already satisfied: makefun in /usr/local/lib/python3.7/dist-packages (from funsor) (1.12.1)\n",
            "Requirement already satisfied: multipledispatch in /usr/local/lib/python3.7/dist-packages (from funsor) (0.6.0)\n",
            "Requirement already satisfied: typing-extensions in /usr/local/lib/python3.7/dist-packages (from funsor) (3.7.4.3)\n",
            "Requirement already satisfied: six in /usr/local/lib/python3.7/dist-packages (from absl-py->jax>=0.2.13->numpyro) (1.15.0)\n"
          ]
        }
      ]
    },
    {
      "cell_type": "markdown",
      "metadata": {
        "id": "6GacwPkNC6i3"
      },
      "source": [
        "# Data\n",
        "\n",
        "I'm using the counts Ryan shared:"
      ]
    },
    {
      "cell_type": "code",
      "metadata": {
        "colab": {
          "base_uri": "https://localhost:8080/"
        },
        "id": "PJqRtqd8AtcA",
        "outputId": "96dba77a-2022-4815-d02e-9c73f50ba584"
      },
      "source": [
        "!git clone https://github.com/ryancotterell/emnlp2020-analysis.git"
      ],
      "execution_count": null,
      "outputs": [
        {
          "output_type": "stream",
          "name": "stdout",
          "text": [
            "fatal: destination path 'emnlp2020-analysis' already exists and is not an empty directory.\n"
          ]
        }
      ]
    },
    {
      "cell_type": "code",
      "metadata": {
        "id": "Fgy8kKknBIcL"
      },
      "source": [
        "def read(fname):\n",
        "\tlst = []\n",
        "\twith open(fname, 'r') as f:\n",
        "\t\tfor i, line in enumerate(f):\n",
        "\t\t\tif i == 0:\n",
        "\t\t\t\tcontinue\n",
        "\t\t\tsplit = line.strip().split(\"\\t\")\n",
        "\t\t\tlst.append(int(split[1]))\n",
        "\treturn lst"
      ],
      "execution_count": null,
      "outputs": []
    },
    {
      "cell_type": "code",
      "metadata": {
        "id": "c72vK0eHBJlE"
      },
      "source": [
        "y_m = read('emnlp2020-analysis/data/main.tsv')\n",
        "y_f = read('emnlp2020-analysis/data/findings.tsv')"
      ],
      "execution_count": null,
      "outputs": []
    },
    {
      "cell_type": "markdown",
      "metadata": {
        "id": "hzZ1Sn3mDHEI"
      },
      "source": [
        "# Model\n",
        "\n",
        "\n",
        "I would like to discover a number of Poisson distributions that help me explain the two groups, each group under a mixture model.\n",
        "\n",
        "I would like the Poisson distributions to be shared across groups, so that I can interpret the mixture components as patterns (e.g., 'low-cited papers', 'average-cited papers', 'highly-citated papers'), but the mixing coefficients to be group-specific, so that I can interpret them as the extent to which each pattern is relevant for a group.\n",
        "\n",
        "Clearly, I have no clue which Poisson components will explain my data, so I will draw components from a Gamma prior that gives me a good spread of possible rates. I also have no cluse how many components I will need, but I don't expect too many. So I will employ a DP prior that discourages using too many components and truncate it at some small value (e.g., 5 or 10).\n",
        "\n",
        "**Generative story**\n",
        "\n",
        "The analysis model is a mixed membership model. \n",
        "Each group (i.e., main or findings) is drawn from a Dirichlet process (DP) mixture of Poisson components.\n",
        "\n",
        "I use $[N]$ to denote the set $\\{1, \\ldots, N\\}$. $G$ is the number of groups (we have 2), $T$ is the maximum number of components (as I will truncate the DP prior).\n",
        "\n",
        "I used a DP prior \n",
        "\\begin{align}\n",
        "(\\omega_1, \\ldots, \\omega_G), \\lambda &\\sim \\operatorname{DP}(\\operatorname{Gamma}(a, b), \\alpha)\n",
        "\\end{align}\n",
        "with a shared Gamma base distribution from which we draw Poisson rates.\n",
        "\n",
        "I truncate the DP prior and draw samples using the stick-breaking representation \n",
        "\\begin{align}\n",
        "\\beta_{g,t} &\\sim \\operatorname{Beta}(1, \\alpha) & \\text{for } (g,t) \\in [G]\\times [T-1]\\\\\n",
        "\\omega_{g, t}&=\\beta_{g,t}\\prod_{k<t} (1-\\beta_{g,k}) & \\text{for }(g,t) \\in [G]\\times[T]\\\\\n",
        "\\lambda_t &\\sim \\operatorname{Gamma}(a, b) & \\text{for }t \\in [T]\\\\\n",
        "\\end{align}\n",
        "the smaller the $\\alpha$ the fewer components will be used. I adjust $a$ and $b$ to make sure the prior covers reasonable citation counts.\n",
        "\n",
        "Once we have the mixing coefficients $w_{g,t}$, for every group $g \\in [G]$ and component $t \\in [T]$, we can draw each one of our $N$ observations.\n",
        "The $n$th observation $y_n$ belongs to group $x_n$, it is the citation count for a paper in that group.\n",
        "\n",
        "\\begin{align}\n",
        "Z_n|x_n &\\sim \\operatorname{Cat}(\\omega_{x_n}) & \\text{for } n \\in [N] \\\\\n",
        "Y_n|z_n &\\sim \\operatorname{Poisson}(\\lambda_{z_n})\n",
        "\\end{align}\n",
        "\n",
        "Mixture models are non-identifiable: because the DP prior is exchangeable, we can permute the components around and the marginal $Y|X=x$ won't change. This is problematic when we intend to interpret component assignments, which we do in this case. To break this common strategies involve using a prior that yields ordered parameters for the components. To induce order in $\\lambda$ we can, for example, sort it, or use a cumulative sum. In the implementation, I opt for the latter for its faster. Note this is not an approximation, it is simply changing the prior to one where in a draw of $T$ components, the $t$th component has rate higher than any of the components $k < t$. "
      ]
    },
    {
      "cell_type": "code",
      "metadata": {
        "colab": {
          "base_uri": "https://localhost:8080/"
        },
        "id": "azMvpCo6AKU2",
        "outputId": "c3e65622-a862-4092-d084-3d4e4da6ab94"
      },
      "source": [
        "import matplotlib.pyplot as plt\n",
        "import seaborn as sns; sns.set()\n",
        "import arviz as az\n",
        "\n",
        "from tabulate import tabulate\n",
        "import numpy as np\n",
        "\n",
        "import numpyro\n",
        "from numpyro.infer import MCMC, NUTS, Predictive\n",
        "import numpyro.distributions as dist\n",
        "from jax import random\n",
        "import jax.numpy as jnp\n",
        "\n",
        "NUM_CHAINS = 4\n",
        "numpyro.set_host_device_count(NUM_CHAINS)\n",
        "\n",
        "print(f\"Running on NumPryo v{numpyro.__version__}\")"
      ],
      "execution_count": null,
      "outputs": [
        {
          "output_type": "stream",
          "name": "stdout",
          "text": [
            "Running on NumPryo v0.8.0\n"
          ]
        }
      ]
    },
    {
      "cell_type": "code",
      "metadata": {
        "id": "wftqgDgmxOQr"
      },
      "source": [
        "class NumpyroMM:\n",
        "    def __init__(self, group_names: list, observations: list, gamma_shape=[1., 1.], DP_alpha=1., num_comps=5,\n",
        "                 num_samples=1000, num_chains=1, num_warmup=100):\n",
        "\n",
        "        self.gamma_shape = gamma_shape\n",
        "        self.DP_alpha = DP_alpha\n",
        "        self.T = num_comps\n",
        "\n",
        "        self.group_names = group_names\n",
        "        self.G = len(group_names)\n",
        "        \n",
        "        self.N = sum(len(x) for x in observations)\n",
        "        # [N]\n",
        "        self.g = np.concatenate([[g] * len(x) for g, x in enumerate(observations)])\n",
        "        self.x = np.concatenate(observations)\n",
        "\n",
        "        self.num_samples = num_samples\n",
        "        self.num_chains = num_chains\n",
        "        self.num_warmup = num_warmup\n",
        "\n",
        "        self.rng_key = random.PRNGKey(0)\n",
        "\n",
        "        nuts_kernel = NUTS(self.model)\n",
        "        self.mcmc = MCMC(nuts_kernel, num_samples=num_samples, num_warmup=num_warmup, num_chains=num_chains)\n",
        "        self.run_bool = False\n",
        "\n",
        "        self.prior_predictive = None\n",
        "        self.posterior_predictive = None\n",
        "        self.posterior_samples = None\n",
        "\n",
        "\n",
        "    @classmethod\n",
        "    def mix_weights(cls, beta):\n",
        "        beta1m_cumprod = (1 - beta).cumprod(-1)\n",
        "        return jnp.pad(beta, ((0, 0), (0, 1)), constant_values=1) * jnp.pad(beta1m_cumprod, ((0, 0), (1, 0)), constant_values=1)\n",
        "\n",
        "    def model(self, x=None):\n",
        "        \"\"\"\n",
        "        Pyro joint distribution.\n",
        "        \n",
        "        Parameter:\n",
        "        \n",
        "        x: observations as returned by self.prepare or None. \n",
        "            If None, the 'obs' node of the graphical model will be resampled.\n",
        "        \"\"\"\n",
        "\n",
        "        N, G = self.N, self.G\n",
        "        T = self.T\n",
        "\n",
        "        with numpyro.plate(\"components\", T):  \n",
        "            # construct the components\n",
        "            # [T]\n",
        "            lamb = numpyro.sample(\"lambda\", dist.Gamma(self.gamma_shape[0], self.gamma_shape[1]))   \n",
        "            rate = numpyro.deterministic(\"rate\", jnp.cumsum(lamb))  # we could use jnp.sort, but cumsum is simpler \n",
        "\n",
        "        # Sample mixing weights    \n",
        "        with numpyro.plate(\"DPs\", G):\n",
        "            # [G, T-1]\n",
        "            beta = numpyro.sample(\n",
        "                \"beta\", \n",
        "                dist.Beta(\n",
        "                    np.ones(1), \n",
        "                    np.ones(1) * self.DP_alpha\n",
        "                ).expand((T-1,)).to_event(1)\n",
        "            )\n",
        "        # [G, T]\n",
        "        omega = numpyro.deterministic(\"omega\", self.mix_weights(beta))\n",
        "        \n",
        "        with numpyro.plate(\"observations\", N):\n",
        "            # [N]\n",
        "            z = numpyro.sample(\"z\", dist.Categorical(probs=omega[self.g])) \n",
        "\n",
        "            # [N]\n",
        "            rate_z = numpyro.deterministic(\"rate_z\", rate[z])\n",
        "            # [N]\n",
        "            # Construct the likelihood function            \n",
        "            return numpyro.sample(\"obs\", dist.Poisson(rate_z), obs=x)\n",
        "\n",
        "    def run(self):\n",
        "        self.mcmc.run(self.rng_key, x=self.x)\n",
        "        self.mcmc.print_summary()\n",
        "        self.posterior_samples = self.mcmc.get_samples(group_by_chain=False)\n",
        "        print(\"posterior samples shapes:\")\n",
        "        for k, v in self.posterior_samples.items():\n",
        "            print(k, v.shape)\n",
        "\n",
        "    def make_prior_predictive(self, num_prior_samples=100):        \n",
        "        if self.prior_predictive is None:\n",
        "            self.prior_predictive = Predictive(self.model, num_samples=num_prior_samples)\n",
        "\n",
        "    def draw_prior_predictions(self):\n",
        "        if self.prior_predictive is None:\n",
        "            self.make_prior_predictive()\n",
        "        rng_key, rng_key_ = random.split(self.rng_key)        \n",
        "        return self.prior_predictive(rng_key_, x=None)[\"obs\"]\n",
        "\n",
        "    def make_posterior_predictive(self):\n",
        "        if self.posterior_samples is None:\n",
        "            raise RuntimeError(\"You need to run the sampler first\")        \n",
        "        if self.posterior_predictive is None:\n",
        "            self.posterior_predictive = Predictive(self.model, self.posterior_samples)        \n",
        "\n",
        "    def draw_posterior_predictions(self, plot=False):\n",
        "        if self.posterior_predictive is None:\n",
        "            self.make_posterior_predictive()        \n",
        "        rng_key, rng_key_ = random.split(self.rng_key)\n",
        "        return self.posterior_predictive(rng_key_, x=None)[\"obs\"]        \n",
        "\n",
        "    def plot_predictions(self, samples):\n",
        "        fig, ax = plt.subplots(model.G, 2, sharex=True, figsize=(10, 5))\n",
        "        for k in range(model.G):\n",
        "            \n",
        "            xk = self.x[self.g==k]\n",
        "            xk_ = samples[:,self.g==k]\n",
        "\n",
        "            _ = ax[k, 0].hist(xk, bins=50)\n",
        "            _ = ax[k, 0].set_xlabel(f'obs: {self.group_names[k]}')\n",
        "            _ = ax[k, 1].hist(xk_.flatten(), bins=50)\n",
        "            _ = ax[k, 1].set_xlabel(f'prior predictive: {self.group_names[k]}')\n",
        "\n",
        "        fig.tight_layout(h_pad=2, w_pad=2)\n",
        "        fig.show()\n",
        "\n",
        "    def plot_checks(self, samples):\n",
        "        fig, ax = plt.subplots(model.G, 4, sharex=False, figsize=(15, 5))\n",
        "        for k in range(model.G):\n",
        "            xk = self.x[self.g==k]\n",
        "            xk_ = samples[:,self.g==k]\n",
        "            \n",
        "            _ = ax[k, 0].hist(np.mean(xk_, 1), label='pred' if k == 0 else None)\n",
        "            _ = ax[k, 0].axvline(np.mean(xk), color='orange', linestyle='--', label='obs' if k == 0 else None)    \n",
        "            _ = ax[k, 0].set_xlabel(f'E[X{k}]')\n",
        "            \n",
        "            _ = ax[k, 1].hist(np.std(xk_, 1))    \n",
        "            _ = ax[k, 1].axvline(np.std(xk), color='orange', linestyle='--')\n",
        "            _ = ax[k, 1].set_xlabel(f'std[X{k}]')\n",
        "\n",
        "            _ = ax[k, 2].hist(np.median(xk_, 1))    \n",
        "            _ = ax[k, 2].axvline(np.median(xk), color='orange', linestyle='--')\n",
        "            _ = ax[k, 2].set_xlabel(f'median[X{k}]')\n",
        "\n",
        "            pvalues = np.mean(xk_ > xk, 1)\n",
        "            _ = ax[k, 3].hist(pvalues)\n",
        "            _ = ax[k, 3].set_xlabel(f'Pr(X{k} > obs{k})')\n",
        "            _ = ax[k, 3].axvline(np.median(pvalues), color='white', linestyle='--', label='median' if k==0 else None)\n",
        "\n",
        "        _ = fig.legend(loc='upper center', ncol=3)\n",
        "        fig.tight_layout(h_pad=2, w_pad=2)\n",
        "        fig.show()\n"
      ],
      "execution_count": null,
      "outputs": []
    },
    {
      "cell_type": "markdown",
      "metadata": {
        "id": "1fa2GrmeJ38z"
      },
      "source": [
        "# MCMC \n",
        "\n",
        "I won't really implement MCMC, I'm going to count on Numpyro for that."
      ]
    },
    {
      "cell_type": "code",
      "metadata": {
        "id": "IvIDsJU1g_T_"
      },
      "source": [
        "model = NumpyroMM(\n",
        "    ['main', 'findings'], [y_m, y_f], \n",
        "    gamma_shape=[1., 0.1], DP_alpha=1., \n",
        "    num_chains=NUM_CHAINS, num_warmup=2000, num_samples=5000)"
      ],
      "execution_count": null,
      "outputs": []
    },
    {
      "cell_type": "markdown",
      "metadata": {
        "id": "EglW0hpTKCBI"
      },
      "source": [
        "## Prior predictive\n",
        "\n",
        "Plotting samples from the prior predictive distribution (i.e., sampling from the generative story without conditioning on any observations) is a good way to check whether our prior is reasonable. \n",
        "\n",
        "We want to see a predictive curve that could easily include any of our groups."
      ]
    },
    {
      "cell_type": "code",
      "metadata": {
        "colab": {
          "base_uri": "https://localhost:8080/"
        },
        "id": "y4jn5OxTqcIW",
        "outputId": "3f58427d-3fd6-4c7b-a747-d00de3237e89"
      },
      "source": [
        "prior_samples = model.draw_prior_predictions()\n",
        "prior_samples.shape"
      ],
      "execution_count": null,
      "outputs": [
        {
          "output_type": "execute_result",
          "data": {
            "text/plain": [
              "(100, 1198)"
            ]
          },
          "metadata": {},
          "execution_count": 8
        }
      ]
    },
    {
      "cell_type": "code",
      "metadata": {
        "colab": {
          "base_uri": "https://localhost:8080/",
          "height": 365
        },
        "id": "Ns3C9QHEtrXY",
        "outputId": "c48cdf84-8ade-44ce-b766-bcdb85372c2c"
      },
      "source": [
        "_ = model.plot_predictions(prior_samples)"
      ],
      "execution_count": null,
      "outputs": [
        {
          "output_type": "display_data",
          "data": {
            "image/png": "[encoded data removed]",
            "text/plain": [
              "<Figure size 720x360 with 4 Axes>"
            ]
          },
          "metadata": {}
        }
      ]
    },
    {
      "cell_type": "markdown",
      "metadata": {
        "id": "C6MdnGXDKRov"
      },
      "source": [
        "We can also plot some statistics just to see whether indeed our prior is not excluding plausible observations."
      ]
    },
    {
      "cell_type": "code",
      "metadata": {
        "colab": {
          "base_uri": "https://localhost:8080/",
          "height": 341
        },
        "id": "Oh3nRh6rtf-f",
        "outputId": "df1156cc-9872-4cd9-c30b-219d1e15134f"
      },
      "source": [
        "_ = model.plot_checks(prior_samples)"
      ],
      "execution_count": null,
      "outputs": [
        {
          "output_type": "display_data",
          "data": {
            "image/png": "[encoded data removed]",
            "text/plain": [
              "<Figure size 1080x360 with 8 Axes>"
            ]
          },
          "metadata": {}
        }
      ]
    },
    {
      "cell_type": "markdown",
      "metadata": {
        "id": "rBzvjW13KfN3"
      },
      "source": [
        "## Posterior\n",
        "\n",
        "Time to run our sampler. Numpyro is fast!"
      ]
    },
    {
      "cell_type": "code",
      "metadata": {
        "colab": {
          "base_uri": "https://localhost:8080/",
          "height": 536,
          "referenced_widgets": [
            "b4e85f7c8b88426a90a250dddd3024e2",
            "396175a5d3b84220b7596134c3347036",
            "f9c0cb72ba004ad2add65c433f91a084",
            "cdfecef926144b68a84673a441aab954",
            "bc0a54747249463095b920ccf0b1bffd",
            "1c6480bac1d7418581036eacaae56ea6",
            "90078915f3964a3abf0b7349bd1f8d78",
            "4a41af3d5d814b379e83717d07798c33",
            "cd0a803953334d79988124f3ed9c94b0",
            "872760caba5846a3b00d420b2c292313",
            "9a19cd2ccb734f1d81e0f42df8e5ab97",
            "0ed06e07ce334ed6bb77172c6748f9f0",
            "8198d5f402a0425786e848062367f61f",
            "af2e0f32688a47328abf3be9c0ded519",
            "0ff477b5e2c34687b8a90de005ca6d53",
            "01ee0f2838124356876f089b9538a7a6",
            "e5670ad0c01a421a914e78584a06d37d",
            "efa1ca34e7b94554a131f62683abf389",
            "dcafe14a77124cb383394fe5633bb08d",
            "657375da13fe4d4092d3bfcd3cb6b0b0",
            "312ae8ed646d4b92b04b70097e2ebb31",
            "8bc011facd2f440081b231636e9734a3",
            "0070d5aa447843c4b7a61050fc70f1fa",
            "a790b97bb9f648a8bb0a5e20b8d945dc",
            "6300da8397fe4a388e85cf3eb9f448ac",
            "6e74f20663f1492bbd0fa1ef12da6466",
            "67987a972e7c47f6ab5378e7056e19aa",
            "e96a9ba320734dfe9628fd3c8c8ea572",
            "4c3decee356e45ce9db3343d0753a1c1",
            "8b706f1c4689429b8e9b8cba109513fc",
            "7e97c72a8fe3458487e8ef1c73c72b83",
            "424b840241204e328c33aef8cdfce6ee",
            "97dfec76f7294aca8d624f8e93ea03f6",
            "3bab989d85244d9ea99b75c28f1e6c63",
            "9fb08286935342b5973bb0a813cc5b2b",
            "e4e396baef5747b9b8752d223c5cd0af",
            "0feb9cb23e9846e2a9904177ae0d8597",
            "c77a24d993b04c35b85429b3fab399ef",
            "2bde134cc36242febd15892f2e11eb51",
            "e0ded686249440f18c8a7433f63db80e",
            "79b0660c330a40bba1c892a0046a9477",
            "983e2d9bee7d4f29bdf70864a8138c78",
            "4da9b3cbd9424bf69b66abc7a2368d8a",
            "455981ca77a4439286d21172a9201ea2"
          ]
        },
        "id": "IAaiI7QAhMxd",
        "outputId": "e78d0445-f9a2-4d32-de8b-0c4a5aecb792"
      },
      "source": [
        "model.run()"
      ],
      "execution_count": null,
      "outputs": [
        {
          "output_type": "display_data",
          "data": {
            "application/vnd.jupyter.widget-view+json": {
              "model_id": "b4e85f7c8b88426a90a250dddd3024e2",
              "version_minor": 0,
              "version_major": 2
            },
            "text/plain": [
              "  0%|          | 0/7000 [00:00<?, ?it/s]"
            ]
          },
          "metadata": {}
        },
        {
          "output_type": "display_data",
          "data": {
            "application/vnd.jupyter.widget-view+json": {
              "model_id": "0ed06e07ce334ed6bb77172c6748f9f0",
              "version_minor": 0,
              "version_major": 2
            },
            "text/plain": [
              "  0%|          | 0/7000 [00:00<?, ?it/s]"
            ]
          },
          "metadata": {}
        },
        {
          "output_type": "display_data",
          "data": {
            "application/vnd.jupyter.widget-view+json": {
              "model_id": "0070d5aa447843c4b7a61050fc70f1fa",
              "version_minor": 0,
              "version_major": 2
            },
            "text/plain": [
              "  0%|          | 0/7000 [00:00<?, ?it/s]"
            ]
          },
          "metadata": {}
        },
        {
          "output_type": "display_data",
          "data": {
            "application/vnd.jupyter.widget-view+json": {
              "model_id": "3bab989d85244d9ea99b75c28f1e6c63",
              "version_minor": 0,
              "version_major": 2
            },
            "text/plain": [
              "  0%|          | 0/7000 [00:00<?, ?it/s]"
            ]
          },
          "metadata": {}
        },
        {
          "output_type": "stream",
          "name": "stdout",
          "text": [
            "\n",
            "                mean       std    median      5.0%     95.0%     n_eff     r_hat\n",
            " beta[0,0]      0.45      0.02      0.45      0.41      0.49  28900.45      1.00\n",
            " beta[0,1]      0.77      0.02      0.77      0.73      0.81  36027.81      1.00\n",
            " beta[0,2]      0.77      0.05      0.77      0.69      0.84  40188.80      1.00\n",
            " beta[0,3]      0.91      0.06      0.93      0.83      1.00  36303.51      1.00\n",
            " beta[1,0]      0.66      0.03      0.66      0.62      0.70  33205.15      1.00\n",
            " beta[1,1]      0.75      0.04      0.75      0.69      0.81  41754.89      1.00\n",
            " beta[1,2]      0.67      0.08      0.67      0.55      0.80  40812.33      1.00\n",
            " beta[1,3]      0.86      0.09      0.87      0.73      0.99  39383.58      1.00\n",
            " lambda[0]      2.43      0.09      2.43      2.28      2.58  28331.65      1.00\n",
            " lambda[1]      8.49      0.25      8.49      8.09      8.92  27882.11      1.00\n",
            " lambda[2]     21.37      0.92     21.36     19.92     22.94  28835.17      1.00\n",
            " lambda[3]     52.26      2.04     52.26     48.99     55.64  14665.61      1.00\n",
            " lambda[4]    269.19     14.29    269.30    248.10    293.14   6463.18      1.00\n",
            "\n",
            "Number of divergences: 0\n",
            "posterior samples shapes:\n",
            "beta (20000, 2, 4)\n",
            "lambda (20000, 5)\n",
            "omega (20000, 2, 5)\n",
            "rate (20000, 5)\n",
            "rate_z (20000, 1198)\n"
          ]
        }
      ]
    },
    {
      "cell_type": "markdown",
      "metadata": {
        "id": "3zKFmgE2KjgC"
      },
      "source": [
        "## Posterior predictive\n",
        "\n",
        "Before any analysis, let's see whether we can trust this model. It's good to plot samples from the posterior predictive distribution (i.e., sample from the generative story *after* conditioning on observations). These can be thought of as replications."
      ]
    },
    {
      "cell_type": "code",
      "metadata": {
        "colab": {
          "base_uri": "https://localhost:8080/"
        },
        "id": "S2S6owDVqOyh",
        "outputId": "b7969355-1226-4593-85b0-401a23ff25b9"
      },
      "source": [
        "posterior_samples = model.draw_posterior_predictions()\n",
        "posterior_samples.shape"
      ],
      "execution_count": null,
      "outputs": [
        {
          "output_type": "execute_result",
          "data": {
            "text/plain": [
              "(20000, 1198)"
            ]
          },
          "metadata": {},
          "execution_count": 12
        }
      ]
    },
    {
      "cell_type": "code",
      "metadata": {
        "colab": {
          "base_uri": "https://localhost:8080/",
          "height": 365
        },
        "id": "8eUOHGsAw3dt",
        "outputId": "0d838d50-e43d-4568-fcb7-d778f91b8724"
      },
      "source": [
        "_ = model.plot_predictions(posterior_samples)"
      ],
      "execution_count": null,
      "outputs": [
        {
          "output_type": "display_data",
          "data": {
            "image/png": "[encoded data removed]",
            "text/plain": [
              "<Figure size 720x360 with 4 Axes>"
            ]
          },
          "metadata": {}
        }
      ]
    },
    {
      "cell_type": "markdown",
      "metadata": {
        "id": "V9Uf6RRsK3c4"
      },
      "source": [
        "And again, we can check whether our posterior predictive generates datasets with statistics that give support to our observed data."
      ]
    },
    {
      "cell_type": "code",
      "metadata": {
        "colab": {
          "base_uri": "https://localhost:8080/",
          "height": 341
        },
        "id": "gXkRxe0Vw6nJ",
        "outputId": "ef6d9236-ebe6-403e-9ef6-e6f4d1883fc4"
      },
      "source": [
        "_ = model.plot_checks(posterior_samples)"
      ],
      "execution_count": null,
      "outputs": [
        {
          "output_type": "display_data",
          "data": {
            "image/png": "[encoded data removed]",
            "text/plain": [
              "<Figure size 1080x360 with 8 Axes>"
            ]
          },
          "metadata": {}
        }
      ]
    },
    {
      "cell_type": "code",
      "metadata": {
        "colab": {
          "base_uri": "https://localhost:8080/"
        },
        "id": "uF7Krt6MyRut",
        "outputId": "08cf3067-8dff-4224-cb19-a5082cbacc43"
      },
      "source": [
        "print(tabulate([(k, v.shape) for k, v in model.posterior_samples.items()], headers=['rv', 'shape']))"
      ],
      "execution_count": null,
      "outputs": [
        {
          "output_type": "stream",
          "name": "stdout",
          "text": [
            "rv      shape\n",
            "------  -------------\n",
            "beta    (20000, 2, 4)\n",
            "lambda  (20000, 5)\n",
            "omega   (20000, 2, 5)\n",
            "rate    (20000, 5)\n",
            "rate_z  (20000, 1198)\n"
          ]
        }
      ]
    },
    {
      "cell_type": "markdown",
      "metadata": {
        "id": "49ydDKDxLAS-"
      },
      "source": [
        "## Analysis of results\n",
        "\n",
        "\n",
        "Now we get to interpret the latent parameters of the model, that is, we get to inspect what *patterns* (i.e., what Poisson components) are probable given the data and our assumptions and how the different groups can be explained using these patterns (i.e., mixing coefficients)."
      ]
    },
    {
      "cell_type": "markdown",
      "metadata": {
        "id": "t8NbkDt0LcHF"
      },
      "source": [
        "Let's start with an overview of the mixing coefficients.\n",
        "\n",
        "See that some components are barely relevant. Mostly we only need the first 2, perhaps the first 3."
      ]
    },
    {
      "cell_type": "code",
      "metadata": {
        "colab": {
          "base_uri": "https://localhost:8080/",
          "height": 365
        },
        "id": "N5kaVqMs5EEB",
        "outputId": "548b4a45-ba0e-4233-c079-7253df06c320"
      },
      "source": [
        "fig, ax = plt.subplots(1, model.G, sharex=True, sharey=True, figsize=(10, 5))\n",
        "for g in range(model.G):\n",
        "    _ = ax[g].boxplot(model.posterior_samples['omega'][:,g,:].transpose())\n",
        "    _ = ax[g].set_xticklabels(np.arange(model.T))\n",
        "    _ = ax[g].set_title(model.group_names[g])\n",
        "    _ = ax[g].set_xlabel('k')\n",
        "    _ = ax[g].set_ylabel(r'$\\omega_{g,k}$')\n",
        "fig.tight_layout(h_pad=2, w_pad=2)"
      ],
      "execution_count": null,
      "outputs": [
        {
          "output_type": "display_data",
          "data": {
            "image/png": "[encoded data removed]",
            "text/plain": [
              "<Figure size 720x360 with 2 Axes>"
            ]
          },
          "metadata": {}
        }
      ]
    },
    {
      "cell_type": "markdown",
      "metadata": {
        "id": "fai6laXPLl7O"
      },
      "source": [
        "Now, here's the best part.\n",
        "\n",
        "I'm going to plot $T$ rows, each row concerns a component and will contain\n",
        "* a histogram of the probable rates for that component, think of it as how many citations papers explained by that component get on average;\n",
        "* boxplots showing the distribution of that component's weight for the different groups\n",
        "* and because boxplots can be misleading when distributions are not unimodal and symmetric, I also plot histograms for the coefficients."
      ]
    },
    {
      "cell_type": "code",
      "metadata": {
        "colab": {
          "base_uri": "https://localhost:8080/",
          "height": 1000
        },
        "id": "BxHpChKe01hh",
        "outputId": "72dd3598-1c2c-4b24-c166-419189c94491"
      },
      "source": [
        "hatches = ['o', '/']\n",
        "fig, ax = plt.subplots(model.T, 3, figsize=(12, 15))\n",
        "for t in range(model.T):\n",
        "    _ = ax[t, 0].hist(model.posterior_samples['rate'][:, t], bins='auto')\n",
        "    _ = ax[t, 0].set_xlabel(r'$\\lambda_{%d}$' % t)\n",
        "    _ = ax[t, 1].boxplot([model.posterior_samples['omega'][:,g,t].transpose() for g in range(model.G)])\n",
        "    _ = ax[t, 1].set_xticklabels(model.group_names)\n",
        "    _ = ax[t, 1].set_ylabel(r'$\\omega_{g,k}$')    \n",
        "    for g in range(model.G):\n",
        "        _ = ax[t, 2].hist(model.posterior_samples['omega'][:,g,t], alpha=0.5, hatch=hatches[g], bins=50, label=model.group_names[g] if t==0 else None)\n",
        "        _ = ax[t, 2].set_xlabel(r'$\\omega_{g,%d}$' % t)\n",
        "fig.legend()\n",
        "fig.tight_layout(h_pad=2, w_pad=2)"
      ],
      "execution_count": null,
      "outputs": [
        {
          "output_type": "display_data",
          "data": {
            "image/png": "[encoded data removed]",
            "text/plain": [
              "<Figure size 864x1080 with 15 Axes>"
            ]
          },
          "metadata": {}
        }
      ]
    },
    {
      "cell_type": "code",
      "metadata": {
        "id": "vfv-dz4_1hBn"
      },
      "source": [
        ""
      ],
      "execution_count": null,
      "outputs": []
    }
  ]
}